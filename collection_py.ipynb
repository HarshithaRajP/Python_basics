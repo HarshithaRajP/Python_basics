{
 "cells": [
  {
   "cell_type": "code",
   "execution_count": 1,
   "id": "d5ec3752",
   "metadata": {},
   "outputs": [],
   "source": [
    "#lib\n",
    "from collections import Counter\n"
   ]
  },
  {
   "cell_type": "code",
   "execution_count": 2,
   "id": "a96ce40a",
   "metadata": {},
   "outputs": [
    {
     "name": "stdout",
     "output_type": "stream",
     "text": [
      "Counter({'C': 6, 'B': 5, 'A': 3})\n"
     ]
    }
   ],
   "source": [
    "#with dictionary\n",
    "print(Counter({'A':3,'B':5,'C':6}))"
   ]
  },
  {
   "cell_type": "code",
   "execution_count": 3,
   "id": "7aebe2ac",
   "metadata": {},
   "outputs": [
    {
     "name": "stdout",
     "output_type": "stream",
     "text": [
      "Counter({'A': 3, 'B': 2, 'C': 2, 'D': 1, 'X': 1, 'E': 1})\n"
     ]
    }
   ],
   "source": [
    "print(Counter(['B','A','C','A','D','X','C','A','B','E']))"
   ]
  },
  {
   "cell_type": "code",
   "execution_count": 4,
   "id": "6c322359",
   "metadata": {},
   "outputs": [
    {
     "name": "stdout",
     "output_type": "stream",
     "text": [
      "Counter({'B': 5, 'A': 3, 'C': 2})\n"
     ]
    }
   ],
   "source": [
    "#with keyword argument\n",
    "print(Counter(A=3,B=5,C=2))"
   ]
  },
  {
   "cell_type": "code",
   "execution_count": 5,
   "id": "81f75903",
   "metadata": {},
   "outputs": [
    {
     "name": "stdout",
     "output_type": "stream",
     "text": [
      "Counter({2: 5, 7: 4, 4: 3, 6: 3, 5: 3, 3: 2, 8: 2, 9: 2, 1: 1, 56: 1, 46: 1, 74: 1, 789: 1})\n"
     ]
    }
   ],
   "source": [
    "#pdation in counters\n",
    "var1 = Counter()\n",
    "\n",
    "data =[1,2,3,4,56,6,7,8,9,5,2,46,7,74,3,2,2,5,7,5,4,6,789,9,2,4,6,7,8]\n",
    "\n",
    "var1.update(data)\n",
    "print(var1)"
   ]
  },
  {
   "cell_type": "code",
   "execution_count": 7,
   "id": "7dd5b94d",
   "metadata": {},
   "outputs": [
    {
     "name": "stdout",
     "output_type": "stream",
     "text": [
      "Counter({'a': 3, 'b': 2, 'd': 0, 'c': -5})\n"
     ]
    }
   ],
   "source": [
    "#substract two counters\n",
    "var1 = Counter(a=5,b=6,c=5,d=3)\n",
    "var2 =Counter(a=2,b=4,c=10,d=3)\n",
    "\n",
    "var1.subtract(var2)\n",
    "print(var1)\n",
    "\n"
   ]
  },
  {
   "cell_type": "code",
   "execution_count": 9,
   "id": "bc9274fa",
   "metadata": {},
   "outputs": [
    {
     "name": "stdout",
     "output_type": "stream",
     "text": [
      "Counter({'j': 5, 'h': 4, 'e': 4, 'f': 3, 'd': 3, 's': 3, 'u': 3, 'w': 3, 'a': 2, 'g': 2, 'r': 2, 'b': 1, 'n': 1, 'y': 1, 'i': 1, 'o': 1, 'v': 1, 'c': 1})\n",
      "keys=   dict_keys(['a', 'b', 'n', 'f', 'g', 'd', 's', 'h', 'j', 'r', 'y', 'u', 'w', 'e', 'i', 'o', 'v', 'c'])\n",
      "values=   dict_values([2, 1, 1, 3, 2, 3, 3, 4, 5, 2, 1, 3, 3, 4, 1, 1, 1, 1])\n",
      "items= dict_items([('a', 2), ('b', 1), ('n', 1), ('f', 3), ('g', 2), ('d', 3), ('s', 3), ('h', 4), ('j', 5), ('r', 2), ('y', 1), ('u', 3), ('w', 3), ('e', 4), ('i', 1), ('o', 1), ('v', 1), ('c', 1)])\n"
     ]
    }
   ],
   "source": [
    "#printing Counter variables\n",
    "\n",
    "var1 = Counter(\"abnfgdshjryuweiojvjajswdgeehwjhfcsdhuferu\")\n",
    "print(var1)\n",
    "\n",
    "print(\"keys=  \",var1.keys())\n",
    "print(\"values=  \",var1.values())\n",
    "print(\"items=\",var1.items())\n"
   ]
  },
  {
   "cell_type": "code",
   "execution_count": 15,
   "id": "65605c5b",
   "metadata": {},
   "outputs": [
    {
     "name": "stdout",
     "output_type": "stream",
     "text": [
      "Dict\n",
      "{'Name': 'Sahana', 'age': 12, 'class': 5, 'school': 'ABC'}\n",
      "Keys =  Name   Values=  Sahana\n",
      "Keys =  age   Values=  12\n",
      "Keys =  class   Values=  5\n",
      "Keys =  school   Values=  ABC\n"
     ]
    }
   ],
   "source": [
    "print(\"Dict\")\n",
    "\n",
    "var={}\n",
    "\n",
    "var['Name'] = \"Sahana\"\n",
    "var['age'] = 12\n",
    "var['class'] = 5\n",
    "var[\"school\"]  = \"ABC\"\n",
    "\n",
    "print(var)\n",
    "\n",
    "for key,values in var.items():\n",
    "    print(\"Keys = \",key,\" \",\"Values= \",values)"
   ]
  },
  {
   "cell_type": "code",
   "execution_count": 18,
   "id": "091fe960",
   "metadata": {},
   "outputs": [
    {
     "name": "stdout",
     "output_type": "stream",
     "text": [
      "OrderedDict\n",
      "OrderedDict([('StudentName', 'Aruna'), ('StudentId', 2), ('Course', 'python')])\n",
      "Keys= StudentName   Values= Aruna\n",
      "Keys= StudentId   Values= 2\n",
      "Keys= Course   Values= python\n"
     ]
    }
   ],
   "source": [
    "from collections import OrderedDict\n",
    "\n",
    "print(\"OrderedDict\")\n",
    "var1 = OrderedDict()\n",
    "\n",
    "var1['StudentName'] = \"Aruna\"\n",
    "\n",
    "var1['StudentId'] = 2\n",
    "\n",
    "var1['Course'] = \"python\"\n",
    "\n",
    "print(var1)\n",
    "\n",
    "for key,values in var1.items():\n",
    "    print(\"Keys=\",key,\" \",\"Values=\",values)"
   ]
  },
  {
   "cell_type": "markdown",
   "id": "c94203c6",
   "metadata": {},
   "source": [
    "# "
   ]
  },
  {
   "cell_type": "code",
   "execution_count": 19,
   "id": "aee5ae03",
   "metadata": {},
   "outputs": [
    {
     "data": {
      "text/plain": [
       "'python'"
      ]
     },
     "execution_count": 19,
     "metadata": {},
     "output_type": "execute_result"
    }
   ],
   "source": [
    "var1.pop('Course')"
   ]
  },
  {
   "cell_type": "code",
   "execution_count": 20,
   "id": "47352bf8",
   "metadata": {},
   "outputs": [
    {
     "name": "stdout",
     "output_type": "stream",
     "text": [
      "OrderedDict([('StudentName', 'Aruna'), ('StudentId', 2)])\n"
     ]
    }
   ],
   "source": [
    "#aftwr delete\n",
    "print(var1)"
   ]
  },
  {
   "cell_type": "code",
   "execution_count": 21,
   "id": "15f1624c",
   "metadata": {},
   "outputs": [],
   "source": [
    "var1['Course'] =\"Data analysis\""
   ]
  },
  {
   "cell_type": "code",
   "execution_count": 22,
   "id": "cda6dc50",
   "metadata": {},
   "outputs": [
    {
     "name": "stdout",
     "output_type": "stream",
     "text": [
      "OrderedDict([('StudentName', 'Aruna'), ('StudentId', 2), ('Course', 'Data analysis')])\n"
     ]
    }
   ],
   "source": [
    "#after re-inserting the data\n",
    "print(var1)"
   ]
  },
  {
   "cell_type": "code",
   "execution_count": 23,
   "id": "98eaa3e1",
   "metadata": {},
   "outputs": [
    {
     "name": "stdout",
     "output_type": "stream",
     "text": [
      "defaultdict(<class 'int'>, {1: 2, 2: 2, 3: 3, 45: 1, 66: 1, 77: 3, 88: 4, 56: 1, 23: 1})\n"
     ]
    }
   ],
   "source": [
    " #initializing default dict objects\n",
    "    \n",
    "from collections import defaultdict\n",
    "\n",
    "dd = defaultdict(int)\n",
    "\n",
    "lists= [1,2,3,45,66,77,88,3,56,23,3,2,1,88,77,77,88,88]\n",
    "\n",
    "for i in lists:\n",
    "    dd[i] +=1\n",
    "    \n",
    "print(dd)    "
   ]
  },
  {
   "cell_type": "code",
   "execution_count": 25,
   "id": "5feb4c0d",
   "metadata": {},
   "outputs": [
    {
     "name": "stdout",
     "output_type": "stream",
     "text": [
      "defaultdict(<class 'list'>, {1: [1], 2: [2], 3: [3], 4: [4], 5: [5], 6: [6], 7: [7], 8: [8], 9: [9], 10: [10]})\n"
     ]
    }
   ],
   "source": [
    "\n",
    "dd1 = defaultdict(list)\n",
    "\n",
    "for i in range(1,11):\n",
    "    dd1[i].append(i)\n",
    "    \n",
    "print(dd1)"
   ]
  },
  {
   "cell_type": "code",
   "execution_count": 27,
   "id": "0f50fc31",
   "metadata": {},
   "outputs": [
    {
     "name": "stdout",
     "output_type": "stream",
     "text": [
      "ChainMap({'a': 1, 'b': 3, 'c': 6}, {'a': 3, 'd': 5, 'e': 7}, {'e': 7, 'f': 7, 'g': 10})\n"
     ]
    }
   ],
   "source": [
    "#Chainmap\n",
    "\n",
    "from collections import ChainMap\n",
    "\n",
    "var1 = {\"a\":1,\"b\":3,\"c\":6}\n",
    "var2 = {\"a\":3,\"d\":5,\"e\":7}\n",
    "var3 = {\"e\":7,\"f\":7,\"g\":10}\n",
    "\n",
    "var4 = ChainMap(var1,var2,var3)\n",
    "\n",
    "print(var4)\n"
   ]
  },
  {
   "cell_type": "code",
   "execution_count": 28,
   "id": "38d5d6c0",
   "metadata": {},
   "outputs": [
    {
     "name": "stdout",
     "output_type": "stream",
     "text": [
      "7\n"
     ]
    }
   ],
   "source": [
    "print(var4['e'])"
   ]
  },
  {
   "cell_type": "code",
   "execution_count": 29,
   "id": "88921655",
   "metadata": {},
   "outputs": [
    {
     "name": "stdout",
     "output_type": "stream",
     "text": [
      "KeysView(ChainMap({'a': 1, 'b': 3, 'c': 6}, {'a': 3, 'd': 5, 'e': 7}, {'e': 7, 'f': 7, 'g': 10}))\n"
     ]
    }
   ],
   "source": [
    "print(var4.keys())"
   ]
  },
  {
   "cell_type": "code",
   "execution_count": 30,
   "id": "441a1b19",
   "metadata": {},
   "outputs": [
    {
     "name": "stdout",
     "output_type": "stream",
     "text": [
      "ValuesView(ChainMap({'a': 1, 'b': 3, 'c': 6}, {'a': 3, 'd': 5, 'e': 7}, {'e': 7, 'f': 7, 'g': 10}))\n"
     ]
    }
   ],
   "source": [
    "print(var4.values())"
   ]
  },
  {
   "cell_type": "code",
   "execution_count": 31,
   "id": "2fb2ed09",
   "metadata": {},
   "outputs": [
    {
     "name": "stdout",
     "output_type": "stream",
     "text": [
      "All the ChainMap contents are:\n",
      "ChainMap({'a': 1, 'b': 3, 'c': 6}, {'a': 3, 'd': 5, 'e': 7})\n",
      "Displaying new ChainMap :\n",
      "ChainMap({'e': 7, 'f': 7, 'g': 10}, {'a': 1, 'b': 3, 'c': 6}, {'a': 3, 'd': 5, 'e': 7})\n"
     ]
    }
   ],
   "source": [
    "#Adding new dictionary\n",
    "\n",
    "from collections  import ChainMap\n",
    "\n",
    "p1 = {\"a\":1, \"b\":3,\"c\":6}\n",
    "p2 = {\"a\":3 , \"d\":5,\"e\":7}\n",
    "c1 = {\"e\":7,\"f\":7,\"g\":10}\n",
    "\n",
    "main = ChainMap(p1,p2)\n",
    "\n",
    "#printing chainMap\n",
    "print(\"All the ChainMap contents are:\")\n",
    "print(main)\n",
    "\n",
    "main1 = main.new_child(c1)\n",
    "\n",
    "print(\"Displaying new ChainMap:\")\n",
    "print(main1)"
   ]
  },
  {
   "cell_type": "code",
   "execution_count": 3,
   "id": "e0033568",
   "metadata": {},
   "outputs": [
    {
     "name": "stdout",
     "output_type": "stream",
     "text": [
      "Before using _make() student(name='Nandini', age='19', DOB='253567')\n",
      "----------------------------\n",
      "The namedtuple instance using iterable is:\n",
      "student(name='Manjeet', age='19', DOB='41976')\n"
     ]
    }
   ],
   "source": [
    "#named tuple\n",
    "\n",
    "from collections import namedtuple\n",
    "\n",
    "student =namedtuple('student',['name','age','DOB'])\n",
    "S = student('Nandini','19','253567')\n",
    "print(\"Before using _make()\",S)\n",
    "print(\"----------------------------\")\n",
    "li = ['Manjeet','19','41976']\n",
    "print(\"The namedtuple instance using iterable is:\")\n",
    "print(student._make(li))"
   ]
  },
  {
   "cell_type": "code",
   "execution_count": 8,
   "id": "0f115b3c",
   "metadata": {},
   "outputs": [
    {
     "name": "stdout",
     "output_type": "stream",
     "text": [
      "The orderedDict instance using namedtuple is: \n",
      "{'name': 'Nandini', 'age': '19', 'DOB': '253567'}\n"
     ]
    }
   ],
   "source": [
    "#initializing  iterable\n",
    "li = ['Manjeet','19','41976']\n",
    "\n",
    "di = {'name': \"harshi\",'age': 19,'DOB' :'13929872'}\n",
    "print(\"The orderedDict instance using namedtuple is: \")\n",
    "print(S._asdict())"
   ]
  },
  {
   "cell_type": "code",
   "execution_count": 1,
   "id": "a199df77",
   "metadata": {},
   "outputs": [],
   "source": [
    "from collections import deque\n"
   ]
  },
  {
   "cell_type": "code",
   "execution_count": null,
   "id": "13f4780d",
   "metadata": {},
   "outputs": [],
   "source": []
  }
 ],
 "metadata": {
  "kernelspec": {
   "display_name": "Python 3 (ipykernel)",
   "language": "python",
   "name": "python3"
  },
  "language_info": {
   "codemirror_mode": {
    "name": "ipython",
    "version": 3
   },
   "file_extension": ".py",
   "mimetype": "text/x-python",
   "name": "python",
   "nbconvert_exporter": "python",
   "pygments_lexer": "ipython3",
   "version": "3.11.5"
  }
 },
 "nbformat": 4,
 "nbformat_minor": 5
}
