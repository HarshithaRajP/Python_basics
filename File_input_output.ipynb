{
 "cells": [
  {
   "cell_type": "code",
   "execution_count": 10,
   "id": "fce6c01f",
   "metadata": {},
   "outputs": [
    {
     "name": "stdout",
     "output_type": "stream",
     "text": [
      "wjawjfhiowfuwpfnwcnwhfiwufwfgjow[ap\n"
     ]
    }
   ],
   "source": [
    "#f = open(\"demo.txt\",\"rt\")\n",
    "f=open(\"demo.txt\",\"r\")\n",
    "print(f.read())\n"
   ]
  },
  {
   "cell_type": "code",
   "execution_count": 11,
   "id": "a5a65a8e",
   "metadata": {},
   "outputs": [
    {
     "name": "stdout",
     "output_type": "stream",
     "text": [
      "\n"
     ]
    }
   ],
   "source": [
    "print(f.read())\n"
   ]
  },
  {
   "cell_type": "code",
   "execution_count": 9,
   "id": "328560cb",
   "metadata": {},
   "outputs": [
    {
     "ename": "ValueError",
     "evalue": "I/O operation on closed file.",
     "output_type": "error",
     "traceback": [
      "\u001b[1;31m---------------------------------------------------------------------------\u001b[0m",
      "\u001b[1;31mValueError\u001b[0m                                Traceback (most recent call last)",
      "Cell \u001b[1;32mIn[9], line 2\u001b[0m\n\u001b[0;32m      1\u001b[0m \u001b[38;5;66;03m#You can return one line by using the readline() method:\u001b[39;00m\n\u001b[1;32m----> 2\u001b[0m \u001b[38;5;28mprint\u001b[39m(f\u001b[38;5;241m.\u001b[39mreadline())\n\u001b[0;32m      4\u001b[0m \u001b[38;5;66;03m#By looping through the lines of the file,you can read the whole file\u001b[39;00m\n\u001b[0;32m      6\u001b[0m \u001b[38;5;28;01mfor\u001b[39;00m x \u001b[38;5;129;01min\u001b[39;00m f:\n",
      "\u001b[1;31mValueError\u001b[0m: I/O operation on closed file."
     ]
    }
   ],
   "source": [
    "#You can return one line by using the readline() method:\n",
    "print(f.readline())\n",
    "\n",
    "#By looping through the lines of the file,you can read the whole file\n",
    "\n",
    "for x in f:\n",
    "    print(x)\n",
    "        \n",
    "#it is good practice to always close the file when you are done\n",
    "f.close()\n"
   ]
  },
  {
   "cell_type": "code",
   "execution_count": 4,
   "id": "cfd737d0",
   "metadata": {},
   "outputs": [
    {
     "name": "stdout",
     "output_type": "stream",
     "text": [
      "wjawjfhiowfuwpfnwcnwhfiwufwfgjow[ap\n"
     ]
    }
   ],
   "source": [
    "f = open(\"dummy.txt\",\"a\")\n",
    "# f.write(\"\"\"To write to an existing file,you must add a parameter to the open()\n",
    "\n",
    "# \"a\"- Append - will append to the end of the file\n",
    "\n",
    "# \"w\"-Write - will overwrite any existing content\"\"\")\n",
    "\n",
    "f.close()\n",
    "f = open(\"demo.txt\",\"r\")\n",
    "print(f.read())"
   ]
  },
  {
   "cell_type": "code",
   "execution_count": 1,
   "id": "a3f45f27",
   "metadata": {},
   "outputs": [
    {
     "data": {
      "text/plain": [
       "7"
      ]
     },
     "execution_count": 1,
     "metadata": {},
     "output_type": "execute_result"
    }
   ],
   "source": [
    "f = open(\"demo3.txt\",\"w\")\n",
    "f.write(\"Educadd\")\n"
   ]
  },
  {
   "cell_type": "code",
   "execution_count": null,
   "id": "4ae2bf9b",
   "metadata": {},
   "outputs": [],
   "source": []
  }
 ],
 "metadata": {
  "kernelspec": {
   "display_name": "Python 3 (ipykernel)",
   "language": "python",
   "name": "python3"
  },
  "language_info": {
   "codemirror_mode": {
    "name": "ipython",
    "version": 3
   },
   "file_extension": ".py",
   "mimetype": "text/x-python",
   "name": "python",
   "nbconvert_exporter": "python",
   "pygments_lexer": "ipython3",
   "version": "3.11.5"
  }
 },
 "nbformat": 4,
 "nbformat_minor": 5
}
