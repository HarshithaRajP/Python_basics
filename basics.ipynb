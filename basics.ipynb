{
 "cells": [
  {
   "cell_type": "markdown",
   "id": "2c9700da",
   "metadata": {},
   "source": [
    "#  #data types\n",
    "    string='',\"\",''''''\n",
    "    int=\n",
    "    boolean=True r False\n",
    "    float=1.1\n",
    "    complex=1+j7\n",
    "    Advanced datatypes\n",
    "    List[]\n",
    "    tuples()\n",
    "    Dict.{Keys:Values}\n",
    "    set{}\n",
    "    "
   ]
  },
  {
   "cell_type": "markdown",
   "id": "3319af4f",
   "metadata": {},
   "source": [
    "# data types"
   ]
  },
  {
   "cell_type": "code",
   "execution_count": 2,
   "id": "12f37a62",
   "metadata": {},
   "outputs": [
    {
     "name": "stdout",
     "output_type": "stream",
     "text": [
      "<class 'str'>\n"
     ]
    }
   ],
   "source": [
    "num1=\"5.55\"\n",
    "print(type(num1))"
   ]
  },
  {
   "cell_type": "code",
   "execution_count": 2,
   "id": "564d639c",
   "metadata": {},
   "outputs": [
    {
     "ename": "NameError",
     "evalue": "name 'number' is not defined",
     "output_type": "error",
     "traceback": [
      "\u001b[1;31m---------------------------------------------------------------------------\u001b[0m",
      "\u001b[1;31mNameError\u001b[0m                                 Traceback (most recent call last)",
      "Cell \u001b[1;32mIn[2], line 2\u001b[0m\n\u001b[0;32m      1\u001b[0m var1\u001b[38;5;241m=\u001b[39m\u001b[38;5;241m5.55\u001b[39m\n\u001b[1;32m----> 2\u001b[0m \u001b[38;5;28mprint\u001b[39m(\u001b[38;5;28mtype\u001b[39m(number))\n",
      "\u001b[1;31mNameError\u001b[0m: name 'number' is not defined"
     ]
    }
   ],
   "source": [
    "var1=5.55\n",
    "print(type(number))"
   ]
  },
  {
   "cell_type": "code",
   "execution_count": 3,
   "id": "bf8d2451",
   "metadata": {},
   "outputs": [
    {
     "name": "stdout",
     "output_type": "stream",
     "text": [
      "<class 'int'>\n"
     ]
    }
   ],
   "source": [
    "number=1234\n",
    "print(type(number))"
   ]
  },
  {
   "cell_type": "code",
   "execution_count": 4,
   "id": "a3985eba",
   "metadata": {},
   "outputs": [
    {
     "ename": "NameError",
     "evalue": "name 'b' is not defined",
     "output_type": "error",
     "traceback": [
      "\u001b[1;31m---------------------------------------------------------------------------\u001b[0m",
      "\u001b[1;31mNameError\u001b[0m                                 Traceback (most recent call last)",
      "Cell \u001b[1;32mIn[4], line 2\u001b[0m\n\u001b[0;32m      1\u001b[0m \u001b[38;5;66;03m# b=1+0j\u001b[39;00m\n\u001b[1;32m----> 2\u001b[0m \u001b[38;5;28mprint\u001b[39m(\u001b[38;5;28mtype\u001b[39m(b))\n",
      "\u001b[1;31mNameError\u001b[0m: name 'b' is not defined"
     ]
    }
   ],
   "source": [
    "# b=1+0j\n",
    "print(type(b))"
   ]
  },
  {
   "cell_type": "code",
   "execution_count": null,
   "id": "938f49d7",
   "metadata": {},
   "outputs": [],
   "source": [
    "# num2=true\n",
    "print(type(num2))"
   ]
  },
  {
   "cell_type": "markdown",
   "id": "34257f67",
   "metadata": {},
   "source": [
    "# TYPE CASTING\n",
    "# builtin data types int complex float str bool\n",
    "# list tuple dict set\n"
   ]
  },
  {
   "cell_type": "code",
   "execution_count": 6,
   "id": "b289f6b7",
   "metadata": {},
   "outputs": [
    {
     "name": "stdout",
     "output_type": "stream",
     "text": [
      "a value is: 10\n",
      "<class 'int'>\n",
      "---------\n",
      "(10+0j)\n",
      "<class 'complex'>\n"
     ]
    }
   ],
   "source": [
    "a=10\n",
    "print(\"a value is:\",a)\n",
    "print(type(a))\n",
    "print(\"---------\")\n",
    "d=complex(a)\n",
    "print(d)\n",
    "print(type(d))"
   ]
  },
  {
   "cell_type": "code",
   "execution_count": 7,
   "id": "fe9c67ba",
   "metadata": {},
   "outputs": [
    {
     "name": "stdout",
     "output_type": "stream",
     "text": [
      "a value is: 10\n",
      "<class 'int'>\n",
      "---------\n",
      "10.0\n",
      "<class 'float'>\n"
     ]
    }
   ],
   "source": [
    "a=10\n",
    "print(\"a value is:\",a)\n",
    "print(type(a))\n",
    "print(\"---------\")\n",
    "d=float(a)\n",
    "print(d)\n",
    "print(type(d))"
   ]
  },
  {
   "cell_type": "code",
   "execution_count": 8,
   "id": "bca82a74",
   "metadata": {},
   "outputs": [
    {
     "name": "stdout",
     "output_type": "stream",
     "text": [
      "a value is: 10\n",
      "<class 'int'>\n",
      "---------\n",
      "True\n",
      "<class 'bool'>\n"
     ]
    }
   ],
   "source": [
    "a=10\n",
    "print(\"a value is:\",a)\n",
    "print(type(a))\n",
    "print(\"---------\")\n",
    "d=bool(a)\n",
    "print(d)\n",
    "print(type(d))"
   ]
  },
  {
   "cell_type": "code",
   "execution_count": null,
   "id": "746e25be",
   "metadata": {},
   "outputs": [],
   "source": [
    "a=10\n",
    "print(\"a value is:\",a)\n",
    "print(type(a))\n",
    "print(\"---------\")\n",
    "d=complex(a)\n",
    "print(d)\n",
    "print(type(d))"
   ]
  },
  {
   "cell_type": "code",
   "execution_count": 9,
   "id": "943c86c0",
   "metadata": {},
   "outputs": [
    {
     "name": "stdout",
     "output_type": "stream",
     "text": [
      "a value is: (10+7j)\n",
      "<class 'complex'>\n",
      "---------\n"
     ]
    },
    {
     "ename": "TypeError",
     "evalue": "int() argument must be a string, a bytes-like object or a real number, not 'complex'",
     "output_type": "error",
     "traceback": [
      "\u001b[1;31m---------------------------------------------------------------------------\u001b[0m",
      "\u001b[1;31mTypeError\u001b[0m                                 Traceback (most recent call last)",
      "Cell \u001b[1;32mIn[9], line 5\u001b[0m\n\u001b[0;32m      3\u001b[0m \u001b[38;5;28mprint\u001b[39m(\u001b[38;5;28mtype\u001b[39m(a))\n\u001b[0;32m      4\u001b[0m \u001b[38;5;28mprint\u001b[39m(\u001b[38;5;124m\"\u001b[39m\u001b[38;5;124m---------\u001b[39m\u001b[38;5;124m\"\u001b[39m)\n\u001b[1;32m----> 5\u001b[0m d\u001b[38;5;241m=\u001b[39m\u001b[38;5;28mint\u001b[39m(a)\n\u001b[0;32m      6\u001b[0m \u001b[38;5;28mprint\u001b[39m(d)\n\u001b[0;32m      7\u001b[0m \u001b[38;5;28mprint\u001b[39m(\u001b[38;5;28mtype\u001b[39m(d))\n",
      "\u001b[1;31mTypeError\u001b[0m: int() argument must be a string, a bytes-like object or a real number, not 'complex'"
     ]
    }
   ],
   "source": [
    "a=10+7j\n",
    "print(\"a value is:\",a)\n",
    "print(type(a))\n",
    "print(\"---------\")\n",
    "d=int(a)\n",
    "print(d)\n",
    "print(type(d))\n"
   ]
  },
  {
   "cell_type": "code",
   "execution_count": 10,
   "id": "921267c4",
   "metadata": {},
   "outputs": [
    {
     "name": "stdout",
     "output_type": "stream",
     "text": [
      "a value is: string\n",
      "<class 'str'>\n",
      "---------\n",
      "True\n",
      "<class 'bool'>\n"
     ]
    }
   ],
   "source": [
    "a=\"string\"\n",
    "print(\"a value is:\",a)\n",
    "print(type(a))\n",
    "print(\"---------\")\n",
    "d=bool(a)\n",
    "print(d)\n",
    "print(type(d))"
   ]
  },
  {
   "cell_type": "code",
   "execution_count": 11,
   "id": "3ed6890c",
   "metadata": {},
   "outputs": [
    {
     "name": "stdout",
     "output_type": "stream",
     "text": [
      "a value is: 1.111\n",
      "<class 'float'>\n",
      "---------\n",
      "(1.111+0j)\n",
      "<class 'complex'>\n"
     ]
    }
   ],
   "source": [
    "a=1.111\n",
    "print(\"a value is:\",a)\n",
    "print(type(a))\n",
    "print(\"---------\")\n",
    "d=complex(a)\n",
    "print(d)\n",
    "print(type(d))"
   ]
  },
  {
   "cell_type": "code",
   "execution_count": 12,
   "id": "a813f830",
   "metadata": {},
   "outputs": [
    {
     "name": "stdout",
     "output_type": "stream",
     "text": [
      "before converting\n",
      "<class 'int'>\n",
      "----------\n",
      "After converting\n",
      "10\n",
      "<class 'str'>\n"
     ]
    }
   ],
   "source": [
    "num=10\n",
    "print(\"before converting\")\n",
    "print(type(num))\n",
    "print(\"----------\")\n",
    "string=str(num)\n",
    "print(\"After converting\")\n",
    "print(string)\n",
    "print(type(string))"
   ]
  },
  {
   "cell_type": "code",
   "execution_count": 13,
   "id": "380780d1",
   "metadata": {},
   "outputs": [
    {
     "name": "stdout",
     "output_type": "stream",
     "text": [
      "a value is: (10+7j)\n",
      "<class 'complex'>\n",
      "---------\n"
     ]
    },
    {
     "ename": "TypeError",
     "evalue": "float() argument must be a string or a real number, not 'complex'",
     "output_type": "error",
     "traceback": [
      "\u001b[1;31m---------------------------------------------------------------------------\u001b[0m",
      "\u001b[1;31mTypeError\u001b[0m                                 Traceback (most recent call last)",
      "Cell \u001b[1;32mIn[13], line 5\u001b[0m\n\u001b[0;32m      3\u001b[0m \u001b[38;5;28mprint\u001b[39m(\u001b[38;5;28mtype\u001b[39m(a))\n\u001b[0;32m      4\u001b[0m \u001b[38;5;28mprint\u001b[39m(\u001b[38;5;124m\"\u001b[39m\u001b[38;5;124m---------\u001b[39m\u001b[38;5;124m\"\u001b[39m)\n\u001b[1;32m----> 5\u001b[0m d\u001b[38;5;241m=\u001b[39m\u001b[38;5;28mfloat\u001b[39m(a)\n\u001b[0;32m      6\u001b[0m \u001b[38;5;28mprint\u001b[39m(d)\n\u001b[0;32m      7\u001b[0m \u001b[38;5;28mprint\u001b[39m(\u001b[38;5;28mtype\u001b[39m(d))\n",
      "\u001b[1;31mTypeError\u001b[0m: float() argument must be a string or a real number, not 'complex'"
     ]
    }
   ],
   "source": [
    "a=10+7j\n",
    "print(\"a value is:\",a)\n",
    "print(type(a))\n",
    "print(\"---------\")\n",
    "d=float(a)\n",
    "print(d)\n",
    "print(type(d))"
   ]
  },
  {
   "cell_type": "code",
   "execution_count": 14,
   "id": "effd0ba2",
   "metadata": {},
   "outputs": [
    {
     "name": "stdout",
     "output_type": "stream",
     "text": [
      "a value is: (10+1j)\n",
      "<class 'complex'>\n",
      "---------\n",
      "(10+1j)\n",
      "<class 'str'>\n"
     ]
    }
   ],
   "source": [
    "a=10+1j\n",
    "print(\"a value is:\",a)\n",
    "print(type(a))\n",
    "print(\"---------\")\n",
    "d=str(a)\n",
    "print(d)\n",
    "print(type(d))"
   ]
  },
  {
   "cell_type": "code",
   "execution_count": 15,
   "id": "b6e97fd9",
   "metadata": {},
   "outputs": [
    {
     "name": "stdout",
     "output_type": "stream",
     "text": [
      "a value is: (10+1j)\n",
      "<class 'complex'>\n",
      "---------\n",
      "True\n",
      "<class 'bool'>\n"
     ]
    }
   ],
   "source": [
    "a=10+1j\n",
    "print(\"a value is:\",a)\n",
    "print(type(a))\n",
    "print(\"---------\")\n",
    "d=bool(a)\n",
    "print(d)\n",
    "print(type(d))"
   ]
  },
  {
   "cell_type": "code",
   "execution_count": 16,
   "id": "34e9801a",
   "metadata": {},
   "outputs": [
    {
     "ename": "NameError",
     "evalue": "name 'true' is not defined",
     "output_type": "error",
     "traceback": [
      "\u001b[1;31m---------------------------------------------------------------------------\u001b[0m",
      "\u001b[1;31mNameError\u001b[0m                                 Traceback (most recent call last)",
      "Cell \u001b[1;32mIn[16], line 1\u001b[0m\n\u001b[1;32m----> 1\u001b[0m a\u001b[38;5;241m=\u001b[39mtrue\n\u001b[0;32m      2\u001b[0m \u001b[38;5;28mprint\u001b[39m(\u001b[38;5;124m\"\u001b[39m\u001b[38;5;124ma value is:\u001b[39m\u001b[38;5;124m\"\u001b[39m,a)\n\u001b[0;32m      3\u001b[0m \u001b[38;5;28mprint\u001b[39m(\u001b[38;5;28mtype\u001b[39m(a))\n",
      "\u001b[1;31mNameError\u001b[0m: name 'true' is not defined"
     ]
    }
   ],
   "source": [
    "a=\n",
    "print(\"a value is:\",a)\n",
    "print(type(a))\n",
    "print(\"---------\")\n",
    "d=int(a)\n",
    "print(d)\n",
    "print(type(d))"
   ]
  },
  {
   "cell_type": "markdown",
   "id": "a4a3fc87",
   "metadata": {},
   "source": [
    "# operators"
   ]
  },
  {
   "cell_type": "code",
   "execution_count": null,
   "id": "682068bd",
   "metadata": {},
   "outputs": [],
   "source": [
    "Types of operators\n",
    "\n",
    "1.Arithmatic\n",
    "2.Comparision\n",
    "3.Assignment\n",
    "4.Logical\n",
    "5.Bitwise bin\n",
    "6.Membership[ in,Not]\n",
    "7.Identity [is,not]"
   ]
  },
  {
   "cell_type": "code",
   "execution_count": null,
   "id": "5f213ee5",
   "metadata": {},
   "outputs": [],
   "source": [
    "Arithmatic\n",
    "\n",
    "+\n",
    "-\n",
    "*\n",
    "/\n",
    "**\n",
    "%\n",
    "//"
   ]
  },
  {
   "cell_type": "code",
   "execution_count": 17,
   "id": "76116bb3",
   "metadata": {},
   "outputs": [
    {
     "name": "stdout",
     "output_type": "stream",
     "text": [
      "add= 12\n",
      "sub= 8\n",
      "mul= 20\n",
      "div= 5.0\n",
      "expo= 100\n",
      "mod= 0\n",
      "floordiv= 5\n"
     ]
    }
   ],
   "source": [
    "val1=10\n",
    "val2=2\n",
    "\n",
    "add=val1+val2\n",
    "print(\"add=\",add)\n",
    "sub=val1-val2\n",
    "print(\"sub=\",sub)\n",
    "mul=val1*val2\n",
    "print(\"mul=\",mul)\n",
    "div=val1/val2\n",
    "print(\"div=\",div)\n",
    "expo=val1**val2\n",
    "print(\"expo=\",expo)\n",
    "mod=val1%val2\n",
    "print(\"mod=\",mod)\n",
    "floordiv=val1//val2\n",
    "print(\"floordiv=\",floordiv)"
   ]
  },
  {
   "cell_type": "code",
   "execution_count": 19,
   "id": "5b6b1194",
   "metadata": {},
   "outputs": [
    {
     "name": "stdout",
     "output_type": "stream",
     "text": [
      "num1: 10\n",
      "add: 12\n"
     ]
    }
   ],
   "source": [
    "num1=10\n",
    "num2=2\n",
    "print(\"num1:\",num1)\n",
    "num1 += num2\n",
    "print(\"add:\",num1)"
   ]
  },
  {
   "cell_type": "code",
   "execution_count": 20,
   "id": "71275c7b",
   "metadata": {},
   "outputs": [
    {
     "name": "stdout",
     "output_type": "stream",
     "text": [
      "add: 30\n"
     ]
    }
   ],
   "source": [
    "num1=10\n",
    "num2=20\n",
    "\n",
    "add=num1+num2\n",
    "print(\"add:\",add)"
   ]
  },
  {
   "cell_type": "markdown",
   "id": "4cadef6d",
   "metadata": {},
   "source": [
    "# comparision operators"
   ]
  },
  {
   "cell_type": "code",
   "execution_count": null,
   "id": "59240e57",
   "metadata": {},
   "outputs": [],
   "source": [
    "==\n",
    "!=\n",
    "<\n",
    ">\n",
    "<=\n",
    ">="
   ]
  },
  {
   "cell_type": "code",
   "execution_count": 21,
   "id": "4e01b78d",
   "metadata": {},
   "outputs": [
    {
     "name": "stdout",
     "output_type": "stream",
     "text": [
      "True\n",
      "False\n",
      "True\n",
      "False\n",
      "True\n",
      "False\n"
     ]
    }
   ],
   "source": [
    "a=10\n",
    "b=2\n",
    "\n",
    "print(a> b)\n",
    "print(a< b)\n",
    "print(a>= b)\n",
    "print(a<= b)\n",
    "print(a!= b)\n",
    "print(a== b)\n"
   ]
  },
  {
   "cell_type": "markdown",
   "id": "42d79cc7",
   "metadata": {},
   "source": [
    "# assignment"
   ]
  },
  {
   "cell_type": "code",
   "execution_count": null,
   "id": "41d6d538",
   "metadata": {},
   "outputs": [],
   "source": [
    "==\n",
    "+=\n",
    "-=\n",
    "*=\n",
    "/=\n",
    "//=\n",
    "**\n",
    "%="
   ]
  },
  {
   "cell_type": "code",
   "execution_count": 22,
   "id": "7208ad85",
   "metadata": {},
   "outputs": [
    {
     "name": "stdout",
     "output_type": "stream",
     "text": [
      "12\n"
     ]
    }
   ],
   "source": [
    "a=10\n",
    "b=2\n",
    "c=a+b\n",
    "print(c)"
   ]
  },
  {
   "cell_type": "code",
   "execution_count": 23,
   "id": "65eca736",
   "metadata": {},
   "outputs": [
    {
     "name": "stdout",
     "output_type": "stream",
     "text": [
      "12\n"
     ]
    }
   ],
   "source": [
    "a=10\n",
    "a+=2\n",
    "print(a)"
   ]
  },
  {
   "cell_type": "code",
   "execution_count": 24,
   "id": "332a3db8",
   "metadata": {},
   "outputs": [
    {
     "name": "stdout",
     "output_type": "stream",
     "text": [
      "8\n"
     ]
    }
   ],
   "source": [
    "a=10\n",
    "a -= 2\n",
    "print(a)"
   ]
  },
  {
   "cell_type": "code",
   "execution_count": 25,
   "id": "218c6b74",
   "metadata": {},
   "outputs": [
    {
     "name": "stdout",
     "output_type": "stream",
     "text": [
      "200\n"
     ]
    }
   ],
   "source": [
    "a =20\n",
    "a *= 10\n",
    "print(a)"
   ]
  },
  {
   "cell_type": "code",
   "execution_count": 26,
   "id": "c91cb42c",
   "metadata": {},
   "outputs": [
    {
     "name": "stdout",
     "output_type": "stream",
     "text": [
      "400\n"
     ]
    }
   ],
   "source": [
    "a=20\n",
    "a **= 2\n",
    "print(a)"
   ]
  },
  {
   "cell_type": "code",
   "execution_count": 28,
   "id": "15ef4a9c",
   "metadata": {},
   "outputs": [
    {
     "name": "stdout",
     "output_type": "stream",
     "text": [
      "50.0\n"
     ]
    }
   ],
   "source": [
    "a=100\n",
    "a/= 2\n",
    "print(a)  "
   ]
  },
  {
   "cell_type": "code",
   "execution_count": 29,
   "id": "63f67231",
   "metadata": {},
   "outputs": [
    {
     "name": "stdout",
     "output_type": "stream",
     "text": [
      "0\n"
     ]
    }
   ],
   "source": [
    "a=100\n",
    "a%= 2\n",
    "print(a)  "
   ]
  },
  {
   "cell_type": "code",
   "execution_count": 30,
   "id": "66191d51",
   "metadata": {},
   "outputs": [
    {
     "name": "stdout",
     "output_type": "stream",
     "text": [
      "50\n"
     ]
    }
   ],
   "source": [
    "a=100\n",
    "a//= 2\n",
    "print(a)  "
   ]
  },
  {
   "cell_type": "markdown",
   "id": "3ec9271b",
   "metadata": {},
   "source": [
    "# Bitwise operators"
   ]
  },
  {
   "cell_type": "code",
   "execution_count": 31,
   "id": "14bcc4d5",
   "metadata": {},
   "outputs": [
    {
     "data": {
      "text/plain": [
       "'-0b11110'"
      ]
     },
     "execution_count": 31,
     "metadata": {},
     "output_type": "execute_result"
    }
   ],
   "source": [
    "bin(-30) "
   ]
  },
  {
   "cell_type": "code",
   "execution_count": 32,
   "id": "c869b898",
   "metadata": {},
   "outputs": [
    {
     "name": "stdout",
     "output_type": "stream",
     "text": [
      "a: 60 : 0b111100\n",
      "73\n",
      "0b1001001\n"
     ]
    }
   ],
   "source": [
    "a=60\n",
    "b=13\n",
    "print(\"a:\",a,':',bin(a))\n",
    "c=a+b\n",
    "print(c)\n",
    "print(bin(c))"
   ]
  },
  {
   "cell_type": "code",
   "execution_count": 6,
   "id": "3ac18b1a",
   "metadata": {},
   "outputs": [
    {
     "name": "stdout",
     "output_type": "stream",
     "text": [
      "Line 1- a is not available in the given list\n",
      "Line 2- a is not available in the given list\n",
      "2.0\n",
      "Line 3- a is  available in the given list\n",
      "Line 4- a is available in the given list\n"
     ]
    }
   ],
   "source": [
    "#membership\n",
    "a=10\n",
    "b=20\n",
    "lists=[1,2,3,4,5]\n",
    "\n",
    "if(a in lists):\n",
    "    print(\"Line 1- a is available in the given list\")\n",
    "else:\n",
    "    print(\"Line 1- a is not available in the given list\")\n",
    "    \n",
    "if(a not in lists):\n",
    "    print(\"Line 2- a is not available in the given list\")\n",
    "else:\n",
    "    print(\"Line 2- a is  available in the given list\")\n",
    "    \n",
    "c=b/a\n",
    "print(c)\n",
    "    \n",
    "if(c in lists):\n",
    "    print(\"Line 3- a is  available in the given list\")\n",
    "else:\n",
    "    print(\"Line 3- a is not available in the given list\") \n",
    "        \n",
    "if(c not in lists):\n",
    "    print(\"Line 4- a is not  available in the given list\")\n",
    "else:\n",
    "    print(\"Line 4- a is available in the given list\")     \n",
    "\n",
    "\n",
    "    "
   ]
  },
  {
   "cell_type": "markdown",
   "id": "9eecb005",
   "metadata": {},
   "source": [
    "# identity operators"
   ]
  },
  {
   "cell_type": "code",
   "execution_count": 7,
   "id": "bbf748bc",
   "metadata": {},
   "outputs": [
    {
     "name": "stdout",
     "output_type": "stream",
     "text": [
      "a= 10 : 140706231391304 \n",
      " b= 10 : 140706231391304\n",
      "L2- a and b have same identity\n",
      "L3- a and b have same identity\n",
      "L4- a and b  have same identity\n"
     ]
    }
   ],
   "source": [
    "a= 10\n",
    "b =10\n",
    "print('a=',a,':',id(a),'\\n','b=',b,':',id(b))\n",
    "\n",
    "if(a is b):\n",
    "    print('L2- a and b have same identity')\n",
    "else:\n",
    "    print('L2- a and b donot have same identity')\n",
    "if(id(a) == id(b)):\n",
    "    print('L3- a and b have same identity')\n",
    "else:\n",
    "    print('L3- a and b donot have same identity')   \n",
    "if(a is not b):\n",
    "    print('L4- a and b donot have same identity')\n",
    "else:\n",
    "    print('L4- a and b  have same identity')"
   ]
  },
  {
   "cell_type": "markdown",
   "id": "e1b753cc",
   "metadata": {},
   "source": [
    "# loical operators"
   ]
  },
  {
   "cell_type": "code",
   "execution_count": null,
   "id": "3a5f2ff2",
   "metadata": {},
   "outputs": [],
   "source": [
    "and\n",
    "or\n",
    "not\n"
   ]
  },
  {
   "cell_type": "code",
   "execution_count": 5,
   "id": "d5ef7d8e",
   "metadata": {},
   "outputs": [
    {
     "name": "stdout",
     "output_type": "stream",
     "text": [
      "True\n"
     ]
    }
   ],
   "source": [
    "num1 =10\n",
    "\n",
    "print(num1 >= 10 and  num1 <= 12 )\n",
    "\n"
   ]
  },
  {
   "cell_type": "code",
   "execution_count": 6,
   "id": "a1e1d05a",
   "metadata": {},
   "outputs": [
    {
     "name": "stdout",
     "output_type": "stream",
     "text": [
      "True\n"
     ]
    }
   ],
   "source": [
    "num2 = 10\n",
    "print(num2 > 10 or num2<= 10)"
   ]
  },
  {
   "cell_type": "code",
   "execution_count": 7,
   "id": "f74fc08b",
   "metadata": {},
   "outputs": [
    {
     "name": "stdout",
     "output_type": "stream",
     "text": [
      "True\n"
     ]
    }
   ],
   "source": [
    "#and operator\n",
    "\n",
    "x=5\n",
    "print(x >3 and x < 10)"
   ]
  },
  {
   "cell_type": "code",
   "execution_count": 9,
   "id": "d7ae8f40",
   "metadata": {},
   "outputs": [
    {
     "name": "stdout",
     "output_type": "stream",
     "text": [
      "True\n"
     ]
    }
   ],
   "source": [
    "#or operator\n",
    "x=5\n",
    "print(x >3 or x > 10)"
   ]
  },
  {
   "cell_type": "code",
   "execution_count": 10,
   "id": "0b1255df",
   "metadata": {},
   "outputs": [
    {
     "name": "stdout",
     "output_type": "stream",
     "text": [
      "False\n"
     ]
    }
   ],
   "source": [
    "#not oeprator\n",
    "\n",
    "x=5\n",
    "print(not(x >3 and x < 10))"
   ]
  },
  {
   "cell_type": "code",
   "execution_count": 11,
   "id": "f63217cf",
   "metadata": {},
   "outputs": [
    {
     "name": "stdout",
     "output_type": "stream",
     "text": [
      "False\n"
     ]
    }
   ],
   "source": [
    "x=5\n",
    "print(not(x >3 or x < 10))"
   ]
  },
  {
   "cell_type": "code",
   "execution_count": 12,
   "id": "2c76e742",
   "metadata": {},
   "outputs": [
    {
     "name": "stdout",
     "output_type": "stream",
     "text": [
      "a & b = 0\n",
      "a | b = 14\n",
      "~a = -11\n",
      "a ^ b = 14\n"
     ]
    }
   ],
   "source": [
    "#bitwise operators\n",
    "\n",
    "a=10\n",
    "b=4\n",
    "\n",
    "#print bitwise AND operators\n",
    "print(\"a & b =\",a & b)\n",
    "\n",
    "#print bitwise OR operators\n",
    "print(\"a | b =\",a | b)\n",
    "\n",
    "#print bitwise NOT operators\n",
    "print(\"~a =\",~a )\n",
    "\n",
    "#print bitwise XOR operators\n",
    "print(\"a ^ b =\",a ^ b)"
   ]
  },
  {
   "cell_type": "markdown",
   "id": "b284454c",
   "metadata": {},
   "source": [
    "# Data Types"
   ]
  },
  {
   "cell_type": "code",
   "execution_count": 15,
   "id": "94a85b50",
   "metadata": {},
   "outputs": [
    {
     "name": "stdout",
     "output_type": "stream",
     "text": [
      "Hello world\n",
      "H\n",
      "enter a updated string Hello python\n",
      "Hello world\n",
      "Hello world\n",
      "Hello wor\n"
     ]
    }
   ],
   "source": [
    "var1='Hello world'\n",
    "#var2 ='python programming'\n",
    "print(var1)\n",
    "print(var1[0])\n",
    "\n",
    "print(\"enter a updated string\",var1[0:6]+'python')\n",
    "\n",
    "print(var1[::])\n",
    "print(var1[0:])\n",
    "print(var1[:9])"
   ]
  },
  {
   "cell_type": "markdown",
   "id": "43c0a03a",
   "metadata": {},
   "source": [
    "# LIST"
   ]
  },
  {
   "cell_type": "code",
   "execution_count": 16,
   "id": "74cf6e01",
   "metadata": {},
   "outputs": [
    {
     "name": "stdout",
     "output_type": "stream",
     "text": [
      "['apple', 'bat', '124', 80, 70.2]\n",
      "apple\n",
      "bat\n",
      "['apple', 'bat', '124', 80, 70.2, 123, 'jack']\n",
      "[123, 'jack', 123, 'jack']\n"
     ]
    }
   ],
   "source": [
    "lis=['apple','bat','124',80,70.2]\n",
    "thinylist=[123,'jack']\n",
    "print(lis)\n",
    "print(lis[0])\n",
    "print(lis[-4])\n",
    "print(lis+thinylist)\n",
    "\n",
    "print(thinylist *2 )"
   ]
  },
  {
   "cell_type": "markdown",
   "id": "94fc3aaa",
   "metadata": {},
   "source": [
    "# TUPPLE\n",
    "\n"
   ]
  },
  {
   "cell_type": "code",
   "execution_count": 17,
   "id": "b776db65",
   "metadata": {},
   "outputs": [
    {
     "name": "stdout",
     "output_type": "stream",
     "text": [
      "['abcd', 786.3, 'john', 80, 70.2]\n",
      "['abcd', 786.3]\n",
      "70.2\n",
      "70.2\n",
      "['abcd', 786.3, 'john', 80, 70.2, 123, 'jack']\n",
      "[123, 'jack', 123, 'jack']\n"
     ]
    }
   ],
   "source": [
    "tup=['abcd',786.3,'john',80,70.2]\n",
    "thinytuple=[123,'jack']\n",
    "print(tup)\n",
    "print(tup[0:2])\n",
    "print(tup[-1])\n",
    "print(tup[4])\n",
    "print(tup+thinytuple)\n",
    "\n",
    "print(thinytuple *2 )"
   ]
  },
  {
   "cell_type": "markdown",
   "id": "aed7c026",
   "metadata": {},
   "source": [
    "# DIC\n"
   ]
  },
  {
   "cell_type": "code",
   "execution_count": 18,
   "id": "85a87b46",
   "metadata": {},
   "outputs": [
    {
     "ename": "NameError",
     "evalue": "name 'xyz' is not defined",
     "output_type": "error",
     "traceback": [
      "\u001b[1;31m---------------------------------------------------------------------------\u001b[0m",
      "\u001b[1;31mNameError\u001b[0m                                 Traceback (most recent call last)",
      "Cell \u001b[1;32mIn[18], line 1\u001b[0m\n\u001b[1;32m----> 1\u001b[0m var1 \u001b[38;5;241m=\u001b[39m{\u001b[38;5;124m'\u001b[39m\u001b[38;5;124mname\u001b[39m\u001b[38;5;124m'\u001b[39m:\u001b[38;5;124m'\u001b[39m\u001b[38;5;124mabc\u001b[39m\u001b[38;5;124m'\u001b[39m,\u001b[38;5;124m'\u001b[39m\u001b[38;5;124mage\u001b[39m\u001b[38;5;124m'\u001b[39m:\u001b[38;5;241m12\u001b[39m,\u001b[38;5;124m'\u001b[39m\u001b[38;5;124mschool\u001b[39m\u001b[38;5;124m'\u001b[39m:xyz,\u001b[38;5;124m'\u001b[39m\u001b[38;5;124myear\u001b[39m\u001b[38;5;124m'\u001b[39m:\u001b[38;5;241m2022\u001b[39m}\n\u001b[0;32m      3\u001b[0m \u001b[38;5;28mprint\u001b[39m(var1)\n\u001b[0;32m      5\u001b[0m \u001b[38;5;28mprint\u001b[39m(\u001b[38;5;124m\"\u001b[39m\u001b[38;5;124m-----------\u001b[39m\u001b[38;5;124m\"\u001b[39m)\n",
      "\u001b[1;31mNameError\u001b[0m: name 'xyz' is not defined"
     ]
    }
   ],
   "source": [
    "var1 ={'name':'abc','age':12,'school':xyz,'year':2022}\n",
    "\n",
    "print(var1)\n",
    "\n",
    "print(\"-----------\")\n",
    "print(var1.(keys))\n",
    "print(var1.(values))"
   ]
  },
  {
   "cell_type": "code",
   "execution_count": 21,
   "id": "d14d0d03",
   "metadata": {},
   "outputs": [
    {
     "ename": "SyntaxError",
     "evalue": "'(' was never closed (1076702947.py, line 7)",
     "output_type": "error",
     "traceback": [
      "\u001b[1;36m  Cell \u001b[1;32mIn[21], line 7\u001b[1;36m\u001b[0m\n\u001b[1;33m    print(dic\u001b[0m\n\u001b[1;37m         ^\u001b[0m\n\u001b[1;31mSyntaxError\u001b[0m\u001b[1;31m:\u001b[0m '(' was never closed\n"
     ]
    }
   ],
   "source": [
    "dic = {}\n",
    "\n",
    "dic['one'] =\"this is one\"\n",
    "dic[2] = \"this is two\"\n",
    "\n",
    "print(\"--------------\")\n",
    "print(dic)\n",
    "print(\"--------------\")\n",
    "print(dic['one'])\n",
    "print(\"--------------\")\n",
    "print(dic[2])\n",
    "print(\"--------------\")\n",
    "print(dic.keys())\n",
    "print(\"--------------\")\n",
    "print(dic.values())\n",
    "print(\"--------------\")\n",
    "\n",
    "\n",
    "\n",
    "\n",
    "\n",
    "\n",
    "\n"
   ]
  },
  {
   "cell_type": "markdown",
   "id": "c5a7f306",
   "metadata": {},
   "source": [
    "# IF ELSE\n",
    "\n",
    "if\n",
    "if else\n",
    "if elif else"
   ]
  },
  {
   "cell_type": "code",
   "execution_count": 1,
   "id": "b6276273",
   "metadata": {},
   "outputs": [
    {
     "name": "stdout",
     "output_type": "stream",
     "text": [
      "If condition completed\n"
     ]
    }
   ],
   "source": [
    "a =10\n",
    "b=20\n",
    "\n",
    "if(a>b):\n",
    "      print(\"A is greater than B\") \n",
    "print(\"If condition completed\")"
   ]
  },
  {
   "cell_type": "code",
   "execution_count": 2,
   "id": "b6acbf2b",
   "metadata": {},
   "outputs": [
    {
     "name": "stdout",
     "output_type": "stream",
     "text": [
      "A is less than B\n",
      "if...else...condition completed\n"
     ]
    }
   ],
   "source": [
    "a=10\n",
    "b=20\n",
    "\n",
    "if(a>b):\n",
    "    print(\"A is greater than B\")\n",
    "else:\n",
    "    print(\"A is less than B\")\n",
    "print(\"if...else...condition completed\")"
   ]
  },
  {
   "cell_type": "code",
   "execution_count": 4,
   "id": "7eb66ced",
   "metadata": {},
   "outputs": [
    {
     "name": "stdout",
     "output_type": "stream",
     "text": [
      "b is greater than c\n",
      "if...elif...else..condition completed\n"
     ]
    }
   ],
   "source": [
    "a=10\n",
    "b=20\n",
    "c=15\n",
    "\n",
    "if(a>b):\n",
    "     print(\"A is greater than B\")\n",
    "elif(b>c):\n",
    "     print(\"b is greater than c\")\n",
    "elif(a<c):\n",
    "     print(\"c is smaller than a\")\n",
    "elif(c>a):\n",
    "    print(\"c is greater than a\")\n",
    "else:\n",
    "    print(\"a is greater than c\")\n",
    "print(\"if...elif...else..condition completed\")"
   ]
  },
  {
   "cell_type": "code",
   "execution_count": 5,
   "id": "5def8ef3",
   "metadata": {},
   "outputs": [
    {
     "name": "stdout",
     "output_type": "stream",
     "text": [
      "PYTHON\n"
     ]
    }
   ],
   "source": [
    "var=10\n",
    "\n",
    "if(var>11):\n",
    "    print(\"var number\")\n",
    "    print(var)\n",
    "print(\"PYTHON\")"
   ]
  },
  {
   "cell_type": "code",
   "execution_count": 6,
   "id": "53f34968",
   "metadata": {},
   "outputs": [
    {
     "name": "stdout",
     "output_type": "stream",
     "text": [
      "NUMBER\n",
      "11\n",
      "python\n"
     ]
    }
   ],
   "source": [
    "num=11\n",
    "\n",
    "if num>=11:\n",
    "    print(\"NUMBER\")\n",
    "    print(num)\n",
    "    \n",
    "#fAlse\n",
    "print(\"python\")"
   ]
  },
  {
   "cell_type": "code",
   "execution_count": 7,
   "id": "55762497",
   "metadata": {},
   "outputs": [
    {
     "name": "stdout",
     "output_type": "stream",
     "text": [
      "a smaller than b\n"
     ]
    }
   ],
   "source": [
    "a=20\n",
    "b=30\n",
    "if(a>b):\n",
    "    print(\"a is greater\")\n",
    "else:\n",
    "    print(\"a smaller than b\")"
   ]
  },
  {
   "cell_type": "code",
   "execution_count": 8,
   "id": "eacfeb49",
   "metadata": {},
   "outputs": [
    {
     "name": "stdout",
     "output_type": "stream",
     "text": [
      "a smaller than b\n"
     ]
    }
   ],
   "source": [
    "\n",
    "a=20\n",
    "b=30\n",
    "if(a>b):print(\"a is greater\")\n",
    "else:print(\"a smaller than b\")"
   ]
  },
  {
   "cell_type": "code",
   "execution_count": 9,
   "id": "04055340",
   "metadata": {},
   "outputs": [
    {
     "name": "stdout",
     "output_type": "stream",
     "text": [
      "enter first no.10\n",
      "enter second no.20\n",
      "sum of two number= 30\n"
     ]
    }
   ],
   "source": [
    "num1=int(input(\"enter first no.\"))\n",
    "num2=int(input(\"enter second no.\"))\n",
    "\n",
    "add=num1 + num2\n",
    "print(\"sum of two number=\",add)\n"
   ]
  },
  {
   "cell_type": "code",
   "execution_count": 17,
   "id": "9090cd8c",
   "metadata": {},
   "outputs": [
    {
     "name": "stdout",
     "output_type": "stream",
     "text": [
      "enter first no.weef\n"
     ]
    },
    {
     "ename": "ValueError",
     "evalue": "invalid literal for int() with base 10: 'weef'",
     "output_type": "error",
     "traceback": [
      "\u001b[1;31m---------------------------------------------------------------------------\u001b[0m",
      "\u001b[1;31mValueError\u001b[0m                                Traceback (most recent call last)",
      "Cell \u001b[1;32mIn[17], line 1\u001b[0m\n\u001b[1;32m----> 1\u001b[0m num1\u001b[38;5;241m=\u001b[39m\u001b[38;5;28mint\u001b[39m(\u001b[38;5;28minput\u001b[39m(\u001b[38;5;124m\"\u001b[39m\u001b[38;5;124menter first no.\u001b[39m\u001b[38;5;124m\"\u001b[39m))\n\u001b[0;32m      2\u001b[0m num2\u001b[38;5;241m=\u001b[39m\u001b[38;5;28mint\u001b[39m(\u001b[38;5;28minput\u001b[39m(\u001b[38;5;124m\"\u001b[39m\u001b[38;5;124menter second no.\u001b[39m\u001b[38;5;124m\"\u001b[39m))\n\u001b[0;32m      3\u001b[0m choice\u001b[38;5;241m=\u001b[39m\u001b[38;5;28mint\u001b[39m(\u001b[38;5;28minput\u001b[39m(\u001b[38;5;124m\"\u001b[39m\u001b[38;5;124menter the number\u001b[39m\u001b[38;5;124m\"\u001b[39m))\n",
      "\u001b[1;31mValueError\u001b[0m: invalid literal for int() with base 10: 'weef'"
     ]
    }
   ],
   "source": [
    "num1=int(input(\"enter first no.\"))\n",
    "num2=int(input(\"enter second no.\"))\n",
    "choice=int(input(\"enter the number\"))\n",
    "\n",
    "if(choice==1):\n",
    "    add=num1+num2\n",
    "    print(\"sum of two number=\",add)\n",
    "\n",
    "elif(choice==2):\n",
    "    sub=num1-num2\n",
    "    print(\"sub of two number=\",sub)\n",
    "\n",
    "elif(choice==3):\n",
    "    mul=num1*num2\n",
    "    print(\"mul of two number=\",mul)\n",
    "\n",
    "elif(choice==4):\n",
    "    expo=num1**num2\n",
    "    print(\"expo of two number=\",expo)\n",
    "\n",
    "elif(choice==5):\n",
    "    mod=num1%num2\n",
    "    print(\"mod of two number=\",mod)\n",
    "\n",
    "elif(choice==6):\n",
    "    div=num1/num2\n",
    "    print(\"div of two number=\",div)\n",
    "\n",
    "elif(choice==7):\n",
    "    flordiv=num1//num2\n",
    "    print(\"flordiv of two number=\",flordiv)\n",
    "\n",
    "else:\n",
    "    print(\"invalid input\")\n",
    "\n",
    "\n",
    "\n"
   ]
  },
  {
   "cell_type": "code",
   "execution_count": null,
   "id": "508247d0",
   "metadata": {},
   "outputs": [],
   "source": []
  },
  {
   "cell_type": "markdown",
   "id": "34606ac2",
   "metadata": {},
   "source": [
    "# Nested IF"
   ]
  },
  {
   "cell_type": "code",
   "execution_count": null,
   "id": "f3af978e",
   "metadata": {},
   "outputs": [],
   "source": [
    "amount =int(input(\"enter the amount:\"))\n",
    "\n",
    "if amount <2000:\n",
    "    if amount>=1000:\n",
    "        print(\"a\")\n",
    "    else:\n",
    "        print(\"b\")\n",
    "else:\n",
    "    if amount <= 3500:\n",
    "        print(\"c\")\n",
    "    else:\n",
    "        print(\"d\")\n"
   ]
  },
  {
   "cell_type": "code",
   "execution_count": null,
   "id": "e38e995a",
   "metadata": {},
   "outputs": [],
   "source": [
    "num = int(input(\"enter the number\"))\n",
    "\n",
    "if num%2 == 0:\n",
    "    if num%3 ==0:\n",
    "        print(\"divisible by 3 and 2\")\n",
    "    else:\n",
    "        print(\"not divisible by 2 and 3\")\n",
    "\n",
    "else:\n",
    "    if num%4 ==0:\n",
    "        print(\"divisible by 4\")\n",
    "    else:\n",
    "        print(\"not divisible by 4\")\n",
    "\n",
    "    "
   ]
  },
  {
   "cell_type": "code",
   "execution_count": null,
   "id": "b9a8a73f",
   "metadata": {},
   "outputs": [],
   "source": [
    "\n",
    "num = int(input(\"enter the number\"))\n",
    "\n",
    "if num%2 == 0:\n",
    "    if num%3 ==0:\n",
    "        print(\"divisible by 3 and 2\")\n",
    "    else:\n",
    "        print(\"not divisible by 2 and 3\")\n",
    "\n",
    "else:\n",
    "    if num%4 ==0:\n",
    "        print(\"divisible by 4\")\n",
    "    else:\n",
    "        print(\"not divisible by 4\")"
   ]
  },
  {
   "cell_type": "markdown",
   "id": "4239c304",
   "metadata": {},
   "source": [
    "# break\n",
    "#continue \n",
    "#pass"
   ]
  },
  {
   "cell_type": "code",
   "execution_count": 27,
   "id": "7ce8992c",
   "metadata": {},
   "outputs": [
    {
     "name": "stdout",
     "output_type": "stream",
     "text": [
      " p\n",
      " y\n"
     ]
    }
   ],
   "source": [
    "for letter in 'python':\n",
    "    if letter =='t':\n",
    "        break\n",
    "    print('',letter)\n"
   ]
  },
  {
   "cell_type": "code",
   "execution_count": 28,
   "id": "b8ead689",
   "metadata": {
    "scrolled": true
   },
   "outputs": [
    {
     "name": "stdout",
     "output_type": "stream",
     "text": [
      "current variable value: 10\n",
      "current variable value: 9\n",
      "current variable value: 8\n",
      "current variable value: 7\n",
      "current variable value: 6\n",
      "current variable value: 5\n",
      "current variable value: 4\n",
      "current variable value: 3\n",
      "current variable value: 2\n",
      "Break condition\n"
     ]
    }
   ],
   "source": [
    "var = 10\n",
    "while var>0:\n",
    "    print(\"current variable value:\",var)\n",
    "    \n",
    "    var=var-1\n",
    "    if var==1:\n",
    "        break\n",
    "        \n",
    "print(\"Break condition\")        "
   ]
  },
  {
   "cell_type": "code",
   "execution_count": 29,
   "id": "a2f8e9cd",
   "metadata": {},
   "outputs": [
    {
     "name": "stdout",
     "output_type": "stream",
     "text": [
      " p\n",
      " t\n",
      " h\n",
      " o\n",
      " n\n"
     ]
    }
   ],
   "source": [
    "#continue\n",
    "\n",
    "for letter in 'python':\n",
    "    if letter == 'y':\n",
    "        continue\n",
    "    print('',letter)    "
   ]
  },
  {
   "cell_type": "code",
   "execution_count": 30,
   "id": "74748548",
   "metadata": {},
   "outputs": [
    {
     "name": "stdout",
     "output_type": "stream",
     "text": [
      "current variable value: 10\n",
      "current variable value: 9\n",
      "current variable value: 8\n",
      "current variable value: 7\n",
      "current variable value: 6\n",
      "current variable value: 5\n",
      "current variable value: 4\n",
      "current variable value: 3\n",
      "current variable value: 2\n",
      "current variable value: 1\n",
      "continue condition\n"
     ]
    }
   ],
   "source": [
    "var = 10\n",
    "while var>0:\n",
    "    print(\"current variable value:\",var)\n",
    "    \n",
    "    var=var-1\n",
    "    if var==9:\n",
    "        continue\n",
    "        \n",
    "print(\"continue condition\")     "
   ]
  },
  {
   "cell_type": "code",
   "execution_count": 31,
   "id": "99070c3b",
   "metadata": {},
   "outputs": [
    {
     "name": "stdout",
     "output_type": "stream",
     "text": [
      " p\n",
      " y\n",
      " t\n",
      " h\n",
      " o\n",
      " n\n"
     ]
    }
   ],
   "source": [
    "#pass\n",
    "\n",
    "for letter in 'python':\n",
    "    if letter == 'y':\n",
    "        pass\n",
    "    print('',letter)    "
   ]
  },
  {
   "cell_type": "code",
   "execution_count": 32,
   "id": "a57da495",
   "metadata": {},
   "outputs": [
    {
     "name": "stdout",
     "output_type": "stream",
     "text": [
      "current variable value: 10\n",
      "current variable value: 9\n",
      "current variable value: 8\n",
      "current variable value: 7\n",
      "current variable value: 6\n",
      "current variable value: 5\n",
      "current variable value: 4\n",
      "current variable value: 3\n",
      "current variable value: 2\n",
      "current variable value: 1\n",
      "pass condition\n"
     ]
    }
   ],
   "source": [
    "var = 10\n",
    "while var>0:\n",
    "    print(\"current variable value:\",var)\n",
    "    \n",
    "    var=var-1\n",
    "    if var==1:\n",
    "        pass\n",
    "        \n",
    "print(\"pass condition\")     "
   ]
  },
  {
   "cell_type": "code",
   "execution_count": 12,
   "id": "a0d9ef4d",
   "metadata": {},
   "outputs": [
    {
     "name": "stdout",
     "output_type": "stream",
     "text": [
      "enter the amount:1000\n",
      "discount 100.0\n",
      "net payable 900.0\n"
     ]
    }
   ],
   "source": [
    "amount= int(input(\"enter the amount:\"))\n",
    "if(amount<1000):\n",
    "    dis = amount*0.05\n",
    "    print(\"discount\",dis)\n",
    "    print(\"net payable\",amount-dis)\n",
    "elif(amount>=1000 | amount<=5000): \n",
    "    dis = amount*0.10\n",
    "    print(\"discount\",dis)\n",
    "    print(\"net payable\",amount-dis)\n",
    "elif(amount>=5000 | amount<=10000): \n",
    "    dis = amount*0.15\n",
    "    print(\"discount\",dis)\n",
    "    print(\"net payable\",amount-dis)\n",
    "else:\n",
    "    dis = amount*0.20\n",
    "    print(\"discount\",dis)\n",
    "    print(\"net payable\",amount-dis)\n",
    "    \n",
    "    \n",
    "    \n",
    "    \n",
    "    \n",
    "    \n",
    "    \n",
    "    \n",
    "    \n",
    "    \n",
    "    \n",
    "    "
   ]
  },
  {
   "cell_type": "markdown",
   "id": "d7721075",
   "metadata": {},
   "source": [
    "# STRING"
   ]
  },
  {
   "cell_type": "code",
   "execution_count": 13,
   "id": "0b7f3502",
   "metadata": {},
   "outputs": [
    {
     "name": "stdout",
     "output_type": "stream",
     "text": [
      "h\n",
      "enter a updated string hello  python\n"
     ]
    }
   ],
   "source": [
    " var1 =\"hello world\"\n",
    "#var2 ='python programming'\n",
    "\n",
    "print(var1[0])\n",
    "\n",
    "print(\"enter a updated string\",var1[:6] +' python')"
   ]
  },
  {
   "cell_type": "code",
   "execution_count": 14,
   "id": "908fd8f6",
   "metadata": {},
   "outputs": [
    {
     "name": "stdout",
     "output_type": "stream",
     "text": [
      "a+b helloworld\n"
     ]
    }
   ],
   "source": [
    "a = 'hello'\n",
    "b='world'\n",
    "\n",
    "print(a+b)"
   ]
  },
  {
   "cell_type": "code",
   "execution_count": 15,
   "id": "3a680d4d",
   "metadata": {},
   "outputs": [
    {
     "name": "stdout",
     "output_type": "stream",
     "text": [
      "appleappleapple\n"
     ]
    }
   ],
   "source": [
    "a=  'apple'\n",
    "b=3\n",
    "print(a*b)"
   ]
  },
  {
   "cell_type": "code",
   "execution_count": 16,
   "id": "e7ac136f",
   "metadata": {},
   "outputs": [
    {
     "name": "stdout",
     "output_type": "stream",
     "text": [
      "My name is and weight is kg Zara 24\n"
     ]
    }
   ],
   "source": [
    "#string formatting operator\n",
    "\n",
    "a = 'Zara'\n",
    "b= 24\n",
    "print(\"My name is and weight is kg\",a,b)"
   ]
  },
  {
   "cell_type": "code",
   "execution_count": 17,
   "id": "54238cd8",
   "metadata": {},
   "outputs": [
    {
     "name": "stdout",
     "output_type": "stream",
     "text": [
      "My name is Zara and weight is 24 kg\n"
     ]
    }
   ],
   "source": [
    "print(\"My name is %s and weight is %d kg\"%(a,b))"
   ]
  },
  {
   "cell_type": "code",
   "execution_count": null,
   "id": "b18f22cd",
   "metadata": {},
   "outputs": [],
   "source": [
    "%s = string\n",
    "%d=decimal\n",
    "\\t =tab[3times space]\n",
    "\\n =new line\n"
   ]
  },
  {
   "cell_type": "code",
   "execution_count": 18,
   "id": "68c449cc",
   "metadata": {},
   "outputs": [
    {
     "name": "stdout",
     "output_type": "stream",
     "text": [
      "Hello pooja,welcome to educadd\n"
     ]
    }
   ],
   "source": [
    "strs= \"hello pooja,welcome to educadd\"\n",
    "print(strs.capitalize())\n"
   ]
  },
  {
   "cell_type": "code",
   "execution_count": 19,
   "id": "7d387051",
   "metadata": {},
   "outputs": [
    {
     "name": "stdout",
     "output_type": "stream",
     "text": [
      "s,variable== Ehello welcome to educadd\n",
      "4\n"
     ]
    }
   ],
   "source": [
    "name=\"ehello welcome to educadd\"\n",
    "s=name.capitalize()#capital\n",
    "print(\"s,variable==\",s)\n",
    "sub='e'\n",
    "print(s.count(sub))\n"
   ]
  },
  {
   "cell_type": "code",
   "execution_count": 20,
   "id": "550a3cca",
   "metadata": {},
   "outputs": [
    {
     "name": "stdout",
     "output_type": "stream",
     "text": [
      "8\n"
     ]
    }
   ],
   "source": [
    "name= \"welcome to educadd\"\n",
    "sub = \"t\"\n",
    "print(name.find(sub))"
   ]
  },
  {
   "cell_type": "code",
   "execution_count": 21,
   "id": "fe93eb24",
   "metadata": {},
   "outputs": [
    {
     "name": "stdout",
     "output_type": "stream",
     "text": [
      "lower False\n",
      "upper True\n",
      "--------------------\n",
      "lower True\n",
      "upper False\n"
     ]
    }
   ],
   "source": [
    "a=\"hello  world\"\n",
    "b=\"HELLO\"\n",
    "print(\"lower\",b.islower())#false\n",
    "print(\"upper\",b.isupper())#true\n",
    "print(\"--------------------\")\n",
    "print(\"lower\",a.islower())#true\n",
    "print(\"upper\",a.isupper())#faalse\n",
    "\n"
   ]
  },
  {
   "cell_type": "code",
   "execution_count": 22,
   "id": "f8c8dbf6",
   "metadata": {},
   "outputs": [
    {
     "name": "stdout",
     "output_type": "stream",
     "text": [
      "True\n"
     ]
    }
   ],
   "source": [
    "a=\"3\"\n",
    "print(a.isnumeric())"
   ]
  },
  {
   "cell_type": "code",
   "execution_count": 23,
   "id": "c22b3fc6",
   "metadata": {},
   "outputs": [
    {
     "name": "stdout",
     "output_type": "stream",
     "text": [
      "True\n"
     ]
    }
   ],
   "source": [
    "a=\"124\"\n",
    "print(a.isdigit())"
   ]
  },
  {
   "cell_type": "code",
   "execution_count": 24,
   "id": "d970a8e5",
   "metadata": {},
   "outputs": [
    {
     "name": "stdout",
     "output_type": "stream",
     "text": [
      "True\n"
     ]
    }
   ],
   "source": [
    "b=\"  \"\n",
    "print(b.isspace())"
   ]
  },
  {
   "cell_type": "code",
   "execution_count": 25,
   "id": "576ec0c1",
   "metadata": {},
   "outputs": [
    {
     "name": "stdout",
     "output_type": "stream",
     "text": [
      "len 5\n",
      "upper <built-in method upper of str object at 0x000002214EC8C1B0>\n"
     ]
    }
   ],
   "source": [
    "a=\"HELLO\"\n",
    "b=\"world\"\n",
    "print(\"len\",len(a))\n",
    "\n"
   ]
  },
  {
   "cell_type": "code",
   "execution_count": 27,
   "id": "c0746ba2",
   "metadata": {},
   "outputs": [
    {
     "name": "stdout",
     "output_type": "stream",
     "text": [
      "upper WORLD\n"
     ]
    }
   ],
   "source": [
    "print(\"upper\",b.upper())"
   ]
  },
  {
   "cell_type": "code",
   "execution_count": 28,
   "id": "1f1fdf57",
   "metadata": {},
   "outputs": [
    {
     "name": "stdout",
     "output_type": "stream",
     "text": [
      "lower hello\n"
     ]
    }
   ],
   "source": [
    "print(\"lower\",a.lower())"
   ]
  },
  {
   "cell_type": "code",
   "execution_count": 29,
   "id": "1ef4c8f1",
   "metadata": {},
   "outputs": [
    {
     "ename": "SyntaxError",
     "evalue": "incomplete input (1918005993.py, line 1)",
     "output_type": "error",
     "traceback": [
      "\u001b[1;36m  Cell \u001b[1;32mIn[29], line 1\u001b[1;36m\u001b[0m\n\u001b[1;33m    print(\"join\",a.join(b)\u001b[0m\n\u001b[1;37m                          ^\u001b[0m\n\u001b[1;31mSyntaxError\u001b[0m\u001b[1;31m:\u001b[0m incomplete input\n"
     ]
    }
   ],
   "source": [
    "print(\"join\",a.join(b))"
   ]
  },
  {
   "cell_type": "raw",
   "id": "77b005b0",
   "metadata": {},
   "source": [
    " 1.Append\n",
    " 2.count\n",
    " 3.Index\n",
    " 4.Extended\n",
    " 5.Insert "
   ]
  },
  {
   "cell_type": "code",
   "execution_count": 2,
   "id": "82e77ef2",
   "metadata": {},
   "outputs": [
    {
     "name": "stdout",
     "output_type": "stream",
     "text": [
      "['orange', 'kiwi']\n",
      "7\n",
      "<class 'list'>\n"
     ]
    }
   ],
   "source": [
    "fruits=[\"apple\",\"banana\",\"cherry\",\"orange\",\"kiwi\",\"melon\",\"mango\"]\n",
    "print(fruits[3:5])\n",
    "print(len(fruits))#7\n",
    "print(type(fruits))#list"
   ]
  },
  {
   "cell_type": "code",
   "execution_count": 3,
   "id": "c30e1438",
   "metadata": {},
   "outputs": [
    {
     "name": "stdout",
     "output_type": "stream",
     "text": [
      "7\n",
      "<class 'tuple'>\n"
     ]
    }
   ],
   "source": [
    "fruits=(\"apple\",\"banana\",\"cherry\",\"orange\",\"kiwi\",\"melon\",\"mango\")\n",
    "print(len(fruits))#7\n",
    "print(type(fruits))#list"
   ]
  },
  {
   "cell_type": "code",
   "execution_count": 4,
   "id": "4d5af5e1",
   "metadata": {
    "scrolled": true
   },
   "outputs": [
    {
     "name": "stdout",
     "output_type": "stream",
     "text": [
      "['p', 'c', '97', '01']\n",
      "03\n",
      "['c', '97', '01']\n"
     ]
    },
    {
     "ename": "NameError",
     "evalue": "name 'lis2' is not defined",
     "output_type": "error",
     "traceback": [
      "\u001b[1;31m---------------------------------------------------------------------------\u001b[0m",
      "\u001b[1;31mNameError\u001b[0m                                 Traceback (most recent call last)",
      "Cell \u001b[1;32mIn[4], line 8\u001b[0m\n\u001b[0;32m      6\u001b[0m \u001b[38;5;28;01mdel\u001b[39;00m lis[\u001b[38;5;241m0\u001b[39m]\u001b[38;5;66;03m#p\u001b[39;00m\n\u001b[0;32m      7\u001b[0m \u001b[38;5;28mprint\u001b[39m(lis)\n\u001b[1;32m----> 8\u001b[0m \u001b[38;5;28mprint\u001b[39m(lis2)\n",
      "\u001b[1;31mNameError\u001b[0m: name 'lis2' is not defined"
     ]
    }
   ],
   "source": [
    "lis=['p','c','97','01']\n",
    "lis2 = '03'\n",
    "print(lis)#['p','c','97','01']\n",
    "print(lis2)#'03'\n",
    "del lis2 #03\n",
    "del lis[0]#p\n",
    "print(lis)\n",
    "print(lis2)"
   ]
  },
  {
   "cell_type": "code",
   "execution_count": 6,
   "id": "763a25cf",
   "metadata": {},
   "outputs": [
    {
     "name": "stdout",
     "output_type": "stream",
     "text": [
      "['Python', 'Python', 'Python']\n",
      "3\n"
     ]
    }
   ],
   "source": [
    "print(['Python']*3)\n",
    "print(len(['Python']*3))"
   ]
  },
  {
   "cell_type": "code",
   "execution_count": 7,
   "id": "1023a8fc",
   "metadata": {},
   "outputs": [
    {
     "name": "stdout",
     "output_type": "stream",
     "text": [
      "1\n",
      "110\n"
     ]
    }
   ],
   "source": [
    "a=[1,110,2,3,4,4,55,5,8,100]\n",
    "print(min(a))\n",
    "print(max(a))"
   ]
  },
  {
   "cell_type": "code",
   "execution_count": 9,
   "id": "65abbe02",
   "metadata": {},
   "outputs": [
    {
     "name": "stdout",
     "output_type": "stream",
     "text": [
      "['java', 'Python', 'c', 'c++', 'r']\n"
     ]
    }
   ],
   "source": [
    "list1=['java','Python','c','c++',]\n",
    "list1.append('r')\n",
    "print(list1)"
   ]
  },
  {
   "cell_type": "code",
   "execution_count": 10,
   "id": "9e26e1b6",
   "metadata": {},
   "outputs": [
    {
     "name": "stdout",
     "output_type": "stream",
     "text": [
      "count for 123: 3\n",
      "count for 'abc': 2\n"
     ]
    }
   ],
   "source": [
    "list1=[123,123,456,'abc','abc',456,123]\n",
    "print(\"count for 123:\",list1.count(123))\n",
    "sub='abc'\n",
    "print(\"count for 'abc':\",list1.count(sub))"
   ]
  },
  {
   "cell_type": "code",
   "execution_count": 11,
   "id": "4ad26b33",
   "metadata": {},
   "outputs": [
    {
     "name": "stdout",
     "output_type": "stream",
     "text": [
      "['physics', 'chemistry', 'maths', 'b', 'i', 'o', 'l', 'o', 'g', 'y']\n"
     ]
    }
   ],
   "source": [
    "lista=['physics','chemistry','maths']\n",
    "listb=('biology')\n",
    "lista.extend(listb)\n",
    "print(lista)"
   ]
  },
  {
   "cell_type": "code",
   "execution_count": 12,
   "id": "aa69fcff",
   "metadata": {},
   "outputs": [
    {
     "name": "stdout",
     "output_type": "stream",
     "text": [
      "2\n",
      "3\n"
     ]
    }
   ],
   "source": [
    "list1=['java','python','c','c++',]\n",
    "print(list1.index('c'))\n",
    "print(list1.index('c')+1)"
   ]
  },
  {
   "cell_type": "code",
   "execution_count": 13,
   "id": "1421a9ee",
   "metadata": {},
   "outputs": [
    {
     "name": "stdout",
     "output_type": "stream",
     "text": [
      "['java', 'python', 'machine learning', 'c', 'c++']\n"
     ]
    }
   ],
   "source": [
    "list1=['java','python','c','c++',]\n",
    "list1.insert(2,'machine learning')\n",
    "print(list1)"
   ]
  },
  {
   "cell_type": "code",
   "execution_count": 15,
   "id": "49babbbe",
   "metadata": {},
   "outputs": [
    {
     "name": "stdout",
     "output_type": "stream",
     "text": [
      "['chemistry', 'maths', 'bioloy']\n"
     ]
    }
   ],
   "source": [
    "lista=['physics','chemistry','maths','bioloy']\n",
    "lista.pop(0)\n",
    "print(lista)"
   ]
  },
  {
   "cell_type": "code",
   "execution_count": 16,
   "id": "405e8439",
   "metadata": {},
   "outputs": [
    {
     "name": "stdout",
     "output_type": "stream",
     "text": [
      "['java', 'python', 'machine learning', 'c', 'c++']\n"
     ]
    }
   ],
   "source": [
    "list1=['java','python','c','c++',]\n",
    "list1.insert(2,'machine learning')\n",
    "print(list1)"
   ]
  },
  {
   "cell_type": "code",
   "execution_count": 17,
   "id": "84fd6d0e",
   "metadata": {},
   "outputs": [
    {
     "name": "stdout",
     "output_type": "stream",
     "text": [
      "['physics', 'chemistry', 'bioloy']\n"
     ]
    }
   ],
   "source": [
    "lista=['physics','chemistry','maths','bioloy']\n",
    "lista.remove('maths')\n",
    "print(lista)"
   ]
  },
  {
   "cell_type": "code",
   "execution_count": 18,
   "id": "a211528f",
   "metadata": {},
   "outputs": [
    {
     "name": "stdout",
     "output_type": "stream",
     "text": [
      "['bioloy', 'maths', 'chemistry', 'physics']\n"
     ]
    }
   ],
   "source": [
    "lista=['physics','chemistry','maths','bioloy']\n",
    "lista.reverse()\n",
    "print(lista)"
   ]
  },
  {
   "cell_type": "code",
   "execution_count": 19,
   "id": "f8b2d15e",
   "metadata": {},
   "outputs": [
    {
     "name": "stdout",
     "output_type": "stream",
     "text": [
      "[1, 2, 4, 7, 8, 9, 10, 11]\n",
      "['bioloy', 'chemistry', 'maths', 'physics']\n"
     ]
    }
   ],
   "source": [
    "lista=['physics','chemistry','maths','bioloy']\n",
    "lis = [1,2,11,10,4,8,7,9]\n",
    "lis.sort()\n",
    "print(lis)\n",
    "lista.sort()\n",
    "print(lista)"
   ]
  },
  {
   "cell_type": "code",
   "execution_count": 20,
   "id": "a747dd1c",
   "metadata": {},
   "outputs": [
    {
     "name": "stdout",
     "output_type": "stream",
     "text": [
      "[1, 5, 9, 0, 28, 96, 33]\n",
      "[]\n"
     ]
    }
   ],
   "source": [
    "a=[1,5,9,0,28,96,33]\n",
    "print(a)\n",
    "a.clear()\n",
    "print(a)"
   ]
  },
  {
   "cell_type": "code",
   "execution_count": 21,
   "id": "ec902e23",
   "metadata": {},
   "outputs": [
    {
     "name": "stdout",
     "output_type": "stream",
     "text": [
      "b= ['hello world', 'hell', 'ABC']\n",
      "a= ['hello world', 'hell', 'ABC']\n"
     ]
    }
   ],
   "source": [
    "a=[\"hello world\",\"hell\",\"ABC\"]\n",
    "b=a.copy()\n",
    "print(\"b=\",b)\n",
    "print(\"a=\",a)"
   ]
  },
  {
   "cell_type": "code",
   "execution_count": null,
   "id": "db4a9990",
   "metadata": {},
   "outputs": [],
   "source": [
    "a=[\"hello world\",\"hell\",\"\"]\n"
   ]
  },
  {
   "cell_type": "code",
   "execution_count": 1,
   "id": "b4e54fa6",
   "metadata": {},
   "outputs": [
    {
     "name": "stdout",
     "output_type": "stream",
     "text": [
      "12\n"
     ]
    }
   ],
   "source": [
    "a= {'Name':'Pooja','age':12,'school':'bapuji'}\n",
    "print(a.get('age'))"
   ]
  },
  {
   "cell_type": "code",
   "execution_count": 2,
   "id": "16e591bb",
   "metadata": {},
   "outputs": [
    {
     "name": "stdout",
     "output_type": "stream",
     "text": [
      "a=== {'Name': 'Pooja', 'age': 14, 'school': 'bapuji', 'class': 5, 'phone_no': 123346389}\n",
      "Phone_no=== 123346389\n",
      "keys ==== dict_keys(['Name', 'age', 'school', 'class', 'phone_no'])\n",
      "values==== dict_values(['Pooja', 14, 'bapuji', 5, 123346389])\n"
     ]
    }
   ],
   "source": [
    "a={'Name':'Pooja','age':12,'school':'bapuji'}\n",
    "a['age']=14 #update\n",
    "a['class']=5 #Insert\n",
    "a['phone_no']=123346389\n",
    "\n",
    "print(\"a===\",a)\n",
    "\n",
    "\n",
    "print(\"Phone_no===\",a.get('phone_no'))\n",
    "\n",
    "print(\"keys ====\",a.keys())\n",
    "print(\"values====\",a.values())"
   ]
  },
  {
   "cell_type": "code",
   "execution_count": 3,
   "id": "aa629ba6",
   "metadata": {},
   "outputs": [
    {
     "name": "stdout",
     "output_type": "stream",
     "text": [
      "{'name': 'abc', 'class': '4', 'age': '23'}\n"
     ]
    }
   ],
   "source": [
    "name ={\"name\":\"abc\",\"class\":\"4\"}\n",
    "name2 ={\"age\":\"23\"}\n",
    "name.update(name2)\n",
    "print(name)\n"
   ]
  },
  {
   "cell_type": "code",
   "execution_count": 4,
   "id": "e4afc2b5",
   "metadata": {},
   "outputs": [
    {
     "name": "stdout",
     "output_type": "stream",
     "text": [
      "First variable=== Hello World\n",
      "Replace=== Hello World\n"
     ]
    }
   ],
   "source": [
    "first =\"Hello World\"\n",
    "print(\"First variable===\",first)\n",
    "second=first.replace(\"world\",\"Universe\")\n",
    "print(\"Replace===\",second)"
   ]
  },
  {
   "cell_type": "code",
   "execution_count": 7,
   "id": "9e994f31",
   "metadata": {},
   "outputs": [
    {
     "name": "stdout",
     "output_type": "stream",
     "text": [
      "Hello Universe Universe World\n"
     ]
    }
   ],
   "source": [
    "s=\"Hello World World World\"\n",
    "S=s.replace(\"World\",\"Universe\",2)\n",
    "print(S)"
   ]
  },
  {
   "cell_type": "code",
   "execution_count": 8,
   "id": "f3188730",
   "metadata": {},
   "outputs": [
    {
     "name": "stdout",
     "output_type": "stream",
     "text": [
      "This was String example....Wow!! this was really string\n"
     ]
    }
   ],
   "source": [
    "strs=\"This is String example....Wow!! this is really string\"\n",
    "#print(strs .replace(\"is\",\"was\",1))\n",
    "print(strs.replace(\" is \",\" was \",4))"
   ]
  },
  {
   "cell_type": "code",
   "execution_count": 10,
   "id": "2d933e02",
   "metadata": {},
   "outputs": [
    {
     "name": "stdout",
     "output_type": "stream",
     "text": [
      "('Bugs', 'Bunny')\n"
     ]
    }
   ],
   "source": [
    "first=\"Bugs\"\n",
    "\n",
    "last=\"Bunny\"\n",
    "\n",
    "#define our sequence\n",
    "seq=(first,last)\n",
    "print(seq)"
   ]
  },
  {
   "cell_type": "code",
   "execution_count": 9,
   "id": "81ca2259",
   "metadata": {},
   "outputs": [
    {
     "name": "stdout",
     "output_type": "stream",
     "text": [
      "['&', '#']\n",
      "&\\#\n"
     ]
    }
   ],
   "source": [
    "#can a string be replaced twice?\n",
    "\n",
    "a='&#'\n",
    "\n",
    "to_replace =['&','#']\n",
    "print(to_replace)\n",
    "\n",
    "for char in to_replace:\n",
    "    A =a.replace(char,\"\\\\\" +char)\n",
    "    \n",
    "print(A)    "
   ]
  },
  {
   "cell_type": "code",
   "execution_count": 12,
   "id": "eb07cff7",
   "metadata": {
    "scrolled": true
   },
   "outputs": [
    {
     "name": "stdout",
     "output_type": "stream",
     "text": [
      "Bugs Bunny\n"
     ]
    }
   ],
   "source": [
    "#join into new string\n",
    "\n",
    "name =\" \".join(seq)\n",
    "print(name)"
   ]
  },
  {
   "cell_type": "code",
   "execution_count": 13,
   "id": "589f9f47",
   "metadata": {},
   "outputs": [
    {
     "name": "stdout",
     "output_type": "stream",
     "text": [
      "howw are u doing ?\n"
     ]
    }
   ],
   "source": [
    "words=[\"howw\",\"are\",\"u\",\"doing\",\"?\"]\n",
    "sentence= ' '.join(words)\n",
    "print(sentence)"
   ]
  },
  {
   "cell_type": "code",
   "execution_count": null,
   "id": "6d570e64",
   "metadata": {},
   "outputs": [],
   "source": [
    "a  =\"hello world\"\n",
    "b =\"Python\"\n",
    "\n",
    "c=(a,b)\n",
    "print(c)\n",
    "\n",
    "name =\" \".join(c)\n",
    "print()"
   ]
  },
  {
   "cell_type": "markdown",
   "id": "9d6a7dd2",
   "metadata": {},
   "source": [
    "# RANDOM\n",
    "\n",
    "uniform\n",
    "random\n",
    "randrange\n",
    "randint"
   ]
  },
  {
   "cell_type": "code",
   "execution_count": 1,
   "id": "85858059",
   "metadata": {},
   "outputs": [
    {
     "name": "stdout",
     "output_type": "stream",
     "text": [
      "0.2610642136591964\n"
     ]
    }
   ],
   "source": [
    "#generate random numbers in python\n",
    "\n",
    "import random\n",
    "print(random.random())"
   ]
  },
  {
   "cell_type": "code",
   "execution_count": 2,
   "id": "c028eeab",
   "metadata": {},
   "outputs": [
    {
     "name": "stdout",
     "output_type": "stream",
     "text": [
      "7\n"
     ]
    }
   ],
   "source": [
    "print(random.randrange(0,11))"
   ]
  },
  {
   "cell_type": "code",
   "execution_count": 3,
   "id": "2085796b",
   "metadata": {},
   "outputs": [
    {
     "name": "stdout",
     "output_type": "stream",
     "text": [
      "4.270446150791503\n"
     ]
    }
   ],
   "source": [
    "print(random.uniform(0,10))"
   ]
  },
  {
   "cell_type": "code",
   "execution_count": 4,
   "id": "b9597ca3",
   "metadata": {},
   "outputs": [
    {
     "name": "stdout",
     "output_type": "stream",
     "text": [
      "0.5058537977850275\n"
     ]
    }
   ],
   "source": [
    "#make a program that creates a random number and stores it into x\n",
    "\n",
    "x=random.random()\n",
    "print(x)"
   ]
  },
  {
   "cell_type": "code",
   "execution_count": 9,
   "id": "d9ab61df",
   "metadata": {},
   "outputs": [
    {
     "name": "stdout",
     "output_type": "stream",
     "text": [
      "[51, 32, 33, 43, 84, 22, 23, 86, 90, 72, 93, 70, 69, 71, 10, 52, 77, 72, 56, 2, 47, 9, 44, 15, 20, 3, 31, 27, 41, 29, 58, 81, 67, 51, 6, 71, 45, 27, 47, 73, 39, 80, 76, 71, 100, 11, 63, 83, 13, 74, 51, 5, 84, 95, 6, 50, 19, 66, 14, 19, 88, 35, 15, 31, 21, 74, 86, 83, 89, 52, 89, 34, 82, 5, 11, 79, 70, 86, 68, 96, 32, 76, 36, 75, 11, 1, 98, 27, 30, 9, 37, 66, 59, 59, 80, 32, 13, 57, 9, 43]\n"
     ]
    }
   ],
   "source": [
    "#create a program that generates 100 random numbers and find the frequency of each number\n",
    "\n",
    "import random\n",
    "randomlist=[]#emptylist\n",
    "for i in range(0,100):\n",
    "    n=random.randint(1,100)\n",
    "    randomlist.append(n)\n",
    "print(randomlist)\n"
   ]
  },
  {
   "cell_type": "code",
   "execution_count": 5,
   "id": "e1848002",
   "metadata": {},
   "outputs": [
    {
     "name": "stdout",
     "output_type": "stream",
     "text": [
      "98.96184142071759\n",
      "99\n"
     ]
    }
   ],
   "source": [
    "# 1 to 100\n",
    "\n",
    "import random\n",
    "x =random.uniform(1,100)\n",
    "print(x)\n",
    "\n",
    "print(round(x))"
   ]
  },
  {
   "cell_type": "code",
   "execution_count": 7,
   "id": "a31393a9",
   "metadata": {},
   "outputs": [
    {
     "name": "stdout",
     "output_type": "stream",
     "text": [
      "[59, 65, 39]\n"
     ]
    }
   ],
   "source": [
    "#make a program that prints 3 random numbers\n",
    "\n",
    "import random\n",
    "randomlist=[]#emptylist\n",
    "for i in range(0,3):\n",
    "    n=random.randint(1,100)\n",
    "    randomlist.append(n)\n",
    "print(randomlist)\n",
    "       \n",
    "    "
   ]
  },
  {
   "cell_type": "code",
   "execution_count": 10,
   "id": "67241c8e",
   "metadata": {},
   "outputs": [
    {
     "name": "stdout",
     "output_type": "stream",
     "text": [
      "randrange 1\n",
      "randint 1\n"
     ]
    }
   ],
   "source": [
    "print(\"randrange\",random.randrange(1,5))\n",
    "print(\"randint\",random.randint(1,5))     "
   ]
  },
  {
   "cell_type": "markdown",
   "id": "e7732e05",
   "metadata": {},
   "source": [
    "# DATE TIME\n",
    "\n"
   ]
  },
  {
   "cell_type": "code",
   "execution_count": null,
   "id": "3d329e99",
   "metadata": {},
   "outputs": [],
   "source": [
    "#TIME\n",
    "1.time.time\n",
    "2.time.localtime\n",
    "3.time.asctime\n",
    "4.time.clock\n",
    "5.time.sleep"
   ]
  },
  {
   "cell_type": "code",
   "execution_count": 11,
   "id": "7de8d4fc",
   "metadata": {},
   "outputs": [
    {
     "data": {
      "text/plain": [
       "1700133980.2252848"
      ]
     },
     "execution_count": 11,
     "metadata": {},
     "output_type": "execute_result"
    }
   ],
   "source": [
    "import time\n",
    "time.time()"
   ]
  },
  {
   "cell_type": "code",
   "execution_count": 12,
   "id": "734bbfa2",
   "metadata": {},
   "outputs": [
    {
     "name": "stdout",
     "output_type": "stream",
     "text": [
      "245\n"
     ]
    }
   ],
   "source": [
    "print(365-320)"
   ]
  },
  {
   "cell_type": "code",
   "execution_count": 13,
   "id": "f9acea73",
   "metadata": {},
   "outputs": [
    {
     "data": {
      "text/plain": [
       "time.struct_time(tm_year=2023, tm_mon=11, tm_mday=16, tm_hour=16, tm_min=57, tm_sec=4, tm_wday=3, tm_yday=320, tm_isdst=0)"
      ]
     },
     "execution_count": 13,
     "metadata": {},
     "output_type": "execute_result"
    }
   ],
   "source": [
    "time.localtime()#0 mon,#1 tues\n"
   ]
  },
  {
   "cell_type": "code",
   "execution_count": 14,
   "id": "046565f3",
   "metadata": {},
   "outputs": [
    {
     "data": {
      "text/plain": [
       "'Thu Nov 16 16:57:46 2023'"
      ]
     },
     "execution_count": 14,
     "metadata": {},
     "output_type": "execute_result"
    }
   ],
   "source": [
    "time.asctime(time.localtime(time.time()))"
   ]
  },
  {
   "cell_type": "code",
   "execution_count": 15,
   "id": "fa37b96b",
   "metadata": {},
   "outputs": [
    {
     "name": "stdout",
     "output_type": "stream",
     "text": [
      "p\n",
      "y\n",
      "t\n",
      "h\n",
      "o\n",
      "n\n"
     ]
    }
   ],
   "source": [
    "for a in \"python\":\n",
    "    print(a)\n",
    "    time.sleep(3)"
   ]
  },
  {
   "cell_type": "code",
   "execution_count": null,
   "id": "90cfec65",
   "metadata": {},
   "outputs": [],
   "source": [
    "pip install dateparser\n"
   ]
  },
  {
   "cell_type": "code",
   "execution_count": 2,
   "id": "383be676",
   "metadata": {},
   "outputs": [
    {
     "name": "stdout",
     "output_type": "stream",
     "text": [
      "2023-11-17 13:00:22.563717\n",
      "2023-11-19 13:00:22.658259\n"
     ]
    }
   ],
   "source": [
    "import dateparser\n",
    "print(dateparser.parse('yesterday'))\n",
    "print(dateparser.parse('morgen'))"
   ]
  },
  {
   "cell_type": "code",
   "execution_count": 9,
   "id": "4a2e2b16",
   "metadata": {},
   "outputs": [
    {
     "name": "stdout",
     "output_type": "stream",
     "text": [
      "Defaulting to user installation because normal site-packages is not writeable\n",
      "Note: you may need to restart the kernel to use updated packages.\n"
     ]
    },
    {
     "name": "stderr",
     "output_type": "stream",
     "text": [
      "ERROR: Could not find a version that satisfies the requirement calendar (from versions: none)\n",
      "ERROR: No matching distribution found for calendar\n"
     ]
    }
   ],
   "source": [
    "pip install calendar\n"
   ]
  },
  {
   "cell_type": "code",
   "execution_count": 10,
   "id": "32e7924e",
   "metadata": {},
   "outputs": [
    {
     "ename": "SyntaxError",
     "evalue": "invalid decimal literal (1707179230.py, line 2)",
     "output_type": "error",
     "traceback": [
      "\u001b[1;36m  Cell \u001b[1;32mIn[10], line 2\u001b[1;36m\u001b[0m\n\u001b[1;33m    1.Month\u001b[0m\n\u001b[1;37m     ^\u001b[0m\n\u001b[1;31mSyntaxError\u001b[0m\u001b[1;31m:\u001b[0m invalid decimal literal\n"
     ]
    }
   ],
   "source": [
    "#calender\n",
    "1.Month\n",
    "2.calendar(complete year)"
   ]
  },
  {
   "cell_type": "code",
   "execution_count": 14,
   "id": "a15e6596",
   "metadata": {},
   "outputs": [],
   "source": [
    "import calendar\n"
   ]
  },
  {
   "cell_type": "code",
   "execution_count": 15,
   "id": "7b2e518a",
   "metadata": {},
   "outputs": [
    {
     "name": "stdout",
     "output_type": "stream",
     "text": [
      "   November 2023\n",
      "Mo Tu We Th Fr Sa Su\n",
      "       1  2  3  4  5\n",
      " 6  7  8  9 10 11 12\n",
      "13 14 15 16 17 18 19\n",
      "20 21 22 23 24 25 26\n",
      "27 28 29 30\n",
      "\n"
     ]
    }
   ],
   "source": [
    "cal=calendar.month(2023,11)\n",
    "print(cal)"
   ]
  },
  {
   "cell_type": "code",
   "execution_count": 16,
   "id": "9b914085",
   "metadata": {},
   "outputs": [
    {
     "data": {
      "text/plain": [
       "(2, 30)"
      ]
     },
     "execution_count": 16,
     "metadata": {},
     "output_type": "execute_result"
    }
   ],
   "source": [
    "calendar.monthrange(2023,11)#start day of month"
   ]
  },
  {
   "cell_type": "code",
   "execution_count": 17,
   "id": "ee888f14",
   "metadata": {},
   "outputs": [
    {
     "name": "stdout",
     "output_type": "stream",
     "text": [
      "\n",
      "January\n",
      "February\n",
      "March\n",
      "April\n",
      "May\n",
      "June\n",
      "July\n",
      "August\n",
      "September\n",
      "October\n",
      "November\n",
      "December\n"
     ]
    }
   ],
   "source": [
    "for name in calendar.month_name:\n",
    "    print(name)"
   ]
  },
  {
   "cell_type": "code",
   "execution_count": 20,
   "id": "6eac3d38",
   "metadata": {},
   "outputs": [
    {
     "name": "stdout",
     "output_type": "stream",
     "text": [
      "                                  2023\n",
      "\n",
      "      January                   February                   March\n",
      "Mo Tu We Th Fr Sa Su      Mo Tu We Th Fr Sa Su      Mo Tu We Th Fr Sa Su\n",
      "                   1             1  2  3  4  5             1  2  3  4  5\n",
      " 2  3  4  5  6  7  8       6  7  8  9 10 11 12       6  7  8  9 10 11 12\n",
      " 9 10 11 12 13 14 15      13 14 15 16 17 18 19      13 14 15 16 17 18 19\n",
      "16 17 18 19 20 21 22      20 21 22 23 24 25 26      20 21 22 23 24 25 26\n",
      "23 24 25 26 27 28 29      27 28                     27 28 29 30 31\n",
      "30 31\n",
      "\n",
      "       April                      May                       June\n",
      "Mo Tu We Th Fr Sa Su      Mo Tu We Th Fr Sa Su      Mo Tu We Th Fr Sa Su\n",
      "                1  2       1  2  3  4  5  6  7                1  2  3  4\n",
      " 3  4  5  6  7  8  9       8  9 10 11 12 13 14       5  6  7  8  9 10 11\n",
      "10 11 12 13 14 15 16      15 16 17 18 19 20 21      12 13 14 15 16 17 18\n",
      "17 18 19 20 21 22 23      22 23 24 25 26 27 28      19 20 21 22 23 24 25\n",
      "24 25 26 27 28 29 30      29 30 31                  26 27 28 29 30\n",
      "\n",
      "        July                     August                  September\n",
      "Mo Tu We Th Fr Sa Su      Mo Tu We Th Fr Sa Su      Mo Tu We Th Fr Sa Su\n",
      "                1  2          1  2  3  4  5  6                   1  2  3\n",
      " 3  4  5  6  7  8  9       7  8  9 10 11 12 13       4  5  6  7  8  9 10\n",
      "10 11 12 13 14 15 16      14 15 16 17 18 19 20      11 12 13 14 15 16 17\n",
      "17 18 19 20 21 22 23      21 22 23 24 25 26 27      18 19 20 21 22 23 24\n",
      "24 25 26 27 28 29 30      28 29 30 31               25 26 27 28 29 30\n",
      "31\n",
      "\n",
      "      October                   November                  December\n",
      "Mo Tu We Th Fr Sa Su      Mo Tu We Th Fr Sa Su      Mo Tu We Th Fr Sa Su\n",
      "                   1             1  2  3  4  5                   1  2  3\n",
      " 2  3  4  5  6  7  8       6  7  8  9 10 11 12       4  5  6  7  8  9 10\n",
      " 9 10 11 12 13 14 15      13 14 15 16 17 18 19      11 12 13 14 15 16 17\n",
      "16 17 18 19 20 21 22      20 21 22 23 24 25 26      18 19 20 21 22 23 24\n",
      "23 24 25 26 27 28 29      27 28 29 30               25 26 27 28 29 30 31\n",
      "30 31\n",
      "\n"
     ]
    }
   ],
   "source": [
    "cal=calendar.calendar(2023)\n",
    "print(cal)"
   ]
  },
  {
   "cell_type": "code",
   "execution_count": 21,
   "id": "b26ffdda",
   "metadata": {},
   "outputs": [
    {
     "name": "stdout",
     "output_type": "stream",
     "text": [
      "<calendar._localized_month object at 0x0000023CE424FE90>\n"
     ]
    }
   ],
   "source": [
    "print(calendar.month_name)"
   ]
  },
  {
   "cell_type": "code",
   "execution_count": 22,
   "id": "8a6f0539",
   "metadata": {},
   "outputs": [
    {
     "name": "stdout",
     "output_type": "stream",
     "text": [
      "Mo Tu We Th Fr Sa Su\n"
     ]
    }
   ],
   "source": [
    "print(calendar.weekheader(2))\n",
    "     "
   ]
  },
  {
   "cell_type": "code",
   "execution_count": null,
   "id": "8fc6d326",
   "metadata": {},
   "outputs": [],
   "source": [
    "#time and CALL\n",
    "1.strftime(str)\n",
    "2.strptime(tuple)\n",
    "3.mktime"
   ]
  },
  {
   "cell_type": "code",
   "execution_count": 24,
   "id": "41e914e8",
   "metadata": {},
   "outputs": [],
   "source": [
    "import time\n"
   ]
  },
  {
   "cell_type": "code",
   "execution_count": 25,
   "id": "7ec6865d",
   "metadata": {},
   "outputs": [
    {
     "name": "stdout",
     "output_type": "stream",
     "text": [
      "Oct 02 2023 16:45:34\n"
     ]
    }
   ],
   "source": [
    "t=(2023,10,2,16,45,34,1,23,0)\n",
    "T=time.mktime(t)\n",
    "print(time.strftime(\"%b %d %Y %H:%M:%S\",time.localtime(T)))"
   ]
  },
  {
   "cell_type": "code",
   "execution_count": 26,
   "id": "d4b636aa",
   "metadata": {},
   "outputs": [
    {
     "name": "stdout",
     "output_type": "stream",
     "text": [
      "time.struct_time(tm_year=2021, tm_mon=12, tm_mday=30, tm_hour=0, tm_min=0, tm_sec=0, tm_wday=3, tm_yday=364, tm_isdst=-1)\n"
     ]
    }
   ],
   "source": [
    "stru=time.strptime(\"30 12 2021\",\"%d %m %Y\")\n",
    "print(stru)"
   ]
  },
  {
   "cell_type": "code",
   "execution_count": 27,
   "id": "a3856603",
   "metadata": {},
   "outputs": [
    {
     "data": {
      "text/plain": [
       "4"
      ]
     },
     "execution_count": 27,
     "metadata": {},
     "output_type": "execute_result"
    }
   ],
   "source": [
    "calendar.weekday(2023,11,3)"
   ]
  },
  {
   "cell_type": "code",
   "execution_count": 28,
   "id": "33a1fa04",
   "metadata": {},
   "outputs": [
    {
     "data": {
      "text/plain": [
       "False"
      ]
     },
     "execution_count": 28,
     "metadata": {},
     "output_type": "execute_result"
    }
   ],
   "source": [
    "calendar.isleap(2023)"
   ]
  },
  {
   "cell_type": "code",
   "execution_count": 29,
   "id": "b5ac242e",
   "metadata": {},
   "outputs": [
    {
     "data": {
      "text/plain": [
       "True"
      ]
     },
     "execution_count": 29,
     "metadata": {},
     "output_type": "execute_result"
    }
   ],
   "source": [
    "calendar.isleap(2020)"
   ]
  },
  {
   "cell_type": "code",
   "execution_count": 30,
   "id": "48ed43be",
   "metadata": {},
   "outputs": [
    {
     "data": {
      "text/plain": [
       "6"
      ]
     },
     "execution_count": 30,
     "metadata": {},
     "output_type": "execute_result"
    }
   ],
   "source": [
    "calendar.leapdays(2000,2023)"
   ]
  },
  {
   "cell_type": "code",
   "execution_count": 31,
   "id": "b07d622f",
   "metadata": {},
   "outputs": [],
   "source": [
    "import datetime"
   ]
  },
  {
   "cell_type": "code",
   "execution_count": 32,
   "id": "7b8ed0da",
   "metadata": {},
   "outputs": [
    {
     "name": "stdout",
     "output_type": "stream",
     "text": [
      "Defaulting to user installation because normal site-packages is not writeable\n",
      "Collecting datetime\n",
      "  Obtaining dependency information for datetime from https://files.pythonhosted.org/packages/d3/63/dced85cf2970b5d363e501a10aa051e71caea3ad10a60b7a57794f43a4b8/DateTime-5.3-py3-none-any.whl.metadata\n",
      "  Downloading DateTime-5.3-py3-none-any.whl.metadata (33 kB)\n",
      "Requirement already satisfied: zope.interface in c:\\programdata\\anaconda3\\lib\\site-packages (from datetime) (5.4.0)\n",
      "Requirement already satisfied: pytz in c:\\programdata\\anaconda3\\lib\\site-packages (from datetime) (2023.3.post1)\n",
      "Requirement already satisfied: setuptools in c:\\programdata\\anaconda3\\lib\\site-packages (from zope.interface->datetime) (68.0.0)\n",
      "Downloading DateTime-5.3-py3-none-any.whl (52 kB)\n",
      "   ---------------------------------------- 0.0/52.2 kB ? eta -:--:--\n",
      "   ------- -------------------------------- 10.2/52.2 kB ? eta -:--:--\n",
      "   ---------------------------------------- 52.2/52.2 kB 537.5 kB/s eta 0:00:00\n",
      "Installing collected packages: datetime\n",
      "Successfully installed datetime-5.3\n",
      "Note: you may need to restart the kernel to use updated packages.\n"
     ]
    }
   ],
   "source": [
    "pip install datetime"
   ]
  },
  {
   "cell_type": "code",
   "execution_count": 33,
   "id": "bad91303",
   "metadata": {},
   "outputs": [
    {
     "name": "stdout",
     "output_type": "stream",
     "text": [
      "10 days, 0:00:00\n"
     ]
    }
   ],
   "source": [
    "print(datetime.timedelta(days=10))"
   ]
  },
  {
   "cell_type": "code",
   "execution_count": 35,
   "id": "18ba22a0",
   "metadata": {},
   "outputs": [
    {
     "name": "stdout",
     "output_type": "stream",
     "text": [
      "4 days, 0:00:01\n",
      "4\n",
      "345601.0\n"
     ]
    }
   ],
   "source": [
    "from datetime import datetime\n",
    "a =datetime(2016,10,6,0,0,0)\n",
    "b =datetime(2016,10,1,23,59,59)\n",
    "print(a-b)\n",
    "print((a-b).days)\n",
    "print((a-b).total_seconds())\n"
   ]
  },
  {
   "cell_type": "code",
   "execution_count": 36,
   "id": "72d9b3fd",
   "metadata": {},
   "outputs": [
    {
     "name": "stdout",
     "output_type": "stream",
     "text": [
      "261\n"
     ]
    }
   ],
   "source": [
    "\n",
    "a=[1,2,7,8,11,221,11]\n",
    "sum=sum(a)\n",
    "print(sum)"
   ]
  },
  {
   "cell_type": "code",
   "execution_count": 47,
   "id": "ef828cef",
   "metadata": {},
   "outputs": [
    {
     "ename": "TypeError",
     "evalue": "'int' object is not callable",
     "output_type": "error",
     "traceback": [
      "\u001b[1;31m---------------------------------------------------------------------------\u001b[0m",
      "\u001b[1;31mTypeError\u001b[0m                                 Traceback (most recent call last)",
      "Cell \u001b[1;32mIn[47], line 1\u001b[0m\n\u001b[1;32m----> 1\u001b[0m lent \u001b[38;5;241m=\u001b[39m \u001b[38;5;28mlen\u001b[39m(a)\n\u001b[0;32m      2\u001b[0m \u001b[38;5;28mprint\u001b[39m(lent)\n",
      "\u001b[1;31mTypeError\u001b[0m: 'int' object is not callable"
     ]
    }
   ],
   "source": [
    "lent = len(a)\n",
    "print(lent)"
   ]
  },
  {
   "cell_type": "markdown",
   "id": "ce0dca55",
   "metadata": {},
   "source": []
  },
  {
   "cell_type": "code",
   "execution_count": 44,
   "id": "ac9a221c",
   "metadata": {},
   "outputs": [
    {
     "name": "stdout",
     "output_type": "stream",
     "text": [
      "221\n"
     ]
    }
   ],
   "source": [
    "maxx =max(a)\n",
    "print(maxx)"
   ]
  },
  {
   "cell_type": "code",
   "execution_count": 45,
   "id": "efef68ed",
   "metadata": {},
   "outputs": [
    {
     "name": "stdout",
     "output_type": "stream",
     "text": [
      "1\n"
     ]
    }
   ],
   "source": [
    "minn =min(a)\n",
    "print(minn)"
   ]
  },
  {
   "cell_type": "code",
   "execution_count": 46,
   "id": "c458576c",
   "metadata": {},
   "outputs": [
    {
     "ename": "TypeError",
     "evalue": "'int' object is not callable",
     "output_type": "error",
     "traceback": [
      "\u001b[1;31m---------------------------------------------------------------------------\u001b[0m",
      "\u001b[1;31mTypeError\u001b[0m                                 Traceback (most recent call last)",
      "Cell \u001b[1;32mIn[46], line 1\u001b[0m\n\u001b[1;32m----> 1\u001b[0m lent \u001b[38;5;241m=\u001b[39m \u001b[38;5;28mlen\u001b[39m(a)\n\u001b[0;32m      2\u001b[0m \u001b[38;5;28mprint\u001b[39m(lent)\n",
      "\u001b[1;31mTypeError\u001b[0m: 'int' object is not callable"
     ]
    }
   ],
   "source": []
  },
  {
   "cell_type": "markdown",
   "id": "fbd9febd",
   "metadata": {},
   "source": [
    "# FUNCTIONS"
   ]
  },
  {
   "cell_type": "code",
   "execution_count": null,
   "id": "08fc17b5",
   "metadata": {},
   "outputs": [],
   "source": [
    "def functionname(parameter):\n",
    "    \"Doc string\"\n",
    "    \"function_suite\"\n",
    "    return"
   ]
  },
  {
   "cell_type": "code",
   "execution_count": 49,
   "id": "be7cb540",
   "metadata": {},
   "outputs": [
    {
     "name": "stdout",
     "output_type": "stream",
     "text": [
      "Educadd\n"
     ]
    }
   ],
   "source": [
    "def name():\n",
    "    print(\"Educadd\")\n",
    "    \n",
    "name()    "
   ]
  },
  {
   "cell_type": "code",
   "execution_count": 50,
   "id": "ca264dd8",
   "metadata": {},
   "outputs": [
    {
     "data": {
      "text/plain": [
       "'AbcBCD'"
      ]
     },
     "execution_count": 50,
     "metadata": {},
     "output_type": "execute_result"
    }
   ],
   "source": [
    "def name():\n",
    "    \n",
    "    fullname = \"Abc\"+\"BCD\"\n",
    "    \n",
    "    return fullname\n",
    "\n",
    "name()"
   ]
  },
  {
   "cell_type": "code",
   "execution_count": 52,
   "id": "22d36f07",
   "metadata": {},
   "outputs": [
    {
     "name": "stdout",
     "output_type": "stream",
     "text": [
      "fullname abcbcd\n"
     ]
    }
   ],
   "source": [
    "def name(fname,lname):\n",
    "     \n",
    "        fullname=fname+lname\n",
    "        print(\"fullname\",fullname)\n",
    "        \n",
    "name(\"abc\",\"bcd\")        \n",
    "    "
   ]
  },
  {
   "cell_type": "code",
   "execution_count": 7,
   "id": "6e009371",
   "metadata": {},
   "outputs": [
    {
     "data": {
      "text/plain": [
       "('fullname', 'ABCDEF')"
      ]
     },
     "execution_count": 7,
     "metadata": {},
     "output_type": "execute_result"
    }
   ],
   "source": [
    "def name(fname,lname):\n",
    "    \n",
    "    fullname = fname+lname\n",
    "    return\"fullname\",fullname\n",
    "        \n",
    "name(\"ABC\",\"DEF\")          "
   ]
  },
  {
   "cell_type": "code",
   "execution_count": 8,
   "id": "d0631e6c",
   "metadata": {},
   "outputs": [
    {
     "name": "stdout",
     "output_type": "stream",
     "text": [
      "1\n",
      "2\n",
      "3\n"
     ]
    }
   ],
   "source": [
    "a =(1,2,3)\n",
    "sum=0\n",
    "\n",
    "for sum in a:\n",
    "    print(sum)"
   ]
  },
  {
   "cell_type": "code",
   "execution_count": 9,
   "id": "a4833213",
   "metadata": {},
   "outputs": [
    {
     "data": {
      "text/plain": [
       "'USA'"
      ]
     },
     "execution_count": 9,
     "metadata": {},
     "output_type": "execute_result"
    }
   ],
   "source": [
    "def name_of_the_country(country=\"USA\"):\n",
    "     return country\n",
    "    \n",
    "name_of_the_country()    "
   ]
  },
  {
   "cell_type": "code",
   "execution_count": 10,
   "id": "77965792",
   "metadata": {},
   "outputs": [
    {
     "data": {
      "text/plain": [
       "'AUS'"
      ]
     },
     "execution_count": 10,
     "metadata": {},
     "output_type": "execute_result"
    }
   ],
   "source": [
    "name_of_the_country(\"AUS\")"
   ]
  },
  {
   "cell_type": "code",
   "execution_count": 11,
   "id": "71a81394",
   "metadata": {},
   "outputs": [
    {
     "data": {
      "text/plain": [
       "10"
      ]
     },
     "execution_count": 11,
     "metadata": {},
     "output_type": "execute_result"
    }
   ],
   "source": [
    "def sum_of_two_numbers(small_number,large_number):\n",
    "    \n",
    "    addition =large_number - small_number\n",
    "    \n",
    "    return addition\n",
    "sum_of_two_numbers(20,30)\n",
    "\n"
   ]
  },
  {
   "cell_type": "code",
   "execution_count": 13,
   "id": "33d463ef",
   "metadata": {},
   "outputs": [
    {
     "data": {
      "text/plain": [
       "-19"
      ]
     },
     "execution_count": 13,
     "metadata": {},
     "output_type": "execute_result"
    }
   ],
   "source": [
    "sum_of_two_numbers(49,30)"
   ]
  },
  {
   "cell_type": "code",
   "execution_count": 14,
   "id": "102962cf",
   "metadata": {},
   "outputs": [
    {
     "data": {
      "text/plain": [
       "-10"
      ]
     },
     "execution_count": 14,
     "metadata": {},
     "output_type": "execute_result"
    }
   ],
   "source": [
    "def sum_of_two_numbers_key_word(small_number=8,large_number=20):\n",
    "    \n",
    "    sumoftwovalues =large_number - small_number\n",
    "    \n",
    "    return sumoftwovalues\n",
    "\n",
    "sum_of_two_numbers_key_word(large_number=20,small_number=30)\n"
   ]
  },
  {
   "cell_type": "code",
   "execution_count": 15,
   "id": "6c4ff95d",
   "metadata": {},
   "outputs": [
    {
     "data": {
      "text/plain": [
       "(1, 2, 3, 4, 5, 6, 7, 8, '1')"
      ]
     },
     "execution_count": 15,
     "metadata": {},
     "output_type": "execute_result"
    }
   ],
   "source": [
    "def add(*adds):\n",
    "    \n",
    "    first_variable = tuple('1')\n",
    "    \n",
    "    second_variable = adds + first_variable\n",
    "    \n",
    "    return second_variable\n",
    "\n",
    "add(1,2,3,4,5,6,7,8)"
   ]
  },
  {
   "cell_type": "code",
   "execution_count": 16,
   "id": "9121919c",
   "metadata": {},
   "outputs": [
    {
     "data": {
      "text/plain": [
       "247"
      ]
     },
     "execution_count": 16,
     "metadata": {},
     "output_type": "execute_result"
    }
   ],
   "source": [
    "def add(*adds):\n",
    "    \n",
    "    sum=0\n",
    "    for i in adds:\n",
    "        sum += i\n",
    "    return sum\n",
    "\n",
    "add(1,2,3,4,5,6,7,8,9,4,33,44,55,66)"
   ]
  },
  {
   "cell_type": "code",
   "execution_count": 17,
   "id": "af52c67b",
   "metadata": {},
   "outputs": [
    {
     "name": "stdout",
     "output_type": "stream",
     "text": [
      "36\n"
     ]
    }
   ],
   "source": [
    "a=(1,2,3,4,5,6,7,8)\n",
    "\n",
    "sum=0\n",
    "\n",
    "for i in a:\n",
    "    sum=sum+i\n",
    "    \n",
    "print(sum)    "
   ]
  },
  {
   "cell_type": "code",
   "execution_count": 18,
   "id": "27cf309d",
   "metadata": {},
   "outputs": [
    {
     "data": {
      "text/plain": [
       "160"
      ]
     },
     "execution_count": 18,
     "metadata": {},
     "output_type": "execute_result"
    }
   ],
   "source": [
    "add(1,2,3,22,33,44,55)"
   ]
  },
  {
   "cell_type": "code",
   "execution_count": 19,
   "id": "6d63e41d",
   "metadata": {},
   "outputs": [
    {
     "name": "stdout",
     "output_type": "stream",
     "text": [
      "{'f_name': 'ABC', 'l_name': 'xyz', 'age': 3, 'phone_no': '75432567890'}\n"
     ]
    }
   ],
   "source": [
    "def student_details(**kwargs):\n",
    "    \n",
    "    return kwargs\n",
    "f_var=student_details(f_name=\"ABC\",l_name=\"xyz\",age=3,phone_no=\"75432567890\")\n",
    "\n",
    "print(f_var)"
   ]
  },
  {
   "cell_type": "code",
   "execution_count": 21,
   "id": "f526006a",
   "metadata": {},
   "outputs": [
    {
     "data": {
      "text/plain": [
       "30"
      ]
     },
     "execution_count": 21,
     "metadata": {},
     "output_type": "execute_result"
    }
   ],
   "source": [
    "def add(P,Q):\n",
    "    return P+Q\n",
    "def sub(P,Q):\n",
    "    return P-Q\n",
    "def div(P,Q):\n",
    "    return P/Q\n",
    "def mul(P,Q):\n",
    "    return P*Q\n",
    "\n",
    "\n",
    "    \n",
    "    "
   ]
  },
  {
   "cell_type": "code",
   "execution_count": 5,
   "id": "33131c6a",
   "metadata": {
    "scrolled": true
   },
   "outputs": [
    {
     "name": "stdout",
     "output_type": "stream",
     "text": [
      "enter the first value10\n",
      "enter the second value10\n",
      "enter the choice1\n",
      "20.0\n"
     ]
    }
   ],
   "source": [
    "f_value=float(input(\"enter the first value\"))\n",
    "s_value=float(input(\"enter the second value\"))\n",
    "choice=float(input(\"enter the choice\"))\n",
    "\n",
    "if(choice==1):\n",
    "    add=f_value+s_value\n",
    "print(add)\n"
   ]
  },
  {
   "cell_type": "code",
   "execution_count": 7,
   "id": "8b2c92a5",
   "metadata": {},
   "outputs": [
    {
     "ename": "NameError",
     "evalue": "name 'p' is not defined",
     "output_type": "error",
     "traceback": [
      "\u001b[1;31m---------------------------------------------------------------------------\u001b[0m",
      "\u001b[1;31mNameError\u001b[0m                                 Traceback (most recent call last)",
      "Cell \u001b[1;32mIn[7], line 7\u001b[0m\n\u001b[0;32m      5\u001b[0m         \u001b[38;5;28msum\u001b[39m \u001b[38;5;241m+\u001b[39m\u001b[38;5;241m=\u001b[39m i\n\u001b[0;32m      6\u001b[0m     \u001b[38;5;28;01mreturn\u001b[39;00m \u001b[38;5;28msum\u001b[39m\n\u001b[1;32m----> 7\u001b[0m add(p,q)\n\u001b[0;32m      8\u001b[0m \u001b[38;5;28;01mdef\u001b[39;00m \u001b[38;5;21msub\u001b[39m(\u001b[38;5;241m*\u001b[39msubs):\n\u001b[0;32m     10\u001b[0m     \u001b[38;5;28msum\u001b[39m\u001b[38;5;241m=\u001b[39m\u001b[38;5;241m0\u001b[39m\n",
      "\u001b[1;31mNameError\u001b[0m: name 'p' is not defined"
     ]
    }
   ],
   "source": [
    "def add(*adds):\n",
    "    \n",
    "    sum=0\n",
    "    for i in adds:\n",
    "        sum += i\n",
    "    return sum\n",
    "add(p,q)\n",
    "def sub(*subs):\n",
    "    \n",
    "    sum=0\n",
    "    for i in adds:\n",
    "        sum -= i\n",
    "    return sum\n",
    "\n",
    "sub(p,q)\n"
   ]
  },
  {
   "cell_type": "code",
   "execution_count": 18,
   "id": "b411997c",
   "metadata": {},
   "outputs": [
    {
     "name": "stdout",
     "output_type": "stream",
     "text": [
      "enter the first value10\n",
      "enter the second value20\n",
      "enter the choice1\n",
      "<function add at 0x000001A5EB379800>\n"
     ]
    }
   ],
   "source": [
    "p=float(input(\"enter the first value\"))\n",
    "q=float(input(\"enter the second value\"))\n",
    "choice=float(input(\"enter the choice\"))\n",
    "\n",
    "if choice==1:\n",
    "    def add(*adds):\n",
    "        sum=0\n",
    "        sum=sum+p+q\n",
    "    \n",
    "add(p,q)\n",
    " \n",
    "print(add)\n",
    "\n"
   ]
  },
  {
   "cell_type": "code",
   "execution_count": 4,
   "id": "87e56d7e",
   "metadata": {},
   "outputs": [
    {
     "ename": "SyntaxError",
     "evalue": "invalid syntax (1591648131.py, line 1)",
     "output_type": "error",
     "traceback": [
      "\u001b[1;36m  Cell \u001b[1;32mIn[4], line 1\u001b[1;36m\u001b[0m\n\u001b[1;33m    python program to add two numbers\u001b[0m\n\u001b[1;37m           ^\u001b[0m\n\u001b[1;31mSyntaxError\u001b[0m\u001b[1;31m:\u001b[0m invalid syntax\n"
     ]
    }
   ],
   "source": [
    "python program to add two numbers\n",
    "\n",
    "\n",
    "\n",
    "def add_num(P,Q):\n",
    "    sum P+Q\n",
    "    return sum;\n",
    "num1=30\n",
    "num2=50\n",
    "print(\"the sum is\",add_num(num1,num2))\n",
    "\n",
    "\n",
    "\n",
    "\n"
   ]
  },
  {
   "cell_type": "code",
   "execution_count": 5,
   "id": "5ded3fe7",
   "metadata": {},
   "outputs": [],
   "source": [
    "P=float()"
   ]
  },
  {
   "cell_type": "code",
   "execution_count": 6,
   "id": "fb7e340b",
   "metadata": {},
   "outputs": [
    {
     "ename": "SyntaxError",
     "evalue": "invalid syntax (2155021648.py, line 2)",
     "output_type": "error",
     "traceback": [
      "\u001b[1;36m  Cell \u001b[1;32mIn[6], line 2\u001b[1;36m\u001b[0m\n\u001b[1;33m    sum P+Q\u001b[0m\n\u001b[1;37m        ^\u001b[0m\n\u001b[1;31mSyntaxError\u001b[0m\u001b[1;31m:\u001b[0m invalid syntax\n"
     ]
    }
   ],
   "source": [
    "def add_num(P,Q):\n",
    "    sum P+Q\n",
    "    return sum;\n",
    "num1=30\n",
    "num2=50\n",
    "print(\"the sum is\",add_num(num1,num2))"
   ]
  },
  {
   "cell_type": "code",
   "execution_count": 8,
   "id": "01838a6e",
   "metadata": {},
   "outputs": [
    {
     "name": "stdout",
     "output_type": "stream",
     "text": [
      "80\n"
     ]
    }
   ],
   "source": [
    "def maximum(a,b):\n",
    "    \n",
    "    if a>=b:\n",
    "        return a\n",
    "    else:\n",
    "        return b\n",
    "\n",
    "a=80\n",
    "b=59\n",
    "print(max(a,b))"
   ]
  },
  {
   "cell_type": "code",
   "execution_count": 23,
   "id": "e38a24f6",
   "metadata": {},
   "outputs": [
    {
     "name": "stdout",
     "output_type": "stream",
     "text": [
      "factorial of 5 is 120\n"
     ]
    }
   ],
   "source": [
    "def factorial(n):\n",
    "    if(n==0):\n",
    "        return 0\n",
    "    elif(n==1):\n",
    "        return 1\n",
    "    else:\n",
    "        return n * factorial(n-1)\n",
    "        \n",
    "    \n",
    "num=5\n",
    "print(\"factorial of\",num ,\"is\",factorial(num))"
   ]
  },
  {
   "cell_type": "code",
   "execution_count": 24,
   "id": "18a4f0a0",
   "metadata": {},
   "outputs": [
    {
     "name": "stdout",
     "output_type": "stream",
     "text": [
      "principal is 1\n",
      "time period is 2\n",
      "rate of interest is 3\n",
      "The simple interest is 0.06\n"
     ]
    },
    {
     "data": {
      "text/plain": [
       "0.06"
      ]
     },
     "execution_count": 24,
     "metadata": {},
     "output_type": "execute_result"
    }
   ],
   "source": [
    "def simple_interest(p,t,r):\n",
    "    print('principal is',p)\n",
    "    print('time period is',t)\n",
    "    print('rate of interest is',r)\n",
    "    \n",
    "    SI = (p*t*r)/100\n",
    "    \n",
    "    print('The simple interest is',SI)\n",
    "    return SI\n",
    "\n",
    "simple_interest(1,2,3)"
   ]
  },
  {
   "cell_type": "code",
   "execution_count": 42,
   "id": "9a80702a",
   "metadata": {},
   "outputs": [
    {
     "data": {
      "text/plain": [
       "50.272"
      ]
     },
     "execution_count": 42,
     "metadata": {},
     "output_type": "execute_result"
    }
   ],
   "source": [
    "def area_circle(pi=3.142,r=10):\n",
    "    \n",
    "\n",
    "    area = pi*r*r\n",
    "    return area\n",
    "\n",
    "area_circle(r=4)"
   ]
  },
  {
   "cell_type": "code",
   "execution_count": 13,
   "id": "4653a2d3",
   "metadata": {},
   "outputs": [
    {
     "ename": "IndentationError",
     "evalue": "expected an indented block after 'if' statement on line 4 (4123913295.py, line 5)",
     "output_type": "error",
     "traceback": [
      "\u001b[1;36m  Cell \u001b[1;32mIn[13], line 5\u001b[1;36m\u001b[0m\n\u001b[1;33m    return \"prime\"\u001b[0m\n\u001b[1;37m    ^\u001b[0m\n\u001b[1;31mIndentationError\u001b[0m\u001b[1;31m:\u001b[0m expected an indented block after 'if' statement on line 4\n"
     ]
    }
   ],
   "source": [
    "def prime_number(i):\n",
    "   \n",
    "    \n",
    "    if(i % 2) ==  0:\n",
    "    return \"prime\"\n",
    "else:\n",
    "    return \"Odd\"\n",
    "\n",
    "n=int(input(\"enetr the value for a=\\n\"))\n",
    "prime(n)\n",
    "    \n",
    "    \n",
    "    \n",
    "\n",
    "    "
   ]
  },
  {
   "cell_type": "code",
   "execution_count": 3,
   "id": "f87bb7f3",
   "metadata": {},
   "outputs": [
    {
     "ename": "IndentationError",
     "evalue": "expected an indented block after 'if' statement on line 3 (234161381.py, line 4)",
     "output_type": "error",
     "traceback": [
      "\u001b[1;36m  Cell \u001b[1;32mIn[3], line 4\u001b[1;36m\u001b[0m\n\u001b[1;33m    return False\u001b[0m\n\u001b[1;37m    ^\u001b[0m\n\u001b[1;31mIndentationError\u001b[0m\u001b[1;31m:\u001b[0m expected an indented block after 'if' statement on line 3\n"
     ]
    }
   ],
   "source": [
    "def prime(n):\n",
    "    for i in range(2,n):\n",
    "        if(n%i) == 0:\n",
    "        return False\n",
    "    return true"
   ]
  },
  {
   "cell_type": "code",
   "execution_count": 15,
   "id": "e9194995",
   "metadata": {},
   "outputs": [
    {
     "name": "stdout",
     "output_type": "stream",
     "text": [
      "enetr the value for a=\n",
      "2\n"
     ]
    },
    {
     "ename": "NameError",
     "evalue": "name 'prime' is not defined",
     "output_type": "error",
     "traceback": [
      "\u001b[1;31m---------------------------------------------------------------------------\u001b[0m",
      "\u001b[1;31mNameError\u001b[0m                                 Traceback (most recent call last)",
      "Cell \u001b[1;32mIn[15], line 10\u001b[0m\n\u001b[0;32m      7\u001b[0m        \u001b[38;5;28;01mreturn\u001b[39;00m \u001b[38;5;124m\"\u001b[39m\u001b[38;5;124mOdd\u001b[39m\u001b[38;5;124m\"\u001b[39m\n\u001b[0;32m      9\u001b[0m n\u001b[38;5;241m=\u001b[39m\u001b[38;5;28mint\u001b[39m(\u001b[38;5;28minput\u001b[39m(\u001b[38;5;124m\"\u001b[39m\u001b[38;5;124menetr the value for a=\u001b[39m\u001b[38;5;130;01m\\n\u001b[39;00m\u001b[38;5;124m\"\u001b[39m))\n\u001b[1;32m---> 10\u001b[0m prime(n)\n",
      "\u001b[1;31mNameError\u001b[0m: name 'prime' is not defined"
     ]
    }
   ],
   "source": [
    " def prime_number(i):\n",
    "   \n",
    "    \n",
    "    if(i % 2) ==  0:\n",
    "        return \"prime\"\n",
    "    else:\n",
    "        return \"Odd\"\n",
    "\n",
    "n=int(input(\"enetr the value for a=\\n\"))\n",
    "prime(n)\n",
    "    \n",
    "    \n",
    "    "
   ]
  },
  {
   "cell_type": "code",
   "execution_count": 18,
   "id": "f52bc9ba",
   "metadata": {},
   "outputs": [
    {
     "name": "stdout",
     "output_type": "stream",
     "text": [
      "enter the value:2\n"
     ]
    },
    {
     "data": {
      "text/plain": [
       "4"
      ]
     },
     "execution_count": 18,
     "metadata": {},
     "output_type": "execute_result"
    }
   ],
   "source": [
    "def square(n):\n",
    "    \n",
    "    sum = 0\n",
    "    for i in range(1,n+1):\n",
    "    \n",
    "       sum = i * i\n",
    "    \n",
    "    return sum\n",
    "\n",
    "n=int(input(\"enter the value:\"))\n",
    "square(n)"
   ]
  },
  {
   "cell_type": "code",
   "execution_count": 25,
   "id": "1a824833",
   "metadata": {},
   "outputs": [
    {
     "name": "stdout",
     "output_type": "stream",
     "text": [
      "enter the value:5\n",
      "i= 1\n",
      "sum= 0\n",
      "i= 2\n",
      "sum= 1\n",
      "i= 3\n",
      "sum= 5\n",
      "i= 4\n",
      "sum= 14\n",
      "i= 5\n",
      "sum= 30\n"
     ]
    },
    {
     "data": {
      "text/plain": [
       "55"
      ]
     },
     "execution_count": 25,
     "metadata": {},
     "output_type": "execute_result"
    }
   ],
   "source": [
    "def square(n):\n",
    "    \n",
    "    sum = 0\n",
    "    for i in range(1,n+1):\n",
    "        print(\"i=\",i)\n",
    "        print(\"sum=\",sum)\n",
    "        \n",
    "    \n",
    "        sum = sum+(i * i)\n",
    "    \n",
    "    return sum\n",
    "\n",
    "n=int(input(\"enter the value:\"))\n",
    "square(n)"
   ]
  },
  {
   "cell_type": "code",
   "execution_count": 26,
   "id": "2756e8d0",
   "metadata": {},
   "outputs": [
    {
     "name": "stdout",
     "output_type": "stream",
     "text": [
      "please provide the number:3\n"
     ]
    },
    {
     "data": {
      "text/plain": [
       "1"
      ]
     },
     "execution_count": 26,
     "metadata": {},
     "output_type": "execute_result"
    }
   ],
   "source": [
    "def fab(n):\n",
    "    if(n<=0):\n",
    "        return \"Incorrect INp\"\n",
    "    elif(n==1):\n",
    "        return 0\n",
    "    elif(n==2):\n",
    "        return 1\n",
    "    else:\n",
    "        return fab(n-1)+fab(n-2)\n",
    "\n",
    "    \n",
    "fibonacci = int(input(\"please provide the number:\"))\n",
    "\n",
    "fab(fibonacci)\n",
    "    \n"
   ]
  },
  {
   "cell_type": "code",
   "execution_count": 28,
   "id": "e1e232a9",
   "metadata": {},
   "outputs": [
    {
     "name": "stdout",
     "output_type": "stream",
     "text": [
      "avg= 8.5\n"
     ]
    },
    {
     "data": {
      "text/plain": [
       "('Total =', 34)"
      ]
     },
     "execution_count": 28,
     "metadata": {},
     "output_type": "execute_result"
    }
   ],
   "source": [
    "#sum of array\n",
    "def array_sum(n,avg):\n",
    "    \n",
    "    sum = 0\n",
    "    for i in n:\n",
    "        sum += i\n",
    "        \n",
    "    average = sum/avg\n",
    "    print(\"avg=\",average)\n",
    "    return \"Total =\",sum\n",
    "\n",
    "arr=[12,3,4,15]\n",
    "array_length = len(arr)\n",
    "array_sum(arr,array_length)"
   ]
  },
  {
   "cell_type": "code",
   "execution_count": 30,
   "id": "f6d4c988",
   "metadata": {},
   "outputs": [
    {
     "name": "stdout",
     "output_type": "stream",
     "text": [
      "Largest in given array  322\n"
     ]
    }
   ],
   "source": [
    "def largest(arr,n):\n",
    "\n",
    "    maxx = arr[0]\n",
    "    \n",
    "    for i in range(1,n):\n",
    "        if arr[i] > maxx:\n",
    "            maxx = arr[i]\n",
    "    return(maxx)\n",
    "\n",
    "arr = [98,246,322,10]\n",
    "n=len(arr)\n",
    "Ans=largest(arr,n)\n",
    "print(\"Largest in given array \", Ans)\n"
   ]
  },
  {
   "cell_type": "code",
   "execution_count": 33,
   "id": "6cad0804",
   "metadata": {},
   "outputs": [
    {
     "name": "stdout",
     "output_type": "stream",
     "text": [
      "min in given array  10\n"
     ]
    }
   ],
   "source": [
    "def min(arr,n):\n",
    "\n",
    "    minn = arr[0]\n",
    "    \n",
    "    for i in range(1,n):\n",
    "        if arr[i] < minn:\n",
    "            minn = arr[i]\n",
    "    return(minn)\n",
    "\n",
    "arr = [98,246,322,10]\n",
    "n=len(arr)\n",
    "Ans=min(arr,n)\n",
    "print(\"min in given array \", Ans)\n"
   ]
  },
  {
   "cell_type": "code",
   "execution_count": 36,
   "id": "533a7ef0",
   "metadata": {},
   "outputs": [
    {
     "data": {
      "text/plain": [
       "('a=', 11, 'b=', 10)"
      ]
     },
     "execution_count": 36,
     "metadata": {},
     "output_type": "execute_result"
    }
   ],
   "source": [
    "def swap(a,b):\n",
    "    \n",
    "    temp = a\n",
    "    a = b\n",
    "    b = temp\n",
    "    \n",
    "    return \"a=\",a,\"b=\",b\n",
    "\n",
    "swap(a=10,b=11)"
   ]
  },
  {
   "cell_type": "code",
   "execution_count": 47,
   "id": "9891a6b2",
   "metadata": {},
   "outputs": [
    {
     "name": "stdout",
     "output_type": "stream",
     "text": [
      "[24, 35, 9, 56, 12]\n"
     ]
    }
   ],
   "source": [
    "def swapList(newList):\n",
    "    size = len(newList)\n",
    "    \n",
    "\n",
    "    temp = newList[0]\n",
    "    newList[0] = newList[size - 1]\n",
    "    newList[size - 1] = temp\n",
    "        \n",
    "    return newList\n",
    "    \n",
    "newList = [12,35,9,56,24]\n",
    "print(swapList(newList))\n",
    "        "
   ]
  },
  {
   "cell_type": "code",
   "execution_count": 3,
   "id": "0c1b05c1",
   "metadata": {},
   "outputs": [
    {
     "name": "stdout",
     "output_type": "stream",
     "text": [
      "5 6 65 45 12 10 "
     ]
    }
   ],
   "source": [
    "#python program to split array and move first\n",
    "#part to end\n",
    "\n",
    "def splitArr(arr,n,k):\n",
    "    for i in range (0,k):\n",
    "        x = arr[0]\n",
    "        for j in range(0,n-1):\n",
    "            arr[j] = arr[j + 1]\n",
    "        arr[n-1] = x\n",
    "        \n",
    "        \n",
    "#main\n",
    "arr = [12,10,5,6,65,45]\n",
    "n = len(arr)\n",
    "position = 2\n",
    "splitArr(arr,n,position)\n",
    "\n",
    "for i in range(0,n):\n",
    "    print(arr[i],end=' ')"
   ]
  },
  {
   "cell_type": "code",
   "execution_count": 5,
   "id": "1a27949a",
   "metadata": {},
   "outputs": [
    {
     "name": "stdout",
     "output_type": "stream",
     "text": [
      "The length of list is:  3\n"
     ]
    }
   ],
   "source": [
    "#How to find length\n",
    "\n",
    "#Python len()\n",
    "li = [10,20,30]\n",
    "n = len(li)\n",
    "print(\"The length of list is: \",n)\n"
   ]
  },
  {
   "cell_type": "code",
   "execution_count": 7,
   "id": "b62c4400",
   "metadata": {},
   "outputs": [
    {
     "name": "stdout",
     "output_type": "stream",
     "text": [
      "The list is: [1, 2, 3, 5, 8]\n",
      "Length of list using native methos is :5\n"
     ]
    }
   ],
   "source": [
    "test_list = [1, 2, 3, 5, 8]\n",
    "\n",
    "print(\"The list is: \" + str(test_list))\n",
    "counter = 0\n",
    "for i in test_list:\n",
    "#incrementing counter\n",
    "     counter += 1\n",
    "print(\"Length of list using native methos is :\" + str(counter))    "
   ]
  },
  {
   "cell_type": "code",
   "execution_count": null,
   "id": "3767eb70",
   "metadata": {},
   "outputs": [],
   "source": [
    "# Different ways to clear a list in python\n",
    "\n",
    "Different ways to Remove from a list in python\n",
    "there are many ways of clearing the list through methods of different constructs offered by python\n",
    "language.\n",
    "Using clear()\n",
    "Reinitializing the list\n",
    "Using \" *= 0\"\n",
    "using pop()method \n",
    "using slicing"
   ]
  },
  {
   "cell_type": "code",
   "execution_count": 9,
   "id": "b70b2136",
   "metadata": {},
   "outputs": [
    {
     "name": "stdout",
     "output_type": "stream",
     "text": [
      "GEEK before clear: [6, 4, 5, 6]\n",
      "GEEK after clear: []\n"
     ]
    }
   ],
   "source": [
    "new = [6, 4, 5, 6]\n",
    "print('GEEK before clear:', new)\n",
    "\n",
    "#clearing list\n",
    "new.clear()\n",
    "print('GEEK after clear:',new)"
   ]
  },
  {
   "cell_type": "code",
   "execution_count": 11,
   "id": "53f120ce",
   "metadata": {},
   "outputs": [
    {
     "name": "stdout",
     "output_type": "stream",
     "text": [
      "List1 before deleting is:[1, 2, 3]\n",
      "List1 after clearing using reinitializatuion : []\n"
     ]
    }
   ],
   "source": [
    "list1 = [1, 2, 3]\n",
    "\n",
    "print(\"List1 before deleting is:\" + str(list1))\n",
    "\n",
    "#deleting list using reinitiallization\n",
    "list1 = []\n",
    "\n",
    "#Printing list2 after reinitialization\n",
    "print(\"List1 after clearing using reinitializatuion : \"+ str(list1))"
   ]
  },
  {
   "cell_type": "code",
   "execution_count": 12,
   "id": "3765d46f",
   "metadata": {},
   "outputs": [
    {
     "name": "stdout",
     "output_type": "stream",
     "text": [
      "[]\n"
     ]
    }
   ],
   "source": [
    "a = [1,2,3,4,5]\n",
    "del a[:]\n",
    "print(a)"
   ]
  },
  {
   "cell_type": "code",
   "execution_count": 13,
   "id": "981ca8a7",
   "metadata": {},
   "outputs": [
    {
     "name": "stdout",
     "output_type": "stream",
     "text": [
      "List1 before deleting is :[1, 2, 3]\n",
      "List1 after clearing using del is :[]\n",
      "List2 before deleting is :[5, 6, 7]\n",
      "List2 after clearing using del is :[]\n"
     ]
    }
   ],
   "source": [
    "list1  = [1,2,3]\n",
    "list2 = [5,6,7]\n",
    "\n",
    "#Printing list1 before deleting\n",
    "print(\"List1 before deleting is :\" + str(list1))\n",
    "\n",
    "#deleting list1 using del\n",
    "del list1[:]\n",
    "print(\"List1 after clearing using del is :\" + str(list1))\n",
    "\n",
    "#Printing list2 before deleting\n",
    "print(\"List2 before deleting is :\" + str(list2))\n",
    "\n",
    "#deleting list2 using del\n",
    "del list2[:]\n",
    "print(\"List2 after clearing using del is :\" + str(list2))"
   ]
  },
  {
   "cell_type": "code",
   "execution_count": 15,
   "id": "36ea5c2a",
   "metadata": {},
   "outputs": [
    {
     "name": "stdout",
     "output_type": "stream",
     "text": [
      "No\n"
     ]
    }
   ],
   "source": [
    "#function which return reverse of a strong\n",
    "\n",
    "def isPalindrome(s):\n",
    "    return s == s[::-1]\n",
    "\n",
    "#Driver code\n",
    "s = \"malayalamm\"\n",
    "ans = isPalindrome(s)\n",
    "\n",
    "if ans:\n",
    "    print(\"Yes\")\n",
    "else:\n",
    "    print(\"No\")\n",
    "    \n",
    "\n"
   ]
  },
  {
   "cell_type": "code",
   "execution_count": 28,
   "id": "ec9acb8a",
   "metadata": {},
   "outputs": [],
   "source": [
    "# function to reverse words of string\n",
    "import re\n",
    "def rev_sentence(sentence):\n",
    "    \n",
    "#find all the words in sentence\n",
    "     words = re.findall('\\wt',sentence)\n",
    "    \n",
    "    #backward iterate over list of words and join using space\n",
    "     reverse_sentence = ' '.join(words[i] for i in range(len(words)-1,-1-1))\n",
    "    \n",
    "    #finally return the joined string\n",
    "     return reverse_sentence\n",
    "\n",
    "if __name__ == \"___main__\":\n",
    "    input = 'new quiz practice code'\n",
    "    print(rev_sentence(input))"
   ]
  },
  {
   "cell_type": "code",
   "execution_count": 34,
   "id": "b1cf9f81",
   "metadata": {},
   "outputs": [],
   "source": [
    "# function to reverse words of string\n",
    "import re\n",
    "def rev_sentence(sentence):\n",
    "    \n",
    "#find all the words in sentence\n",
    "     words = re.findall('\\w+',sentence)\n",
    "    \n",
    "    #backward iterate over list of words and join using space\n",
    "     reverse_sentence = ' '.join(words[i] for i in range(len(words),-1,-1,-1))\n",
    "    \n",
    "    #finally return the joined string\n",
    "     return reverse_sentence\n",
    "\n",
    "if __name__ == \"___main__\":\n",
    "    input = 'new quiz practice code'\n",
    "    print(rev_sentence(input))"
   ]
  },
  {
   "cell_type": "code",
   "execution_count": 38,
   "id": "430b32cc",
   "metadata": {},
   "outputs": [
    {
     "name": "stdout",
     "output_type": "stream",
     "text": [
      "code practice quiz new\n"
     ]
    }
   ],
   "source": [
    "import re\n",
    "\n",
    "def rev_sen(sent):\n",
    "    \n",
    "    word = re.findall('\\w+',sent)\n",
    "    rev_sentence = ' '.join(word[i] for i in range(len(word)-1,-1,-1))\n",
    "    \n",
    "    return rev_sentence\n",
    "\n",
    "\n",
    "if __name__ == \"__main__\":\n",
    "    \n",
    "    value = 'new quiz practice code'\n",
    "    print(rev_sen(value))"
   ]
  },
  {
   "cell_type": "code",
   "execution_count": 5,
   "id": "4926d26a",
   "metadata": {},
   "outputs": [
    {
     "name": "stdout",
     "output_type": "stream",
     "text": [
      "After Swapping: x = 5  y = 10\n"
     ]
    }
   ],
   "source": [
    "x = 10\n",
    "y = 5\n",
    " \n",
    "\n",
    " \n",
    "#x now becomes 10\n",
    "x = x + y\n",
    " \n",
    "\n",
    "y = x - y\n",
    " \n",
    "\n",
    "x = x - y\n",
    "print(\"After Swapping: x =\", x, \" y =\", y)\n",
    " "
   ]
  },
  {
   "cell_type": "code",
   "execution_count": 6,
   "id": "ddd212d9",
   "metadata": {},
   "outputs": [
    {
     "name": "stdout",
     "output_type": "stream",
     "text": [
      "DEF ABC\n"
     ]
    }
   ],
   "source": [
    "#LAMBDA EXPRESSIONS\n",
    "\n",
    "firstname = lambda lastname,fsname: fsname+ \" \"+lastname\n",
    "\n",
    "print(firstname(\"ABC\" ,\"DEF\"))"
   ]
  },
  {
   "cell_type": "code",
   "execution_count": 9,
   "id": "ad822204",
   "metadata": {},
   "outputs": [
    {
     "name": "stdout",
     "output_type": "stream",
     "text": [
      "Educadd Thinkworks\n"
     ]
    }
   ],
   "source": [
    "firstname = lambda lastname: lastname+ \" \"+\"Thinkworks\"\n",
    "print(firstname(\"Educadd\"))\n"
   ]
  },
  {
   "cell_type": "code",
   "execution_count": 10,
   "id": "14e6474a",
   "metadata": {},
   "outputs": [
    {
     "name": "stdout",
     "output_type": "stream",
     "text": [
      "7\n"
     ]
    }
   ],
   "source": [
    "var = lambda a,b : a+b\n",
    "\n",
    "print(var(5,2))\n"
   ]
  },
  {
   "cell_type": "code",
   "execution_count": 11,
   "id": "539423ba",
   "metadata": {},
   "outputs": [
    {
     "name": "stdout",
     "output_type": "stream",
     "text": [
      "With argument value 5 :  25\n",
      "With argument value 10 :  30\n"
     ]
    }
   ],
   "source": [
    "var = lambda a : a+20\n",
    "\n",
    "print('With argument value 5 : ',var(5))\n",
    "print('With argument value 10 : ',var(10))\n"
   ]
  },
  {
   "cell_type": "code",
   "execution_count": 12,
   "id": "77284cd0",
   "metadata": {},
   "outputs": [
    {
     "name": "stdout",
     "output_type": "stream",
     "text": [
      "8\n"
     ]
    }
   ],
   "source": [
    "maxx = lambda x,y: x if(x>y) else y\n",
    "\n",
    "print(maxx(8,1))"
   ]
  },
  {
   "cell_type": "code",
   "execution_count": 13,
   "id": "379c3d82",
   "metadata": {},
   "outputs": [
    {
     "name": "stdout",
     "output_type": "stream",
     "text": [
      "1\n"
     ]
    }
   ],
   "source": [
    "minn = lambda x,y: x if(x<y) else y\n",
    "\n",
    "print(minn(8,1))"
   ]
  },
  {
   "cell_type": "code",
   "execution_count": 16,
   "id": "c84b6202",
   "metadata": {},
   "outputs": [
    {
     "name": "stdout",
     "output_type": "stream",
     "text": [
      "5\n"
     ]
    }
   ],
   "source": [
    "add = lambda x,y: x + y\n",
    "\n",
    "print(add(2,3))"
   ]
  },
  {
   "cell_type": "code",
   "execution_count": 17,
   "id": "4151ebcd",
   "metadata": {},
   "outputs": [
    {
     "name": "stdout",
     "output_type": "stream",
     "text": [
      "7\n"
     ]
    }
   ],
   "source": [
    "sub = lambda x,y: x - y\n",
    "\n",
    "print(sub(10,3))"
   ]
  },
  {
   "cell_type": "code",
   "execution_count": 18,
   "id": "4a271560",
   "metadata": {},
   "outputs": [
    {
     "name": "stdout",
     "output_type": "stream",
     "text": [
      "6\n"
     ]
    }
   ],
   "source": [
    "mul = lambda x,y: x * y\n",
    "\n",
    "print(mul(2,3))"
   ]
  },
  {
   "cell_type": "code",
   "execution_count": 19,
   "id": "6223cf8f",
   "metadata": {},
   "outputs": [
    {
     "name": "stdout",
     "output_type": "stream",
     "text": [
      "10.0\n"
     ]
    }
   ],
   "source": [
    "div = lambda x,y: x / y\n",
    "\n",
    "print(div(30,3))"
   ]
  },
  {
   "cell_type": "code",
   "execution_count": 24,
   "id": "96c762ec",
   "metadata": {},
   "outputs": [
    {
     "name": "stdout",
     "output_type": "stream",
     "text": [
      "15.0\n"
     ]
    }
   ],
   "source": [
    "avg = lambda x,y: (x + y)/2\n",
    "\n",
    "print(avg(10,20))"
   ]
  },
  {
   "cell_type": "code",
   "execution_count": 22,
   "id": "34021e16",
   "metadata": {},
   "outputs": [
    {
     "name": "stdout",
     "output_type": "stream",
     "text": [
      "40\n"
     ]
    }
   ],
   "source": [
    "# Alambda function with two arguments\n",
    "\n",
    "value = lambda a:a+20\n",
    "print(value(20))"
   ]
  },
  {
   "cell_type": "code",
   "execution_count": 23,
   "id": "a4c21dbc",
   "metadata": {},
   "outputs": [
    {
     "name": "stdout",
     "output_type": "stream",
     "text": [
      "The value of 5+3 =  8\n",
      "The value of 7+2 =  9\n"
     ]
    }
   ],
   "source": [
    "lambda_add = lambda a,b : a+b\n",
    "\n",
    "print('The value of 5+3 = ',lambda_add(5,3))\n",
    "print('The value of 7+2 = ',lambda_add(7,2))\n"
   ]
  },
  {
   "cell_type": "code",
   "execution_count": 4,
   "id": "e386db2e",
   "metadata": {},
   "outputs": [
    {
     "name": "stdout",
     "output_type": "stream",
     "text": [
      "The odd numbers are : [5, 17, 43, 237, 133, 21]\n"
     ]
    }
   ],
   "source": [
    "original_list = [5, 17, 32, 43, 12, 62, 237, 133, 78, 21]\n",
    "\n",
    "filtered_list = list(filter(lambda x: (x%2!=0) , original_list))\n",
    "\n",
    "print('The odd numbers are :' ,filtered_list)"
   ]
  },
  {
   "cell_type": "code",
   "execution_count": 1,
   "id": "bdda7960",
   "metadata": {},
   "outputs": [
    {
     "ename": "SyntaxError",
     "evalue": "unterminated string literal (detected at line 5) (11401655.py, line 5)",
     "output_type": "error",
     "traceback": [
      "\u001b[1;36m  Cell \u001b[1;32mIn[1], line 5\u001b[1;36m\u001b[0m\n\u001b[1;33m    print('The odd numbers are: ,filtered_list)\u001b[0m\n\u001b[1;37m          ^\u001b[0m\n\u001b[1;31mSyntaxError\u001b[0m\u001b[1;31m:\u001b[0m unterminated string literal (detected at line 5)\n"
     ]
    }
   ],
   "source": [
    "original_list = [5, 17, 32, 43, 12, 62, 237, 133, 78, 21]\n",
    "\n",
    "filtered_list = list(filter(lambda x: (x%2==0) , original_list)\n",
    "\n",
    "print('The odd numbers are: ,filtered_list)"
   ]
  },
  {
   "cell_type": "markdown",
   "id": "813595bc",
   "metadata": {},
   "source": [
    "# MAP FUNCTION\n",
    "\n",
    "\n"
   ]
  },
  {
   "cell_type": "code",
   "execution_count": 11,
   "id": "89b6c44e",
   "metadata": {},
   "outputs": [
    {
     "name": "stdout",
     "output_type": "stream",
     "text": [
      "New List :  [1, 2, 3, 4, 5, 6, 7, 8, 9, 10]\n"
     ]
    }
   ],
   "source": [
    "original_list = [1, 2, 3, 4, 5, 6, 7, 8, 9, 10]\n",
    "#double each number in the original list\n",
    "mapped_list = list(map(lambda x: x*2,original_list))\n",
    "print('New List : ',mapped_list)"
   ]
  },
  {
   "cell_type": "code",
   "execution_count": 9,
   "id": "de08ac65",
   "metadata": {},
   "outputs": [
    {
     "name": "stdout",
     "output_type": "stream",
     "text": [
      "New List :  ['Analytics', 'Vidhya', 'King', 'South', 'East']\n"
     ]
    }
   ],
   "source": [
    "original_list = ['analytics','vidhya','king','south','east']\n",
    "#capitalize first letter of each word in the original list\n",
    "mapped_list = list(map(lambda x: x[0].upper()+x[1:],original_list))\n",
    "print('New List : ',mapped_list)"
   ]
  },
  {
   "cell_type": "markdown",
   "id": "1ce999b4",
   "metadata": {},
   "source": [
    "\n",
    "# REdUce function"
   ]
  },
  {
   "cell_type": "markdown",
   "id": "fe04b7ff",
   "metadata": {},
   "source": [
    "# the reduce()function in python takes in a functiOn and a list as aargument.The function is called with a lambda function and a list and a new reduced results is returned.This\n",
    "performs a repetitive operation over the pairs of the list"
   ]
  },
  {
   "cell_type": "code",
   "execution_count": 13,
   "id": "b1a45fc4",
   "metadata": {},
   "outputs": [
    {
     "name": "stdout",
     "output_type": "stream",
     "text": [
      "sum of numbers in the original list is :  45\n"
     ]
    }
   ],
   "source": [
    "from functools import reduce\n",
    "original_list = [1,2,3,4,5,6,7,8,9]\n",
    "sum_of_list = reduce((lambda x,y : x + y), original_list)\n",
    "print('sum of numbers in the original list is : ' ,sum_of_list)"
   ]
  },
  {
   "cell_type": "code",
   "execution_count": 14,
   "id": "de5d36de",
   "metadata": {},
   "outputs": [
    {
     "name": "stdout",
     "output_type": "stream",
     "text": [
      "Largest number in the  original list is :  424\n"
     ]
    }
   ],
   "source": [
    "original_list = [110, 53, 3, 424, 345, 16, 34,256]\n",
    "largest_number = reduce((lambda x, y : x if (x > y)else y ), original_list)\n",
    "print('Largest number in the  original list is : ',largest_number)"
   ]
  },
  {
   "cell_type": "code",
   "execution_count": 17,
   "id": "9b6f623c",
   "metadata": {},
   "outputs": [
    {
     "name": "stdout",
     "output_type": "stream",
     "text": [
      "enter the string=APPLw\n",
      "enter the char to search=w\n",
      "not found\n",
      "not found\n",
      "not found\n",
      "not found\n",
      "char found at index 4\n"
     ]
    }
   ],
   "source": [
    "name = str(input(\"enter the string=\")).lower()\n",
    "\n",
    "searchlen = str(input(\"enter the char to search=\")).lower()\n",
    "\n",
    "for i in range(0,len(name)):\n",
    "    if(name[i]==searchlen):\n",
    "        print(\"char found at index\",i)\n",
    "        break\n",
    "    else:\n",
    "            print(\"not found\")\n",
    "            "
   ]
  },
  {
   "cell_type": "code",
   "execution_count": 25,
   "id": "92127719",
   "metadata": {},
   "outputs": [
    {
     "ename": "IndentationError",
     "evalue": "unexpected indent (2957567058.py, line 5)",
     "output_type": "error",
     "traceback": [
      "\u001b[1;36m  Cell \u001b[1;32mIn[25], line 5\u001b[1;36m\u001b[0m\n\u001b[1;33m    def linearsearch(arr,key):\u001b[0m\n\u001b[1;37m    ^\u001b[0m\n\u001b[1;31mIndentationError\u001b[0m\u001b[1;31m:\u001b[0m unexpected indent\n"
     ]
    }
   ],
   "source": [
    "# DATA STRUCTURE \n",
    "#1.LINEAR SEARCH\n",
    "    \n",
    "    \n",
    "    def linearsearch(arr,key):\n",
    "        \n",
    "    arr == int(input(\"enter the array\"))\n",
    "    \n",
    "    \n",
    "    for i in range(0,len(arr)):\n",
    "        if(arr[i]==key):\n",
    "            return i\n",
    "        return-1"
   ]
  },
  {
   "cell_type": "code",
   "execution_count": 1,
   "id": "0bab6250",
   "metadata": {},
   "outputs": [
    {
     "ename": "SyntaxError",
     "evalue": "invalid syntax (2317982405.py, line 1)",
     "output_type": "error",
     "traceback": [
      "\u001b[1;36m  Cell \u001b[1;32mIn[1], line 1\u001b[1;36m\u001b[0m\n\u001b[1;33m    list[]\u001b[0m\n\u001b[1;37m         ^\u001b[0m\n\u001b[1;31mSyntaxError\u001b[0m\u001b[1;31m:\u001b[0m invalid syntax\n"
     ]
    }
   ],
   "source": [
    "list[]\n",
    "array_size = int(input(\"size of the array\\n\")):\n",
    "    \n",
    "    for i in range(0,array_size):\n",
    "        ele = int(input(\"sort the data\"))\n",
    "        list.append(ele)\n",
    "        print(lst)\n",
    "        key_element = int(input(\"enter the element tto search\\n\"))\n",
    "        lenth=len(lst)\n",
    "        result=linearsearch(list,key_element)\n",
    "        \n",
    "      \n",
    "        \n",
    "        if(result== -1):\n",
    "        print(\"NF\")\n",
    "        else:\n",
    "            print(\"Found\")\n"
   ]
  }
 ],
 "metadata": {
  "kernelspec": {
   "display_name": "Python 3 (ipykernel)",
   "language": "python",
   "name": "python3"
  },
  "language_info": {
   "codemirror_mode": {
    "name": "ipython",
    "version": 3
   },
   "file_extension": ".py",
   "mimetype": "text/x-python",
   "name": "python",
   "nbconvert_exporter": "python",
   "pygments_lexer": "ipython3",
   "version": "3.11.5"
  }
 },
 "nbformat": 4,
 "nbformat_minor": 5
}
