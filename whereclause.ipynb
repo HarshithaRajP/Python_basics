{
 "cells": [
  {
   "cell_type": "code",
   "execution_count": 6,
   "id": "00e50fe7",
   "metadata": {},
   "outputs": [
    {
     "name": "stdout",
     "output_type": "stream",
     "text": [
      "connection established\n"
     ]
    }
   ],
   "source": [
    "import mysql.connector\n",
    "\n",
    "mydb = mysql.connector.connect(\n",
    "    host=\"localhost\",\n",
    "    user=\"root\",\n",
    "    password=\"9393\",\n",
    "    database=\"PYTHON\",\n",
    ")#create database databasename\n",
    "\n",
    "mypython = mydb.cursor()\n",
    "print(\"connection established\")"
   ]
  },
  {
   "cell_type": "code",
   "execution_count": 7,
   "id": "1a32dd65",
   "metadata": {},
   "outputs": [],
   "source": [
    "sql_query = \"Insert into employee(Name,Address) VALUES(%s,%s)\"\n"
   ]
  },
  {
   "cell_type": "code",
   "execution_count": 8,
   "id": "93a658fa",
   "metadata": {},
   "outputs": [],
   "source": [
    "mul_values =[\n",
    "    ('Peter', 'Lowstreet 4'),\n",
    "  ('Amy', 'Apple st 652'),\n",
    "  ('Hannah', 'Mountain 21'),\n",
    "  ('Michael', 'Valley 345'),\n",
    "  ('Sandy', 'Ocean blvd 2'),\n",
    "  ('Betty', 'Green Grass 1'),\n",
    "  ('Richard', 'Sky st 331'),\n",
    "  ('Susan', 'One way 98'),\n",
    "  ('Vicky', 'Yellow Garden 2'),\n",
    "  ('Ben', 'Park Lane 38'),\n",
    "  ('William', 'Central st 954'),\n",
    "  ('Chuck', 'Main Road 989'),\n",
    "  ('Viola', 'Sideway 1633')\n",
    "]"
   ]
  },
  {
   "cell_type": "code",
   "execution_count": 9,
   "id": "719d6a49",
   "metadata": {},
   "outputs": [],
   "source": [
    "mypython.execute(\"select * from employee\")"
   ]
  },
  {
   "cell_type": "code",
   "execution_count": 5,
   "id": "8480723f",
   "metadata": {},
   "outputs": [
    {
     "name": "stdout",
     "output_type": "stream",
     "text": [
      "-1 Was inserted\n"
     ]
    }
   ],
   "source": [
    "print(mypython.rowcount,\"Was inserted\")"
   ]
  },
  {
   "cell_type": "code",
   "execution_count": null,
   "id": "803e86dd",
   "metadata": {},
   "outputs": [],
   "source": []
  }
 ],
 "metadata": {
  "kernelspec": {
   "display_name": "Python 3 (ipykernel)",
   "language": "python",
   "name": "python3"
  },
  "language_info": {
   "codemirror_mode": {
    "name": "ipython",
    "version": 3
   },
   "file_extension": ".py",
   "mimetype": "text/x-python",
   "name": "python",
   "nbconvert_exporter": "python",
   "pygments_lexer": "ipython3",
   "version": "3.11.5"
  }
 },
 "nbformat": 4,
 "nbformat_minor": 5
}
