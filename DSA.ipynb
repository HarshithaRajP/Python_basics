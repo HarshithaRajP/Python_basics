{
 "cells": [
  {
   "cell_type": "markdown",
   "id": "3e3bb2e5",
   "metadata": {},
   "source": [
    "# Linear Search"
   ]
  },
  {
   "cell_type": "code",
   "execution_count": 2,
   "id": "588f51bd",
   "metadata": {},
   "outputs": [],
   "source": [
    "#Method\n",
    "def linearsearch(array,keyelement,arraylength):\n",
    "    \n",
    "    for i in range(0,arraylength):\n",
    "        if(array[i]==keyelement):\n",
    "            return i\n",
    "    return -1"
   ]
  },
  {
   "cell_type": "code",
   "execution_count": 3,
   "id": "bcf1e365",
   "metadata": {
    "scrolled": true
   },
   "outputs": [
    {
     "name": "stdout",
     "output_type": "stream",
     "text": [
      "Enter the size of the array5\n",
      "Store the array value\n",
      " 22\n",
      "Store the array value\n",
      " 33\n",
      "Store the array value\n",
      " 55\n",
      "Store the array value\n",
      " 11\n",
      "Store the array value\n",
      " 77\n",
      "[22, 33, 55, 11, 77]\n",
      "Enter the array element to be search=77\n",
      "Value found at the index 4\n"
     ]
    }
   ],
   "source": [
    "#Input\n",
    "\n",
    "lst = []\n",
    "\n",
    "array_size = int(input(\"Enter the size of the array\"))\n",
    "\n",
    "for i in range(0,array_size):\n",
    "    \n",
    "    ele =int(input(\"Store the array value\\n \"))\n",
    "    lst.append(ele)\n",
    "print(lst)\n",
    "\n",
    "\n",
    "KeyElementToSearch = int(input(\"Enter the array element to be search=\"))\n",
    "\n",
    "\n",
    "SizeOfTheArray = len(lst)\n",
    "\n",
    "Result = linearsearch(lst,KeyElementToSearch,SizeOfTheArray)\n",
    "\n",
    "\n",
    "if(Result == -1):\n",
    "    print(\"Not Found\")\n",
    "else:\n",
    "    print(\"Value found at the index\",Result)\n"
   ]
  },
  {
   "cell_type": "markdown",
   "id": "35b72dd8",
   "metadata": {},
   "source": [
    "# BiNARY SEARCH\n",
    "\n"
   ]
  },
  {
   "cell_type": "code",
   "execution_count": 11,
   "id": "f34e388f",
   "metadata": {},
   "outputs": [
    {
     "name": "stdout",
     "output_type": "stream",
     "text": [
      "element is present at index 4\n"
     ]
    }
   ],
   "source": [
    "def binary_search(arr,low,high,x):\n",
    "    #check base case\n",
    "    if high>=low:\n",
    "        mid=(high+low)//2\n",
    "        #if element is present at middle itself\n",
    "        if arr[mid]==x:\n",
    "            return mid\n",
    "        #if element is smaller than mid,then it can only be present in left subarray\n",
    "        elif arr[mid]>x:\n",
    "            return binary_search(arr,low,mid-1,x)\n",
    "        #else element can only be present in right subarray\n",
    "        else:\n",
    "            return binary_search(arr,mid+1,high,x)\n",
    "    else:\n",
    "        return -1\n",
    "arr=[2,3,4,10,40]\n",
    "x=40 #key element\n",
    "#function call\n",
    "result = binary_search(arr,0,len(arr)-1,x)\n",
    "            \n",
    "if result != -1:\n",
    "    print(\"element is present at index\",str(result))\n",
    "else:\n",
    "    print(\"element is not present in array\")"
   ]
  },
  {
   "cell_type": "code",
   "execution_count": 12,
   "id": "c717472d",
   "metadata": {},
   "outputs": [],
   "source": [
    "def bubble_sort(array):\n",
    "    for i in range(0,len(array)-1):\n",
    "        for j in range(0,len(array)-1):\n",
    "            if(array[j]>array[j+1]):\n",
    "                \n",
    "                temp=array[j]\n",
    "                array[j]=array[j+1]\n",
    "                array[j+1]=temp\n",
    "                \n",
    "                return array\n",
    "lst=[]\n",
    "array_size = int(input(\"enter the size of the array=\"))\n",
    "for i in range(0,array_size):\n",
    "    ele=int(input(\"enter the array elements=\"))\n",
    "    lst.append(ele)\n",
    "print(\"after sorting\\n\",bubble_sort(lst))    \n",
    "                               "
   ]
  },
  {
   "cell_type": "code",
   "execution_count": 13,
   "id": "8f4be5b2",
   "metadata": {
    "scrolled": true
   },
   "outputs": [
    {
     "name": "stdout",
     "output_type": "stream",
     "text": [
      "enter the size of the array=5\n",
      "enter the array elements=34\n",
      "enter the array elements=45\n",
      "enter the array elements=56\n",
      "enter the array elements=67\n",
      "enter the array elements=78\n",
      "after sorting\n",
      " None\n"
     ]
    }
   ],
   "source": [
    "lst=[]\n",
    "array_size = int(input(\"enter the size of the array=\"))\n",
    "for i in range(0,array_size):\n",
    "    ele=int(input(\"enter the array elements=\"))\n",
    "    lst.append(ele)\n",
    "print(\"after sorting\\n\",bubble_sort(lst))    "
   ]
  },
  {
   "cell_type": "markdown",
   "id": "53ede673",
   "metadata": {},
   "source": [
    "# selection sort"
   ]
  },
  {
   "cell_type": "code",
   "execution_count": 5,
   "id": "abd72583",
   "metadata": {},
   "outputs": [],
   "source": [
    "def selection_sort(array):\n",
    "    for i in range(0,len(array)-1):\n",
    "        index=i\n",
    "        for j in range(i+1,len(array)):\n",
    "            if array[j]<array[index]:\n",
    "                index=j\n",
    "                \n",
    "                temp=array[index]\n",
    "                array[index]=array[i]\n",
    "                array[i]=temp\n",
    "                \n",
    "            return array\n",
    "        \n",
    "        lst=[]\n",
    "        array_size=int(input(\"Enter the size of the array=\"))\n",
    "        \n",
    "        for i in range(0,array_size):\n",
    "            ele=int(input(\"enter the array elements=\"))\n",
    "            lst.append(ele)\n",
    "            \n",
    "            print(\"After sorting\\n\",selection_sort(lst))"
   ]
  },
  {
   "cell_type": "code",
   "execution_count": 9,
   "id": "d4dfecf3",
   "metadata": {},
   "outputs": [
    {
     "name": "stdout",
     "output_type": "stream",
     "text": [
      "Enter the size of the array=5\n",
      "enter the array elements=76\n",
      "enter the array elements=47\n",
      "enter the array elements=80\n",
      "enter the array elements=26\n",
      "enter the array elements=28\n",
      "After sorting\n",
      " [28, 26, 47, 76, 80]\n"
     ]
    }
   ],
   "source": [
    "def selection_sort(array):\n",
    "    for i in range(0,len(array)-1):\n",
    "        index=i\n",
    "        for j in range(i+1,len(array)):\n",
    "            if array[j]<array[index]:\n",
    "                index=j\n",
    "                \n",
    "                temp=array[index]\n",
    "                array[index]=array[i]\n",
    "                array[i]=temp\n",
    "                \n",
    "    return array\n",
    "        \n",
    "lst=[]\n",
    "array_size=int(input(\"Enter the size of the array=\"))\n",
    "        \n",
    "for i in range(0,array_size):\n",
    "            ele=int(input(\"enter the array elements=\"))\n",
    "            lst.append(ele)\n",
    "            \n",
    "            \n",
    "print(\"After sorting\\n\",selection_sort(lst))"
   ]
  },
  {
   "cell_type": "code",
   "execution_count": 11,
   "id": "e1d908c5",
   "metadata": {},
   "outputs": [
    {
     "name": "stdout",
     "output_type": "stream",
     "text": [
      "Enter the size of the array=5\n",
      "enter the array elements=10\n",
      "enter the array elements=11\n",
      "enter the array elements=12\n",
      "enter the array elements=13\n",
      "enter the array elements=14\n",
      "After sorting\n",
      " [14, 13, 12, 11, 10]\n"
     ]
    }
   ],
   "source": [
    "def selection_sort(array):\n",
    "    for i in range(0,len(array)-1):\n",
    "       \n",
    "        for j in range(i+1,len(array)):\n",
    "            if array[i]<array[j]:\n",
    "               \n",
    "                temp=array[i]\n",
    "                array[i]=array[j]\n",
    "                array[j]=temp\n",
    "                \n",
    "    return array\n",
    "        \n",
    "lst=[]\n",
    "array_size=int(input(\"Enter the size of the array=\"))\n",
    "        \n",
    "for i in range(0,array_size):\n",
    "            ele=int(input(\"enter the array elements=\"))\n",
    "            lst.append(ele)\n",
    "            \n",
    "print(\"After sorting\\n\",descselection_sort(lst))"
   ]
  },
  {
   "cell_type": "code",
   "execution_count": 1,
   "id": "a9998d6e",
   "metadata": {},
   "outputs": [
    {
     "name": "stdout",
     "output_type": "stream",
     "text": [
      "enter the size of the array =5\n",
      "enter the array elements=23\n",
      "enter the array elements=56\n",
      "enter the array elements=32\n",
      "enter the array elements=45\n",
      "enter the array elements=24\n",
      "Quick sorting\n",
      " [23, 24, 32, 45, 56]\n"
     ]
    }
   ],
   "source": [
    "def partition(array,low,high):\n",
    "    \n",
    "    pivot=array[high]\n",
    "    i=low-1\n",
    "    \n",
    "    for j in range(low,high):\n",
    "        if(array[j]<=pivot):\n",
    "            \n",
    "            i+=1\n",
    "            temp=array[j]\n",
    "            array[j]=array[i]\n",
    "            array[i]=temp\n",
    "            \n",
    "    temp=array[i+1]\n",
    "    array[i+1]=array[high]\n",
    "    array[high]=temp\n",
    "    return i+1\n",
    "\n",
    "def quick_sort(array,low,high):\n",
    "    if(low < high):\n",
    "        pi=partition(array,low,high)\n",
    "        \n",
    "        quick_sort(array,pi+1,high)\n",
    "        quick_sort(array,low,pi-1)\n",
    "        \n",
    "lst = []\n",
    "array_size = int(input(\"enter the size of the array =\"))\n",
    "\n",
    "for i in range(0,array_size):\n",
    "    ele=int(input(\"enter the array elements=\"))\n",
    "    lst.append(ele)\n",
    "    \n",
    "low =0\n",
    "high=len(lst)-1\n",
    "\n",
    "quick_sort(lst,low,high)\n",
    "print(\"Quick sorting\\n\",lst)\n",
    "\n",
    " \n",
    "        \n",
    "    \n",
    "    "
   ]
  },
  {
   "cell_type": "code",
   "execution_count": 2,
   "id": "b6758f10",
   "metadata": {},
   "outputs": [],
   "source": [
    "from array import*\n",
    "\n",
    "array=array('i',[10,20,30,40,50])"
   ]
  },
  {
   "cell_type": "code",
   "execution_count": 3,
   "id": "bce54dff",
   "metadata": {},
   "outputs": [
    {
     "name": "stdout",
     "output_type": "stream",
     "text": [
      "10\n",
      "20\n",
      "30\n",
      "40\n",
      "50\n"
     ]
    }
   ],
   "source": [
    "for z in array:\n",
    "    print(z)\n",
    "    "
   ]
  },
  {
   "cell_type": "code",
   "execution_count": 4,
   "id": "2009262d",
   "metadata": {},
   "outputs": [
    {
     "name": "stdout",
     "output_type": "stream",
     "text": [
      "20\n"
     ]
    }
   ],
   "source": [
    "print(array[1])"
   ]
  },
  {
   "cell_type": "code",
   "execution_count": 5,
   "id": "bf35c4eb",
   "metadata": {},
   "outputs": [
    {
     "name": "stdout",
     "output_type": "stream",
     "text": [
      "10\n"
     ]
    }
   ],
   "source": [
    "print(array[0])"
   ]
  },
  {
   "cell_type": "code",
   "execution_count": 6,
   "id": "e670ae05",
   "metadata": {},
   "outputs": [],
   "source": [
    "array.insert(1,60)"
   ]
  },
  {
   "cell_type": "code",
   "execution_count": 7,
   "id": "4ba27e37",
   "metadata": {},
   "outputs": [
    {
     "name": "stdout",
     "output_type": "stream",
     "text": [
      "array('i', [10, 60, 20, 30, 40, 50])\n"
     ]
    }
   ],
   "source": [
    "print(array)"
   ]
  },
  {
   "cell_type": "code",
   "execution_count": 8,
   "id": "4042dd34",
   "metadata": {},
   "outputs": [],
   "source": [
    "array.remove(60)"
   ]
  },
  {
   "cell_type": "code",
   "execution_count": 9,
   "id": "22f9949d",
   "metadata": {},
   "outputs": [
    {
     "name": "stdout",
     "output_type": "stream",
     "text": [
      "array('i', [10, 20, 30, 40, 50])\n"
     ]
    }
   ],
   "source": [
    "print(array)"
   ]
  },
  {
   "cell_type": "code",
   "execution_count": 10,
   "id": "14ce20e3",
   "metadata": {},
   "outputs": [
    {
     "name": "stdout",
     "output_type": "stream",
     "text": [
      "4\n"
     ]
    }
   ],
   "source": [
    "print(array.index(50))"
   ]
  },
  {
   "cell_type": "code",
   "execution_count": 11,
   "id": "faa7f660",
   "metadata": {},
   "outputs": [],
   "source": [
    "array.reverse()"
   ]
  },
  {
   "cell_type": "code",
   "execution_count": 12,
   "id": "cc062eb8",
   "metadata": {},
   "outputs": [
    {
     "name": "stdout",
     "output_type": "stream",
     "text": [
      "array('i', [50, 40, 30, 20, 10])\n"
     ]
    }
   ],
   "source": [
    "print(array)"
   ]
  },
  {
   "cell_type": "code",
   "execution_count": null,
   "id": "2ad607a9",
   "metadata": {},
   "outputs": [],
   "source": []
  }
 ],
 "metadata": {
  "kernelspec": {
   "display_name": "Python 3 (ipykernel)",
   "language": "python",
   "name": "python3"
  },
  "language_info": {
   "codemirror_mode": {
    "name": "ipython",
    "version": 3
   },
   "file_extension": ".py",
   "mimetype": "text/x-python",
   "name": "python",
   "nbconvert_exporter": "python",
   "pygments_lexer": "ipython3",
   "version": "3.11.5"
  }
 },
 "nbformat": 4,
 "nbformat_minor": 5
}
