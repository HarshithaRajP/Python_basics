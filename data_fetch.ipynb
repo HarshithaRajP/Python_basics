{
 "cells": [
  {
   "cell_type": "code",
   "execution_count": 1,
   "id": "e21bffa4",
   "metadata": {},
   "outputs": [
    {
     "name": "stdout",
     "output_type": "stream",
     "text": [
      "connection established\n"
     ]
    }
   ],
   "source": [
    "import mysql.connector\n",
    "\n",
    "mydb = mysql.connector.connect(\n",
    "    host=\"localhost\",\n",
    "    user=\"root\",\n",
    "    password=\"9393\",\n",
    "    database=\"PYTHON\",\n",
    ")#create database databasename\n",
    "\n",
    "mypython = mydb.cursor()\n",
    "print(\"connection established\")"
   ]
  },
  {
   "cell_type": "code",
   "execution_count": 2,
   "id": "4b6fca9c",
   "metadata": {},
   "outputs": [],
   "source": [
    "sql_query = \"Insert into employee(Name,Address) VALUES(%s,%s)\"\n"
   ]
  },
  {
   "cell_type": "code",
   "execution_count": 3,
   "id": "6fbb5890",
   "metadata": {},
   "outputs": [],
   "source": [
    "mul_values =[\n",
    "    ('Peter', 'Lowstreet 4'),\n",
    "  ('Amy', 'Apple st 652'),\n",
    "  ('Hannah', 'Mountain 21'),\n",
    "  ('Michael', 'Valley 345'),\n",
    "  ('Sandy', 'Ocean blvd 2'),\n",
    "  ('Betty', 'Green Grass 1'),\n",
    "  ('Richard', 'Sky st 331'),\n",
    "  ('Susan', 'One way 98'),\n",
    "  ('Vicky', 'Yellow Garden 2'),\n",
    "  ('Ben', 'Park Lane 38'),\n",
    "  ('William', 'Central st 954'),\n",
    "  ('Chuck', 'Main Road 989'),\n",
    "  ('Viola', 'Sideway 1633'),\n",
    "    ('Peterss', 'Lowstreet 4'),\n",
    "    ('Peters', 'Lowstreet 4'),\n",
    "]"
   ]
  },
  {
   "cell_type": "code",
   "execution_count": 4,
   "id": "218dda89",
   "metadata": {},
   "outputs": [],
   "source": [
    "mypython.executemany(sql_query,mul_values)"
   ]
  },
  {
   "cell_type": "code",
   "execution_count": 5,
   "id": "1dc3238d",
   "metadata": {},
   "outputs": [],
   "source": [
    "mypython.execute(\"select * from employee\")"
   ]
  },
  {
   "cell_type": "code",
   "execution_count": 6,
   "id": "6f832f9b",
   "metadata": {
    "scrolled": true
   },
   "outputs": [
    {
     "name": "stdout",
     "output_type": "stream",
     "text": [
      "('Peter', 'Lowstreet 4')\n"
     ]
    }
   ],
   "source": [
    "myresult1 = mypython.fetchone()\n",
    "print(myresult1)"
   ]
  },
  {
   "cell_type": "code",
   "execution_count": 7,
   "id": "ea0c7a38",
   "metadata": {
    "scrolled": false
   },
   "outputs": [
    {
     "name": "stdout",
     "output_type": "stream",
     "text": [
      "[('Amy', 'Apple st 652')]\n"
     ]
    }
   ],
   "source": [
    "myresultall = mypython.fetchmany()\n",
    "print(myresultall)"
   ]
  },
  {
   "cell_type": "code",
   "execution_count": 8,
   "id": "15176ca4",
   "metadata": {},
   "outputs": [],
   "source": [
    "myresult_FETCHALL = mypython.fetchall()\n"
   ]
  },
  {
   "cell_type": "code",
   "execution_count": 9,
   "id": "7cc5fad3",
   "metadata": {
    "scrolled": true
   },
   "outputs": [
    {
     "name": "stdout",
     "output_type": "stream",
     "text": [
      "('Hannah', 'Mountain 21')\n",
      "('Michael', 'Valley 345')\n",
      "('Sandy', 'Ocean blvd 2')\n",
      "('Betty', 'Green Grass 1')\n",
      "('Richard', 'Sky st 331')\n",
      "('Susan', 'One way 98')\n",
      "('Vicky', 'Yellow Garden 2')\n",
      "('Ben', 'Park Lane 38')\n",
      "('William', 'Central st 954')\n",
      "('Chuck', 'Main Road 989')\n",
      "('Viola', 'Sideway 1633')\n",
      "('Peterss', 'Lowstreet 4')\n",
      "('Peters', 'Lowstreet 4')\n"
     ]
    }
   ],
   "source": [
    "for i in myresult_FETCHALL:\n",
    "    print(i)"
   ]
  },
  {
   "cell_type": "code",
   "execution_count": 10,
   "id": "5ed6931a",
   "metadata": {
    "scrolled": true
   },
   "outputs": [
    {
     "name": "stdout",
     "output_type": "stream",
     "text": [
      "None\n"
     ]
    }
   ],
   "source": [
    "fetchwar = mypython.fetchwarnings()\n",
    "print(fetchwar)"
   ]
  },
  {
   "cell_type": "code",
   "execution_count": 11,
   "id": "3c86fd7d",
   "metadata": {},
   "outputs": [
    {
     "name": "stdout",
     "output_type": "stream",
     "text": [
      "('Peter', 'Lowstreet 4')\n",
      "('Peterss', 'Lowstreet 4')\n",
      "('Peters', 'Lowstreet 4')\n"
     ]
    }
   ],
   "source": [
    "sql = \"SELECT * FROM EMPLOYEE WHERE ADDRESS = 'Lowstreet 4'\"\n",
    "\n",
    "mypython.execute(sql)\n",
    "myresult = mypython.fetchall()\n",
    "\n",
    "for x in myresult:\n",
    "    print(x)"
   ]
  },
  {
   "cell_type": "code",
   "execution_count": 12,
   "id": "57704edf",
   "metadata": {},
   "outputs": [
    {
     "name": "stdout",
     "output_type": "stream",
     "text": [
      "('Peter',)\n",
      "('Peterss',)\n",
      "('Peters',)\n"
     ]
    }
   ],
   "source": [
    "sql = \"SELECT Name FROM EMPLOYEE WHERE ADDRESS = 'Lowstreet 4'\"\n",
    "\n",
    "mypython.execute(sql)\n",
    "myresult = mypython.fetchall()\n",
    "\n",
    "for x in myresult:\n",
    "    print(x)"
   ]
  },
  {
   "cell_type": "code",
   "execution_count": 13,
   "id": "ff1e3d7c",
   "metadata": {},
   "outputs": [
    {
     "name": "stdout",
     "output_type": "stream",
     "text": [
      "('Apple st 652',)\n",
      "('Park Lane 38',)\n",
      "('Green Grass 1',)\n",
      "('Main Road 989',)\n",
      "('Mountain 21',)\n",
      "('Valley 345',)\n",
      "('Lowstreet 4',)\n",
      "('Lowstreet 4',)\n",
      "('Lowstreet 4',)\n",
      "('Sky st 331',)\n",
      "('Ocean blvd 2',)\n",
      "('One way 98',)\n",
      "('Yellow Garden 2',)\n",
      "('Sideway 1633',)\n",
      "('Central st 954',)\n"
     ]
    }
   ],
   "source": [
    "sql1 = \"SELECT ADDRESS FROM EMPLOYEE ORDER BY NAME\"\n",
    "mypython.execute(sql1)\n",
    "\n",
    "myresult = mypython.fetchall()\n",
    "\n",
    "for x in myresult:\n",
    "    print(x)"
   ]
  },
  {
   "cell_type": "code",
   "execution_count": 14,
   "id": "760e644c",
   "metadata": {},
   "outputs": [],
   "source": [
    "sql2 = \"DELETE FROM employee WHERE Address = 'Lowstreet 4'\""
   ]
  },
  {
   "cell_type": "code",
   "execution_count": 15,
   "id": "ca60dad5",
   "metadata": {},
   "outputs": [],
   "source": [
    "mypython.execute(sql2)"
   ]
  },
  {
   "cell_type": "code",
   "execution_count": 16,
   "id": "8854fc22",
   "metadata": {},
   "outputs": [
    {
     "name": "stdout",
     "output_type": "stream",
     "text": [
      "3\n"
     ]
    }
   ],
   "source": [
    "print(mypython.rowcount)"
   ]
  },
  {
   "cell_type": "code",
   "execution_count": 26,
   "id": "f27c7b14",
   "metadata": {},
   "outputs": [
    {
     "name": "stdout",
     "output_type": "stream",
     "text": [
      "table created\n"
     ]
    }
   ],
   "source": [
    "mypython.execute(\"CREATE TABLE DUMMY11(Name Varchar(20))\")\n",
    "\n",
    "print(\"table created\")\n"
   ]
  },
  {
   "cell_type": "code",
   "execution_count": 27,
   "id": "92d07f9f",
   "metadata": {},
   "outputs": [
    {
     "name": "stdout",
     "output_type": "stream",
     "text": [
      "table droped\n"
     ]
    }
   ],
   "source": [
    "sql_drop = \"DROP TABLE DUMMY11\"\n",
    "\n",
    "mypython.execute(sql_drop)\n",
    "print(\"table droped\")"
   ]
  },
  {
   "cell_type": "code",
   "execution_count": 30,
   "id": "1379b2f6",
   "metadata": {},
   "outputs": [
    {
     "name": "stdout",
     "output_type": "stream",
     "text": [
      "1 record(s) affected\n"
     ]
    }
   ],
   "source": [
    "sql_update = \"UPDATE Employee SET address = 'Green Grass 1' where address = 'Yellow Garden 2'\"\n",
    "mypython.execute(sql_update)\n",
    "\n",
    "mydb.commit()\n",
    "\n",
    "\n",
    "print(mypython.rowcount,\"record(s) affected\")\n",
    "\n"
   ]
  },
  {
   "cell_type": "code",
   "execution_count": 31,
   "id": "e1884864",
   "metadata": {},
   "outputs": [
    {
     "name": "stdout",
     "output_type": "stream",
     "text": [
      "('Amy', 'Apple st 652')\n",
      "('Hannah', 'Mountain 21')\n",
      "('Michael', 'Valley 345')\n",
      "('Sandy', 'Ocean blvd 2')\n",
      "('Betty', 'Green Grass 1')\n"
     ]
    }
   ],
   "source": [
    "sql_limit = \"SELECT * FROM EMPLOYEE LIMIT 5\"\n",
    "\n",
    "mypython.execute(sql_limit)\n",
    "\n",
    "myresult_limit = mypython.fetchall()\n",
    "\n",
    "for x in myresult_limit:\n",
    "    print(x)\n"
   ]
  },
  {
   "cell_type": "code",
   "execution_count": null,
   "id": "4ddcf385",
   "metadata": {},
   "outputs": [],
   "source": []
  }
 ],
 "metadata": {
  "kernelspec": {
   "display_name": "Python 3 (ipykernel)",
   "language": "python",
   "name": "python3"
  },
  "language_info": {
   "codemirror_mode": {
    "name": "ipython",
    "version": 3
   },
   "file_extension": ".py",
   "mimetype": "text/x-python",
   "name": "python",
   "nbconvert_exporter": "python",
   "pygments_lexer": "ipython3",
   "version": "3.11.5"
  }
 },
 "nbformat": 4,
 "nbformat_minor": 5
}
