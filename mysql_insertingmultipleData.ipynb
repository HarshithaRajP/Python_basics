{
 "cells": [
  {
   "cell_type": "code",
   "execution_count": null,
   "id": "04b079fb",
   "metadata": {
    "scrolled": true
   },
   "outputs": [],
   "source": [
    "import mysql.connector\n",
    "\n",
    "mydb = mysql.connector.connect(\n",
    "    host=\"localhost\",\n",
    "    user=\"root\",\n",
    "    password=\"9393\",\n",
    "    database=\"PYTHON\",\n",
    ")#create database databasename\n",
    "\n",
    "mypython = mydb.cursor()\n",
    "print(\"connection established\")"
   ]
  },
  {
   "cell_type": "code",
   "execution_count": null,
   "id": "6bf66ee0",
   "metadata": {
    "scrolled": true
   },
   "outputs": [],
   "source": [
    "table = \"CREATE table employee(Name varchar(100), Address varchar(255))\" \n",
    "mypython.execute(table)\n",
    "print(\"Employee table created\")"
   ]
  },
  {
   "cell_type": "code",
   "execution_count": null,
   "id": "badcc0c4",
   "metadata": {},
   "outputs": [],
   "source": [
    "sql_query = \"Insert into employee(Name,Address) VALUES(%s,%s)\"\n"
   ]
  },
  {
   "cell_type": "code",
   "execution_count": null,
   "id": "ab9f86b4",
   "metadata": {},
   "outputs": [],
   "source": [
    "mul_values =[\n",
    "    ('Peter', 'Lowstreet 4'),\n",
    "  ('Amy', 'Apple st 652'),\n",
    "  ('Hannah', 'Mountain 21'),\n",
    "  ('Michael', 'Valley 345'),\n",
    "  ('Sandy', 'Ocean blvd 2'),\n",
    "  ('Betty', 'Green Grass 1'),\n",
    "  ('Richard', 'Sky st 331'),\n",
    "  ('Susan', 'One way 98'),\n",
    "  ('Vicky', 'Yellow Garden 2'),\n",
    "  ('Ben', 'Park Lane 38'),\n",
    "  ('William', 'Central st 954'),\n",
    "  ('Chuck', 'Main Road 989'),\n",
    "  ('Viola', 'Sideway 1633')\n",
    "]"
   ]
  },
  {
   "cell_type": "code",
   "execution_count": null,
   "id": "ddb3600b",
   "metadata": {},
   "outputs": [],
   "source": [
    "mypython.executemany(sql_query,mul_values)"
   ]
  },
  {
   "cell_type": "code",
   "execution_count": null,
   "id": "4642437f",
   "metadata": {
    "scrolled": true
   },
   "outputs": [],
   "source": [
    "print(mypython.rowcount,\"Was inserted\")"
   ]
  },
  {
   "cell_type": "code",
   "execution_count": null,
   "id": "58cc524f",
   "metadata": {},
   "outputs": [],
   "source": [
    "mypython.execute(\"select*from employee\")"
   ]
  },
  {
   "cell_type": "code",
   "execution_count": null,
   "id": "0356e0be",
   "metadata": {},
   "outputs": [],
   "source": [
    "myresult = mypython.fetchall()"
   ]
  },
  {
   "cell_type": "code",
   "execution_count": null,
   "id": "e0151cdc",
   "metadata": {
    "scrolled": true
   },
   "outputs": [],
   "source": [
    "for x in myresult:\n",
    "    print(\"fetch->\",x)"
   ]
  },
  {
   "cell_type": "code",
   "execution_count": null,
   "id": "f39df820",
   "metadata": {
    "scrolled": true
   },
   "outputs": [],
   "source": [
    "print(mypython.rowcount,\"Was inserted\")"
   ]
  },
  {
   "cell_type": "code",
   "execution_count": null,
   "id": "51be7307",
   "metadata": {},
   "outputs": [],
   "source": [
    "mypython.close()"
   ]
  }
 ],
 "metadata": {
  "kernelspec": {
   "display_name": "Python 3 (ipykernel)",
   "language": "python",
   "name": "python3"
  },
  "language_info": {
   "codemirror_mode": {
    "name": "ipython",
    "version": 3
   },
   "file_extension": ".py",
   "mimetype": "text/x-python",
   "name": "python",
   "nbconvert_exporter": "python",
   "pygments_lexer": "ipython3",
   "version": "3.11.5"
  }
 },
 "nbformat": 4,
 "nbformat_minor": 5
}
