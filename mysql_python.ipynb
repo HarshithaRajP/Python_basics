{
 "cells": [
  {
   "cell_type": "code",
   "execution_count": null,
   "id": "ef4fdfd3",
   "metadata": {},
   "outputs": [],
   "source": [
    "import mysql.connector\n",
    "\n",
    "mydb = mysql.connector.connect(\n",
    "    host=\"localhost\",\n",
    "    user=\"root\",\n",
    "    password=\"9393\",\n",
    "    database=\"PYTHON\",\n",
    ")#create database databasename\n",
    "\n",
    "mypython = mydb.cursor()\n",
    "print(\"connection established\")"
   ]
  },
  {
   "cell_type": "code",
   "execution_count": null,
   "id": "ca217994",
   "metadata": {},
   "outputs": [],
   "source": [
    "table = \"CREATE table dummy(Name varchar(100))\" \n",
    "mypython.execute(table)\n",
    "print(\"execute\")"
   ]
  },
  {
   "cell_type": "code",
   "execution_count": null,
   "id": "60cd0a6f",
   "metadata": {
    "scrolled": true
   },
   "outputs": [],
   "source": [
    "show_table = \"show tables\"\n",
    "mypython.execute(show_table)\n",
    "\n",
    "for x in mypython:\n",
    "    print(x)"
   ]
  },
  {
   "cell_type": "code",
   "execution_count": null,
   "id": "bb9b19ad",
   "metadata": {},
   "outputs": [],
   "source": [
    "sql = \"INSERT INTO dummy(Name) VALUES(%s)\"\n",
    "val = ['Thinkworks']\n",
    "mypython.execute(sql,val)"
   ]
  },
  {
   "cell_type": "code",
   "execution_count": null,
   "id": "2a7bc9e1",
   "metadata": {},
   "outputs": [],
   "source": [
    "mydb.commit();"
   ]
  },
  {
   "cell_type": "code",
   "execution_count": null,
   "id": "e72d3f8a",
   "metadata": {},
   "outputs": [],
   "source": [
    "import mysql.connector\n",
    "\n",
    "mydb = mysql.connector.connect(\n",
    "    host=\"localhost\",\n",
    "    user=\"root\",\n",
    "    password=\"9393\",\n",
    "    database=\"PYTHON\",)\n",
    "\n",
    "\n"
   ]
  },
  {
   "cell_type": "code",
   "execution_count": null,
   "id": "22884261",
   "metadata": {},
   "outputs": [],
   "source": [
    "mypython = mydb.cursor()\n"
   ]
  },
  {
   "cell_type": "code",
   "execution_count": null,
   "id": "48b33bf9",
   "metadata": {},
   "outputs": [],
   "source": [
    "sql = \"INSERT INTO STUDENT2(Name,Address) VALUES(%s,%s)\"\n",
    "\n",
    "val = [\n",
    "('peter','harashit 4'),\n",
    "('amY ','apple st 653'),\n",
    "('amY ','apple st 653'),\n",
    "('amY ','apple st 653'),\n",
    "('amY ','apple st 653'),\n",
    "('amY ','apple st 653'),\n",
    "('amY ','apple st 653'),\n",
    "('amY ','apple st 653'),\n",
    "('amY ','apple st 653'),\n",
    "('amY ','apple st 653'),\n",
    "('amY ','apple st 653'),\n",
    "('amY ','apple st 653'),\n",
    "('amY ','apple st 653'),\n",
    "\n",
    "\n",
    "\n",
    "]\n",
    "mypython.executemany(sql,val)\n",
    "\n"
   ]
  },
  {
   "cell_type": "code",
   "execution_count": null,
   "id": "67d95aa5",
   "metadata": {},
   "outputs": [],
   "source": []
  },
  {
   "cell_type": "code",
   "execution_count": null,
   "id": "ca00a0d4",
   "metadata": {},
   "outputs": [],
   "source": [
    "\n",
    "\n",
    "print(mypython.rowcount,\"was inserted.\")\n",
    "\n",
    "mypython.close()"
   ]
  },
  {
   "cell_type": "code",
   "execution_count": null,
   "id": "bf313521",
   "metadata": {},
   "outputs": [],
   "source": []
  }
 ],
 "metadata": {
  "kernelspec": {
   "display_name": "Python 3 (ipykernel)",
   "language": "python",
   "name": "python3"
  },
  "language_info": {
   "codemirror_mode": {
    "name": "ipython",
    "version": 3
   },
   "file_extension": ".py",
   "mimetype": "text/x-python",
   "name": "python",
   "nbconvert_exporter": "python",
   "pygments_lexer": "ipython3",
   "version": "3.11.5"
  }
 },
 "nbformat": 4,
 "nbformat_minor": 5
}
