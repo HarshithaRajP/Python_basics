{
 "cells": [
  {
   "cell_type": "code",
   "execution_count": 1,
   "id": "9ecbb3e3",
   "metadata": {},
   "outputs": [
    {
     "data": {
      "text/plain": [
       "12"
      ]
     },
     "execution_count": 1,
     "metadata": {},
     "output_type": "execute_result"
    }
   ],
   "source": [
    "def add(a,b):\n",
    "    summ=a+b\n",
    "        \n",
    "    return summ\n",
    "add(10,2)\n",
    "    "
   ]
  },
  {
   "cell_type": "code",
   "execution_count": 5,
   "id": "78cdf3c2",
   "metadata": {},
   "outputs": [
    {
     "name": "stdout",
     "output_type": "stream",
     "text": [
      "<class '__main__.arith'>\n",
      "<class '__main__.arith'>\n"
     ]
    }
   ],
   "source": [
    "class arith: #class\n",
    "    \n",
    "    def summ(self):#method\n",
    "        va1 = 5+2\n",
    "        print(va1)\n",
    "    def subb(self):#method\n",
    "        va1 = 5-2\n",
    "        print(va1)\n",
    "            \n",
    "obj= arith()#object\n",
    "print(type(obj))\n",
    "\n",
    "obj1= arith()#object\n",
    "print(type(obj))"
   ]
  },
  {
   "cell_type": "code",
   "execution_count": 6,
   "id": "91d7fe7e",
   "metadata": {},
   "outputs": [
    {
     "name": "stdout",
     "output_type": "stream",
     "text": [
      "7\n",
      "3\n"
     ]
    }
   ],
   "source": [
    "arith.summ(obj) #Fetching data\n",
    "arith.subb(obj)"
   ]
  },
  {
   "cell_type": "code",
   "execution_count": 7,
   "id": "46be7f2d",
   "metadata": {},
   "outputs": [
    {
     "name": "stdout",
     "output_type": "stream",
     "text": [
      "7\n",
      "3\n"
     ]
    }
   ],
   "source": [
    "arith.summ(obj1) #Fetching data\n",
    "arith.subb(obj1)"
   ]
  },
  {
   "cell_type": "code",
   "execution_count": 8,
   "id": "b015f2d9",
   "metadata": {},
   "outputs": [
    {
     "name": "stdout",
     "output_type": "stream",
     "text": [
      "7\n"
     ]
    }
   ],
   "source": [
    "obj.summ()"
   ]
  },
  {
   "cell_type": "code",
   "execution_count": 9,
   "id": "617646a7",
   "metadata": {},
   "outputs": [
    {
     "name": "stdout",
     "output_type": "stream",
     "text": [
      "3\n"
     ]
    }
   ],
   "source": [
    "obj.subb()"
   ]
  },
  {
   "cell_type": "code",
   "execution_count": 10,
   "id": "05d7d0ac",
   "metadata": {},
   "outputs": [
    {
     "name": "stdout",
     "output_type": "stream",
     "text": [
      "<class '__main__.arith'>\n",
      "<class '__main__.arith'>\n"
     ]
    }
   ],
   "source": [
    "class arith: #class\n",
    "    \n",
    "     \n",
    "    def summ(self,a,b):#method\n",
    "        va1 = a+b\n",
    "        print(va1)\n",
    "    def subb(self,a,b):#method\n",
    "        va1 = a-b\n",
    "        print(va1) #method\n",
    "obj= arith()#object\n",
    "print(type(obj))\n",
    "\n",
    "obj1= arith()#object\n",
    "print(type(obj))        "
   ]
  },
  {
   "cell_type": "code",
   "execution_count": 11,
   "id": "47d32a73",
   "metadata": {},
   "outputs": [
    {
     "name": "stdout",
     "output_type": "stream",
     "text": [
      "4\n"
     ]
    }
   ],
   "source": [
    "arith.summ(obj,1,3)"
   ]
  },
  {
   "cell_type": "code",
   "execution_count": 12,
   "id": "7448fa9d",
   "metadata": {},
   "outputs": [
    {
     "name": "stdout",
     "output_type": "stream",
     "text": [
      "2\n"
     ]
    }
   ],
   "source": [
    "arith.subb(obj,3,1)"
   ]
  },
  {
   "cell_type": "code",
   "execution_count": 13,
   "id": "c4b62d80",
   "metadata": {},
   "outputs": [
    {
     "name": "stdout",
     "output_type": "stream",
     "text": [
      "5\n"
     ]
    }
   ],
   "source": [
    "obj1.summ(3,2)"
   ]
  },
  {
   "cell_type": "code",
   "execution_count": 15,
   "id": "8669326e",
   "metadata": {},
   "outputs": [
    {
     "name": "stdout",
     "output_type": "stream",
     "text": [
      "1\n"
     ]
    }
   ],
   "source": [
    "obj1.subb(3,2)"
   ]
  },
  {
   "cell_type": "markdown",
   "id": "0dd55e1e",
   "metadata": {},
   "source": [
    "# constructor"
   ]
  },
  {
   "cell_type": "code",
   "execution_count": 19,
   "id": "1cf0dc16",
   "metadata": {},
   "outputs": [
    {
     "name": "stdout",
     "output_type": "stream",
     "text": [
      "Comp Config\n",
      "Color = Black Price = 25000\n",
      "Comp Behavior\n",
      "coding is= i5 16gb\n",
      "Comp1 Config\n",
      "Color = White Price = 24000\n",
      "Comp1 Behavior\n",
      "coding is= i3 1TB\n"
     ]
    }
   ],
   "source": [
    "class computer:\n",
    "    def __init__(self,cpu,ram,color,price):\n",
    "        self.cpu=cpu\n",
    "        self.ram=ram\n",
    "        self.color=color\n",
    "        self.price=price\n",
    "        \n",
    "    def behavior(self):\n",
    "        print(\"coding is=\",self.cpu,self.ram)\n",
    "        \n",
    "    def config(self):\n",
    "        print(\"Color =\",self.color,\"Price =\",self.price)\n",
    "        \n",
    "comp=computer('i5','16gb',\"Black\",25000)\n",
    "comp1=computer('i3','1TB',\"White\",24000)\n",
    "\n",
    "print(\"Comp Config\")\n",
    "comp.config()\n",
    "print(\"Comp Behavior\")\n",
    "comp.behavior()\n",
    "print(\"Comp1 Config\")\n",
    "comp1.config()\n",
    "print(\"Comp1 Behavior\")\n",
    "comp1.behavior()\n"
   ]
  },
  {
   "cell_type": "code",
   "execution_count": 20,
   "id": "6c9700fb",
   "metadata": {},
   "outputs": [
    {
     "name": "stdout",
     "output_type": "stream",
     "text": [
      "--------obj1-------\n",
      "2\n",
      "Educadd\n",
      "--------obj2-------\n",
      "2\n",
      "thinkworks\n"
     ]
    }
   ],
   "source": [
    "#COmparision\n",
    "\n",
    "class com:\n",
    "    def __init__(self):\n",
    "        self.name = \"Educadd\"\n",
    "        self.age = 2\n",
    "obj1 = com()\n",
    "obj2 = com()\n",
    "\n",
    "obj2.name=\"thinkworks\"\n",
    "print(\"--------obj1-------\")\n",
    "print(obj1.age)\n",
    "print(obj1.name)\n",
    "print(\"--------obj2-------\")\n",
    "print(obj2.age)\n",
    "print(obj2.name)"
   ]
  },
  {
   "cell_type": "code",
   "execution_count": null,
   "id": "86a896e5",
   "metadata": {},
   "outputs": [],
   "source": [
    "if obj1.name==obj2.name:\n",
    "    print(\"obj1 and obj2 are same\")\n",
    "else:\n",
    "    \n"
   ]
  },
  {
   "cell_type": "code",
   "execution_count": 20,
   "id": "f3e6f10b",
   "metadata": {},
   "outputs": [],
   "source": [
    "class car:\n",
    "    \n",
    "    wheels=4\n",
    "    \n",
    "    def __init__(self):\n",
    "        self.mile =10\n",
    "        self.company = \"audi\"\n",
    "        \n",
    "    def fetch_car_details(self):\n",
    "        return \"Car mile=\",self.mile,\" \",\"Car Company=\",self.company\n",
    "        \n",
    "    def update_car_details(self,mile,company):\n",
    "        \n",
    "        self.mile = mile\n",
    "        self.company=company\n",
    "        \n",
    "obj=car()\n",
    "obj1=car()\n",
    "        "
   ]
  },
  {
   "cell_type": "code",
   "execution_count": 21,
   "id": "49751a09",
   "metadata": {},
   "outputs": [],
   "source": [
    "car.wheels=5\n"
   ]
  },
  {
   "cell_type": "code",
   "execution_count": 22,
   "id": "71c22ca0",
   "metadata": {},
   "outputs": [
    {
     "name": "stdout",
     "output_type": "stream",
     "text": [
      "5\n"
     ]
    }
   ],
   "source": [
    "print(car.wheels)"
   ]
  },
  {
   "cell_type": "code",
   "execution_count": 23,
   "id": "22db0c04",
   "metadata": {},
   "outputs": [],
   "source": [
    "obj.update_car_details(20,\"bmw\")"
   ]
  },
  {
   "cell_type": "code",
   "execution_count": 24,
   "id": "31e57a8d",
   "metadata": {},
   "outputs": [
    {
     "name": "stdout",
     "output_type": "stream",
     "text": [
      "20\n"
     ]
    }
   ],
   "source": [
    "print(obj.mile)"
   ]
  },
  {
   "cell_type": "code",
   "execution_count": 25,
   "id": "651504cd",
   "metadata": {},
   "outputs": [
    {
     "name": "stdout",
     "output_type": "stream",
     "text": [
      "bmw\n"
     ]
    }
   ],
   "source": [
    "print(obj.company)"
   ]
  },
  {
   "cell_type": "code",
   "execution_count": 26,
   "id": "39222fc9",
   "metadata": {},
   "outputs": [
    {
     "data": {
      "text/plain": [
       "('Car mile=', 20, ' ', 'Car Company=', 'bmw')"
      ]
     },
     "execution_count": 26,
     "metadata": {},
     "output_type": "execute_result"
    }
   ],
   "source": [
    "obj.fetch_car_details()"
   ]
  },
  {
   "cell_type": "code",
   "execution_count": 34,
   "id": "137b7d89",
   "metadata": {},
   "outputs": [
    {
     "name": "stdout",
     "output_type": "stream",
     "text": [
      "abc 2\n"
     ]
    }
   ],
   "source": [
    "class student:#outer class\n",
    "    \n",
    "    def __init__(self,name,rollno):\n",
    "        self.name = name\n",
    "        self.rollno = rollno\n",
    "        self.lap = self.laptop()\n",
    "        \n",
    "    def show(self):\n",
    "        print(self.name,self.rollno)\n",
    "        \n",
    "    class laptop:#inner class\n",
    "        \n",
    "        def __init__(self):\n",
    "            self.brand=\"HP\"\n",
    "            self.cpu='i5'\n",
    "            self.ram = 8\n",
    "        def show(self):\n",
    "            return self.brand,self.cpu,self.ram\n",
    "        \n",
    "s1 = student(\"abc\",2)\n",
    "s2 = student(\"xyz\",3)\n",
    "\n",
    "s1.show()\n",
    "\n"
   ]
  },
  {
   "cell_type": "code",
   "execution_count": 35,
   "id": "a6623612",
   "metadata": {},
   "outputs": [],
   "source": [
    "lap1=student.laptop()\n"
   ]
  },
  {
   "cell_type": "code",
   "execution_count": 36,
   "id": "de5616f0",
   "metadata": {},
   "outputs": [
    {
     "data": {
      "text/plain": [
       "('HP', 'i5', 8)"
      ]
     },
     "execution_count": 36,
     "metadata": {},
     "output_type": "execute_result"
    }
   ],
   "source": [
    "lap1.show()"
   ]
  },
  {
   "cell_type": "code",
   "execution_count": 2,
   "id": "f87256eb",
   "metadata": {},
   "outputs": [],
   "source": [
    "#Access modifier\n",
    "\n",
    "class greek:\n",
    "    __name=None\n",
    "    __roll=None\n",
    "    __branch=None\n",
    "    \n",
    "    def __init__(self,name,roll,branch):\n",
    "        self.__name=name\n",
    "        self.__roll=roll\n",
    "        self.__branch=branch\n",
    "        \n",
    "    def __displayDetails(self):\n",
    "        \n",
    "        print(\"Name=\",self.__name,\" \",\"ROll=\",self.__roll,\" \", \"Branch=\",self.__branch)\n",
    "        \n",
    "    def accessPrivateMemberFunction(self):\n",
    "        \n",
    "        self.__displayDetails()\n",
    "        \n",
    "        \n",
    "    \n",
    "\n",
    "\n"
   ]
  },
  {
   "cell_type": "code",
   "execution_count": 3,
   "id": "ad5b4641",
   "metadata": {},
   "outputs": [
    {
     "name": "stdout",
     "output_type": "stream",
     "text": [
      "Name= XYz   ROll= 123   Branch= CS\n"
     ]
    }
   ],
   "source": [
    "obj = greek(\"XYz\",123,\"CS\")\n",
    "obj.accessPrivateMemberFunction()"
   ]
  },
  {
   "cell_type": "code",
   "execution_count": 5,
   "id": "9f83c9a6",
   "metadata": {},
   "outputs": [
    {
     "name": "stdout",
     "output_type": "stream",
     "text": [
      "welcome to educadd\n"
     ]
    }
   ],
   "source": [
    "#protected accesss modifier\n",
    "\n",
    "class prot:\n",
    "    def _display(self):\n",
    "        \n",
    "        print(\"welcome to educadd\")\n",
    "        \n",
    "obj = prot()\n",
    "obj._display()"
   ]
  },
  {
   "cell_type": "code",
   "execution_count": 22,
   "id": "a0236f94",
   "metadata": {},
   "outputs": [],
   "source": [
    "class student:\n",
    "    _name= None\n",
    "    _rollno= None\n",
    "    _branch= None\n",
    "    \n",
    "    def __init__(self,name,rollno,branch):\n",
    "        \n",
    "        self._name=name\n",
    "        self._rollno=rollno\n",
    "        self._branch=branch\n",
    "        \n",
    "    def _displayStudentDetails(self):\n",
    "         print(\"roll=\",self._rollno,\" \", \"Branch=\",self._branch)\n",
    "            "
   ]
  },
  {
   "cell_type": "code",
   "execution_count": 23,
   "id": "79d4a157",
   "metadata": {},
   "outputs": [],
   "source": [
    "class student2(student):\n",
    "    \n",
    "    def __init__(self,name,rollno,branch):\n",
    "        student.__init__(self,name,rollno,branch)\n",
    "        \n",
    "    def DisplayDetails(self):\n",
    "        print(\"name=\",self._name)\n",
    "        self._displayStudentDetails()"
   ]
  },
  {
   "cell_type": "code",
   "execution_count": 24,
   "id": "035e07d3",
   "metadata": {},
   "outputs": [
    {
     "name": "stdout",
     "output_type": "stream",
     "text": [
      "name= abc\n",
      "roll= 123   Branch= cs\n"
     ]
    }
   ],
   "source": [
    "obj = student2(\"abc\",123,\"cs\")\n",
    "obj.DisplayDetails()"
   ]
  },
  {
   "cell_type": "code",
   "execution_count": 25,
   "id": "2c96576c",
   "metadata": {},
   "outputs": [
    {
     "name": "stdout",
     "output_type": "stream",
     "text": [
      "Public access modifier\n",
      "None\n"
     ]
    }
   ],
   "source": [
    "#public acccess specifier\n",
    "\n",
    "class publiclass:\n",
    "    \n",
    "    def __init__(self,publics):\n",
    "        self.publics = publics\n",
    "    def display(self):\n",
    "        print(self.publics)\n",
    "        \n",
    "obj1 = publiclass(\"Public access modifier\")\n",
    "\n",
    "print(obj1.display())"
   ]
  },
  {
   "cell_type": "code",
   "execution_count": 4,
   "id": "bc01bfcc",
   "metadata": {},
   "outputs": [
    {
     "name": "stdout",
     "output_type": "stream",
     "text": [
      "This is an employee\n",
      "this is an programmer\n"
     ]
    }
   ],
   "source": [
    "#Inheritance\n",
    "\n",
    "class employee:\n",
    "    company=\"google\"\n",
    "    \n",
    "    def showDetails(self):\n",
    "        print(\"This is an employee\")\n",
    "class programmer(employee):\n",
    "    language = \"Pyton\"\n",
    "    #company = \"yputube\"\n",
    "    \n",
    "    def getLanguage(self):\n",
    "        print(f\"The language is {self.language}\")\n",
    "        \n",
    "    def showDetails(self):\n",
    "        print(\"this is an programmer\")\n",
    "        \n",
    "        \n",
    "e = employee()\n",
    "e.showDetails()\n",
    "p= programmer()\n",
    "p.showDetails()\n",
    "\n",
    "\n",
    "\n",
    "\n"
   ]
  },
  {
   "cell_type": "code",
   "execution_count": 5,
   "id": "df6ed99f",
   "metadata": {},
   "outputs": [
    {
     "name": "stdout",
     "output_type": "stream",
     "text": [
      "Fiverr\n",
      "120\n",
      "4\n",
      "rohit\n"
     ]
    }
   ],
   "source": [
    "#Multiple inheritance\n",
    "\n",
    "class freelancer:\n",
    "    company=\"Fiverr\"\n",
    "    level = 3\n",
    "    def upgradelevel(self):\n",
    "        self.level = self.level + 1\n",
    "        \n",
    "class employee:\n",
    "    company = \"visa\"\n",
    "    eCode = 120\n",
    "    \n",
    "class programmer(freelancer,employee):\n",
    "    name=\"rohit\"\n",
    "    \n",
    "p=programmer()\n",
    "p.upgradelevel()\n",
    "print(p.company)\n",
    "print(p.eCode)\n",
    "print(p.level)\n",
    "print(p.name)"
   ]
  },
  {
   "cell_type": "code",
   "execution_count": 1,
   "id": "c3be706d",
   "metadata": {},
   "outputs": [],
   "source": [
    "#multi level inheritance\n",
    "\n",
    "class person:\n",
    "    country = \"India\"\n",
    "    def takeBreath(self):\n",
    "        print(\"I am breathing....\")"
   ]
  },
  {
   "cell_type": "code",
   "execution_count": 3,
   "id": "6157b337",
   "metadata": {},
   "outputs": [],
   "source": [
    "class Employee(person):\n",
    "    company =\"Honda\"\n",
    "    salary = 10000\n",
    "    def getSalary(self):\n",
    "        print(f\"Salary is {self.salary}\")\n",
    "    def takeBreath(self):\n",
    "        print(\"I am Employee so I am luckily breathing...\")"
   ]
  },
  {
   "cell_type": "code",
   "execution_count": 6,
   "id": "c18ba9d7",
   "metadata": {},
   "outputs": [],
   "source": [
    "class programmer(Employee):\n",
    "    company= \"Fiverr\"\n",
    "    \n",
    "    def getSalary(self):\n",
    "        print(f\"salary to programmer {self.salary}\")\n",
    "    def takeBreath(self):\n",
    "        print(\"I am a programmer so I am breathing..\")\n",
    "        "
   ]
  },
  {
   "cell_type": "code",
   "execution_count": 7,
   "id": "e5b3a028",
   "metadata": {},
   "outputs": [
    {
     "name": "stdout",
     "output_type": "stream",
     "text": [
      "India\n",
      "I am breathing....\n"
     ]
    }
   ],
   "source": [
    "obj1 = person()\n",
    "print(obj1.country)\n",
    "obj1.takeBreath()"
   ]
  },
  {
   "cell_type": "code",
   "execution_count": 8,
   "id": "1bc6a4de",
   "metadata": {},
   "outputs": [
    {
     "name": "stdout",
     "output_type": "stream",
     "text": [
      "Honda\n",
      "India\n",
      "Salary is 10000\n",
      "I am Employee so I am luckily breathing...\n"
     ]
    }
   ],
   "source": [
    "obj2 = Employee() \n",
    "print(obj2.company) \n",
    "print(obj2.country) \n",
    "obj2.getSalary() \n",
    "obj2.takeBreath()"
   ]
  },
  {
   "cell_type": "code",
   "execution_count": 9,
   "id": "9da1144a",
   "metadata": {},
   "outputs": [
    {
     "name": "stdout",
     "output_type": "stream",
     "text": [
      "Fiverr\n",
      "India\n",
      "10000\n",
      "salary to programmer 10000\n",
      "I am a programmer so I am breathing..\n"
     ]
    }
   ],
   "source": [
    "obj3  = programmer()\n",
    "print(obj3.company) \n",
    "print(obj3.country) \n",
    "print(obj3.salary) \n",
    "obj3.getSalary() \n",
    "obj3.takeBreath()\n"
   ]
  },
  {
   "cell_type": "code",
   "execution_count": 10,
   "id": "9bc12227",
   "metadata": {},
   "outputs": [],
   "source": [
    "#SUper method\n",
    "\n",
    "class person:\n",
    "    country = \"India\"\n",
    "    \n",
    "    def __init__(self):\n",
    "        print(\"Initializing Person....\\n\")\n",
    "        \n",
    "    def takeBreath(self):\n",
    "        print(\"I am breathing...\")"
   ]
  },
  {
   "cell_type": "code",
   "execution_count": 11,
   "id": "538381b0",
   "metadata": {},
   "outputs": [],
   "source": [
    "class employee(person):\n",
    "    company = \"Honda\"\n",
    "    \n",
    "    def __init__(self):\n",
    "        super().__init__()\n",
    "        print(\"Initializing Employee..\\n\")\n",
    "        self.salary=10000\n",
    "        \n",
    "    def getSalary(self):\n",
    "        print(f\"Salary is {self.salary}\")\n",
    "        \n",
    "    def takeBreath(self):\n",
    "        super().takeBreath()\n",
    "        print(\"I am an employee so I am luckily breathing...\")\n",
    "        \n",
    "        "
   ]
  },
  {
   "cell_type": "code",
   "execution_count": 12,
   "id": "e5e2b16b",
   "metadata": {},
   "outputs": [],
   "source": [
    "class programmer(employee):\n",
    "    company= \"Fiverr\"\n",
    "    \n",
    "    def __init__(self):\n",
    "        #super().__init__()\n",
    "        print(\"Initializing programmer..\\n\")\n",
    "    def getSalary(self):\n",
    "        print(f\"No salary  to programmer\")\n",
    "    def takeBreath(self):\n",
    "        super().takeBreath()\n",
    "        print(\"I am a programmer so I am breathing..\")\n",
    "    "
   ]
  },
  {
   "cell_type": "code",
   "execution_count": 13,
   "id": "3756590c",
   "metadata": {},
   "outputs": [
    {
     "name": "stdout",
     "output_type": "stream",
     "text": [
      "Initializing programmer..\n",
      "\n",
      "Fiverr\n",
      "India\n",
      "No salary  to programmer\n",
      "I am breathing...\n",
      "I am an employee so I am luckily breathing...\n",
      "I am a programmer so I am breathing..\n"
     ]
    }
   ],
   "source": [
    "obj3=programmer()\n",
    "print(obj3.company)\n",
    "print(obj3.country)\n",
    "\n",
    "obj3.getSalary()\n",
    "obj3.takeBreath()"
   ]
  },
  {
   "cell_type": "code",
   "execution_count": 16,
   "id": "4d04e8fd",
   "metadata": {},
   "outputs": [
    {
     "name": "stdout",
     "output_type": "stream",
     "text": [
      "Initializing Person....\n",
      "\n",
      "Initializing Employee..\n",
      "\n",
      "Honda\n",
      "India\n",
      "No salary  to programmer\n",
      "I am breathing...\n",
      "I am an employee so I am luckily breathing...\n",
      "I am a programmer so I am breathing..\n"
     ]
    }
   ],
   "source": [
    "obj2 = employee()\n",
    "\n",
    "print(obj2.company)\n",
    "print(obj2.country)\n",
    "\n",
    "obj3.getSalary()\n",
    "obj3.takeBreath()"
   ]
  },
  {
   "cell_type": "code",
   "execution_count": 1,
   "id": "b64ea4a1",
   "metadata": {},
   "outputs": [
    {
     "name": "stdout",
     "output_type": "stream",
     "text": [
      "100\n",
      "455\n",
      "455\n"
     ]
    }
   ],
   "source": [
    "\n",
    "#class method\n",
    "\n",
    "class employee:\n",
    "    company=\"camel\"\n",
    "    salary=100\n",
    "    location=\"delhi\"\n",
    "    \n",
    "    @classmethod\n",
    "    def changeSalary(cls,sal):\n",
    "        cls.salary = sal\n",
    "\n",
    "e=employee()\n",
    "print(e.salary)\n",
    "e.changeSalary(455)\n",
    "print(e.salary)\n",
    "print(employee.salary)"
   ]
  },
  {
   "cell_type": "code",
   "execution_count": 4,
   "id": "eb2535e6",
   "metadata": {},
   "outputs": [
    {
     "name": "stdout",
     "output_type": "stream",
     "text": [
      "24\n"
     ]
    }
   ],
   "source": [
    "class student:\n",
    "    \n",
    "    def __init__(self,name,age,dept,rollno): \n",
    "        self.name = name\n",
    "        self.age = age\n",
    "        self.dept=dept\n",
    "        self.rollno = rollno\n",
    "        \n",
    "    def setName(self,name1):\n",
    "        self.name=name1\n",
    "        \n",
    "    def getName(self):\n",
    "        return self.name\n",
    "    \n",
    "    def setAge(self,age1):\n",
    "        self.age=age1\n",
    "        \n",
    "    def getAge(self):\n",
    "        return self.age\n",
    "    \n",
    "    def setDept(self,dept1):\n",
    "        self.dept=dept1\n",
    "        \n",
    "    def getDept(self):\n",
    "        return self.dept\n",
    "    \n",
    "    def setRollno(self,rollno1):\n",
    "        self.rollno=rollno1\n",
    "        \n",
    "    def getRollno(self):\n",
    "        return self.rollno\n",
    "    \n",
    "obj = student(\"ABc\",12,\"EEE\",45)    \n",
    "obj.setAge(24)\n",
    "print(obj.getAge())\n",
    "        \n",
    "        \n",
    "        \n",
    "        \n"
   ]
  },
  {
   "cell_type": "code",
   "execution_count": 5,
   "id": "d0cad3e2",
   "metadata": {},
   "outputs": [
    {
     "name": "stdout",
     "output_type": "stream",
     "text": [
      "24\n"
     ]
    }
   ],
   "source": [
    "class student:\n",
    "    \n",
    "    def __init__(self): \n",
    "        self.name = \"abc\"\n",
    "        self.age = 12\n",
    "        self.dept=\"eeee\"\n",
    "        self.rollno = 45\n",
    "        \n",
    "    def setName(self,name1):\n",
    "        self.name=name1\n",
    "        \n",
    "    def getName(self):\n",
    "        return self.name\n",
    "    \n",
    "    def setAge(self,age1):\n",
    "        self.age=age1\n",
    "        \n",
    "    def getAge(self):\n",
    "        return self.age\n",
    "    \n",
    "    def setDept(self,dept1):\n",
    "        self.dept=dept1\n",
    "        \n",
    "    def getDept(self):\n",
    "        return self.dept\n",
    "    \n",
    "    def setRollno(self,rollno1):\n",
    "        self.rollno=rollno1\n",
    "        \n",
    "    def getRollno(self):\n",
    "        return self.rollno\n",
    "    \n",
    "obj = student()    \n",
    "obj.setAge(24)\n",
    "print(obj.getAge())\n",
    "        "
   ]
  },
  {
   "cell_type": "code",
   "execution_count": 6,
   "id": "acd80cb1",
   "metadata": {},
   "outputs": [
    {
     "name": "stdout",
     "output_type": "stream",
     "text": [
      "Lets add\n",
      "10\n",
      "Lets multiply\n",
      "24\n"
     ]
    }
   ],
   "source": [
    "#Method overloading\n",
    "\n",
    "\n",
    "class number:\n",
    "    def __init__(self,num):\n",
    "        self.num=num\n",
    "        \n",
    "    def __add__(self,num2):\n",
    "        print(\"Lets add\")\n",
    "        return self.num+num2.num\n",
    "    \n",
    "    def __mul__(self,num2):\n",
    "        print(\"Lets multiply\")\n",
    "        return self.num * num2.num\n",
    "    \n",
    "n1 = number(4)\n",
    "n2 = number(6)\n",
    "print(n1.__add__(n2))\n",
    "print(n2.__mul__(n1))\n",
    "\n",
    "\n"
   ]
  },
  {
   "cell_type": "code",
   "execution_count": 4,
   "id": "3d0d3716",
   "metadata": {},
   "outputs": [],
   "source": [
    "#hiearchial inheritance\n",
    "\n",
    "class teacher:\n",
    "    def takeAttendance(self):\n",
    "        print(\"Teacher is taking attendance\")\n",
    "        \n",
    "        "
   ]
  },
  {
   "cell_type": "code",
   "execution_count": 5,
   "id": "5dce11c8",
   "metadata": {},
   "outputs": [],
   "source": [
    "class pythonteacher(teacher):\n",
    "    def teach(self):\n",
    "        print(\"python teacher is teaching python\")\n",
    "        "
   ]
  },
  {
   "cell_type": "code",
   "execution_count": 6,
   "id": "f40b5834",
   "metadata": {},
   "outputs": [],
   "source": [
    "class javateacher(teacher):\n",
    "    def teach(self):\n",
    "        print(\"java teacher is teaching java\")"
   ]
  },
  {
   "cell_type": "code",
   "execution_count": 7,
   "id": "4a619c52",
   "metadata": {},
   "outputs": [
    {
     "name": "stdout",
     "output_type": "stream",
     "text": [
      "Teacher is taking attendance\n"
     ]
    }
   ],
   "source": [
    "objteacher = teacher()\n",
    "objteacher.takeAttendance()"
   ]
  },
  {
   "cell_type": "code",
   "execution_count": 8,
   "id": "37da4625",
   "metadata": {},
   "outputs": [
    {
     "name": "stdout",
     "output_type": "stream",
     "text": [
      "Teacher is taking attendance\n",
      "python teacher is teaching python\n"
     ]
    }
   ],
   "source": [
    "objPython = pythonteacher()\n",
    "objPython.takeAttendance()\n",
    "objPython.teach()"
   ]
  },
  {
   "cell_type": "code",
   "execution_count": 9,
   "id": "fe0743c9",
   "metadata": {
    "scrolled": true
   },
   "outputs": [
    {
     "name": "stdout",
     "output_type": "stream",
     "text": [
      "Teacher is taking attendance\n",
      "java teacher is teaching java\n"
     ]
    }
   ],
   "source": [
    "objjava = javateacher()\n",
    "objjava.takeAttendance()\n",
    "objjava.teach()"
   ]
  },
  {
   "cell_type": "code",
   "execution_count": 16,
   "id": "4ed7d8be",
   "metadata": {},
   "outputs": [],
   "source": [
    "#Hybrid inheritance\n",
    "\n",
    "class school:\n",
    "    def func1(self):\n",
    "        print(\"this function is in school\")"
   ]
  },
  {
   "cell_type": "code",
   "execution_count": 17,
   "id": "789bf530",
   "metadata": {},
   "outputs": [],
   "source": [
    "class student1(school):\n",
    "    def func2(self):\n",
    "        print(\"this function is in student 1\")"
   ]
  },
  {
   "cell_type": "code",
   "execution_count": 18,
   "id": "7dd7d568",
   "metadata": {},
   "outputs": [],
   "source": [
    " class student2(school):\n",
    "    def func3(self):\n",
    "        print(\"this function is in student 2\")"
   ]
  },
  {
   "cell_type": "code",
   "execution_count": 19,
   "id": "36fb8ef6",
   "metadata": {},
   "outputs": [],
   "source": [
    "class student3(student1,school):\n",
    "    def func4(self):\n",
    "        print(\"this function is in student 3\")"
   ]
  },
  {
   "cell_type": "code",
   "execution_count": 22,
   "id": "755fdb32",
   "metadata": {},
   "outputs": [
    {
     "name": "stdout",
     "output_type": "stream",
     "text": [
      "this function is in school\n"
     ]
    }
   ],
   "source": [
    "obj1 = school()\n",
    "obj1.func1()"
   ]
  },
  {
   "cell_type": "code",
   "execution_count": 23,
   "id": "98bcecbb",
   "metadata": {},
   "outputs": [
    {
     "name": "stdout",
     "output_type": "stream",
     "text": [
      "this function is in student 1\n"
     ]
    }
   ],
   "source": [
    "obj2 = student1()\n",
    "obj2.func2()"
   ]
  },
  {
   "cell_type": "code",
   "execution_count": 26,
   "id": "a3d6c24d",
   "metadata": {},
   "outputs": [
    {
     "name": "stdout",
     "output_type": "stream",
     "text": [
      "this function is in school\n",
      "this function is in student 2\n"
     ]
    }
   ],
   "source": [
    "obj3 = student2()\n",
    "obj3.func1()\n",
    "obj3.func3()"
   ]
  },
  {
   "cell_type": "code",
   "execution_count": 27,
   "id": "8bb742da",
   "metadata": {},
   "outputs": [
    {
     "name": "stdout",
     "output_type": "stream",
     "text": [
      "this function is in school\n",
      "this function is in student 1\n",
      "this function is in student 3\n"
     ]
    }
   ],
   "source": [
    "obj4 = student3()\n",
    "obj4.func1()\n",
    "obj4.func2()\n",
    "obj4.func4()"
   ]
  },
  {
   "cell_type": "markdown",
   "id": "b2f3234e",
   "metadata": {},
   "source": [
    "# Polymorphism\n",
    "\n"
   ]
  },
  {
   "cell_type": "code",
   "execution_count": 39,
   "id": "0c65b359",
   "metadata": {},
   "outputs": [],
   "source": [
    "class crow:\n",
    "    def type(self):\n",
    "        print(\"bird\")\n",
    "    def color(self):\n",
    "        print(\"Black\")\n",
    "        \n"
   ]
  },
  {
   "cell_type": "code",
   "execution_count": 40,
   "id": "a55202ae",
   "metadata": {},
   "outputs": [],
   "source": [
    "class apple:\n",
    "    def type(self):\n",
    "        print(\"fruit\")\n",
    "    def color(self):\n",
    "        print(\"red\")\n",
    "        \n"
   ]
  },
  {
   "cell_type": "code",
   "execution_count": 41,
   "id": "d220400f",
   "metadata": {},
   "outputs": [],
   "source": [
    "def func(obj):\n",
    "    obj.type()\n",
    "    obj.color()\n",
    "    \n"
   ]
  },
  {
   "cell_type": "code",
   "execution_count": 42,
   "id": "9facf85d",
   "metadata": {},
   "outputs": [],
   "source": [
    "obj_crow = crow()\n",
    "obj_apple = apple()"
   ]
  },
  {
   "cell_type": "code",
   "execution_count": 43,
   "id": "2ad066df",
   "metadata": {},
   "outputs": [
    {
     "name": "stdout",
     "output_type": "stream",
     "text": [
      "bird\n",
      "Black\n",
      "fruit\n",
      "red\n"
     ]
    }
   ],
   "source": [
    "func(obj_crow)\n",
    "func(obj_apple)"
   ]
  },
  {
   "cell_type": "code",
   "execution_count": 45,
   "id": "69681050",
   "metadata": {},
   "outputs": [
    {
     "name": "stdout",
     "output_type": "stream",
     "text": [
      "inside child class\n",
      "inside parent class\n"
     ]
    }
   ],
   "source": [
    "#method overriding\n",
    "\n",
    "class parent:\n",
    "    def display(self):\n",
    "        print(\"inside parent class\")\n",
    "        \n",
    "class child:\n",
    "    def display(self):\n",
    "        print(\"inside child class\")\n",
    "        \n",
    "c=child()\n",
    "c.display()\n",
    "\n",
    "p=parent()\n",
    "p.display()"
   ]
  },
  {
   "cell_type": "code",
   "execution_count": 46,
   "id": "359688f4",
   "metadata": {},
   "outputs": [],
   "source": [
    "class parent:\n",
    "    def display(self):\n",
    "        print(\"inside parent class\")\n",
    "        \n",
    "class child:\n",
    "    def display(self):\n",
    "        print(\"inside child class\")\n",
    "        "
   ]
  },
  {
   "cell_type": "code",
   "execution_count": 50,
   "id": "a11deb7c",
   "metadata": {},
   "outputs": [],
   "source": [
    "def func(obj):\n",
    "    obj.display()\n",
    "    "
   ]
  },
  {
   "cell_type": "code",
   "execution_count": 51,
   "id": "921f2b8d",
   "metadata": {},
   "outputs": [],
   "source": [
    "obj_parent = parent()\n",
    "obj_child = child()"
   ]
  },
  {
   "cell_type": "code",
   "execution_count": 52,
   "id": "2ea18a3b",
   "metadata": {},
   "outputs": [
    {
     "name": "stdout",
     "output_type": "stream",
     "text": [
      "inside parent class\n",
      "inside child class\n"
     ]
    }
   ],
   "source": [
    "func(obj_parent)\n",
    "func(obj_child)"
   ]
  },
  {
   "cell_type": "code",
   "execution_count": 53,
   "id": "02300428",
   "metadata": {},
   "outputs": [],
   "source": [
    "class calculator:\n",
    "    def calc(self,a,b):\n",
    "        print(a+b)\n",
    "    def calc(self,a,b,c):\n",
    "        print(a+b+c)\n",
    "    def calc(self,a,b,c,d):\n",
    "        print(a+b+c+d)\n",
    "c=calculator()\n",
    "    "
   ]
  },
  {
   "cell_type": "code",
   "execution_count": 54,
   "id": "90e7b291",
   "metadata": {},
   "outputs": [
    {
     "ename": "TypeError",
     "evalue": "calculator.calc() missing 2 required positional arguments: 'c' and 'd'",
     "output_type": "error",
     "traceback": [
      "\u001b[1;31m---------------------------------------------------------------------------\u001b[0m",
      "\u001b[1;31mTypeError\u001b[0m                                 Traceback (most recent call last)",
      "Cell \u001b[1;32mIn[54], line 1\u001b[0m\n\u001b[1;32m----> 1\u001b[0m c\u001b[38;5;241m.\u001b[39mcalc(\u001b[38;5;241m10\u001b[39m,\u001b[38;5;241m20\u001b[39m)\n",
      "\u001b[1;31mTypeError\u001b[0m: calculator.calc() missing 2 required positional arguments: 'c' and 'd'"
     ]
    }
   ],
   "source": [
    "c.calc(10,20)"
   ]
  },
  {
   "cell_type": "code",
   "execution_count": 55,
   "id": "8074ffa2",
   "metadata": {},
   "outputs": [
    {
     "name": "stdout",
     "output_type": "stream",
     "text": [
      "80\n"
     ]
    }
   ],
   "source": [
    "c.calc(10,20,20,30)"
   ]
  },
  {
   "cell_type": "code",
   "execution_count": 57,
   "id": "507d9c1e",
   "metadata": {},
   "outputs": [
    {
     "name": "stdout",
     "output_type": "stream",
     "text": [
      "30\n",
      "ArunaL B \n",
      "455.12\n"
     ]
    }
   ],
   "source": [
    "#operator overloading\n",
    "\n",
    "class calc:\n",
    "    def add(self,a,b):\n",
    "        print(a+b)\n",
    "        \n",
    "c=calc()\n",
    "c.add(10,20)\n",
    "c.add(\"Aruna\" , \"L B \")\n",
    "c.add(1.00 ,454.12)"
   ]
  },
  {
   "cell_type": "markdown",
   "id": "4a8622a0",
   "metadata": {},
   "source": [
    "# Encapsulation\n",
    "\n"
   ]
  },
  {
   "cell_type": "code",
   "execution_count": 58,
   "id": "6a906187",
   "metadata": {},
   "outputs": [
    {
     "name": "stdout",
     "output_type": "stream",
     "text": [
      "Name : Raj salary : 5000\n",
      "Raj is working on python_project\n"
     ]
    }
   ],
   "source": [
    "class employee:\n",
    "    def __init__(self,name,salary,project):\n",
    "        self.name = name\n",
    "        self.salary = salary\n",
    "        self.project = project\n",
    "        \n",
    "    def show(self):\n",
    "        print(\"Name :\",self.name , 'salary :',self.salary)\n",
    "    def work(self):\n",
    "        print(self.name , 'is working on' , self.project )\n",
    "\n",
    "emp = employee('Raj' , 5000 , 'python_project')\n",
    "emp.show()\n",
    "emp.work()        \n"
   ]
  },
  {
   "cell_type": "markdown",
   "id": "dd80958d",
   "metadata": {},
   "source": [
    "# Abstract"
   ]
  },
  {
   "cell_type": "code",
   "execution_count": 19,
   "id": "68b2efce",
   "metadata": {},
   "outputs": [
    {
     "name": "stdout",
     "output_type": "stream",
     "text": [
      "Its running\n"
     ]
    }
   ],
   "source": [
    "from abc import ABC,abstractmethod\n",
    "\n",
    "class computer(ABC):\n",
    "    \n",
    "    @abstractmethod\n",
    "    def process(self):\n",
    "        pass\n",
    "    \n",
    "class laptop(computer):\n",
    "    def process(self):\n",
    "        print(\"Its running\")\n",
    "        \n",
    "        \n",
    "com1 = laptop()\n",
    "#com = computer()\n",
    "#com.process()\n",
    "com1.process()\n",
    "        "
   ]
  },
  {
   "cell_type": "code",
   "execution_count": 13,
   "id": "e967fe12",
   "metadata": {},
   "outputs": [
    {
     "name": "stdout",
     "output_type": "stream",
     "text": [
      "Its running\n"
     ]
    }
   ],
   "source": [
    "from abc import ABC,abstractmethod\n",
    "\n",
    "class computer():\n",
    "    \n",
    "    @abstractmethod\n",
    "    def process(self):\n",
    "        pass\n",
    "    \n",
    "class laptop(computer):\n",
    "    def process(self):\n",
    "        print(\"Its running\")\n",
    "        \n",
    "        \n",
    "com1=laptop()\n",
    "com1.process()"
   ]
  },
  {
   "cell_type": "code",
   "execution_count": 25,
   "id": "ef7366c1",
   "metadata": {},
   "outputs": [],
   "source": [
    "from abc import ABC,abstractmethod\n",
    "\n",
    "class oper(ABC):\n",
    "    \n",
    "    def add(self,a,b):\n",
    "        add = a+b\n",
    "        return add\n",
    "    \n",
    "    def sub(self,a,b):\n",
    "        sub = a-b\n",
    "        return sub\n",
    "    \n",
    "    @abstractmethod\n",
    "    def mul(self):\n",
    "         pass\n",
    "        \n",
    "    @abstractmethod\n",
    "    def div(self):\n",
    "         pass  \n",
    "        \n",
    "class cal(oper):\n",
    "    \n",
    "    def add(self,a,b,c):\n",
    "        add = a+b+c\n",
    "        return add\n",
    "    def sub(self,a,b,c):\n",
    "        sub = a-b-c\n",
    "        return sub\n",
    "    def mul(self,a,b):\n",
    "        mul = a*b\n",
    "        return mul\n",
    "    def div(Self,a,b):\n",
    "        div = a/b\n",
    "        return div\n"
   ]
  },
  {
   "cell_type": "code",
   "execution_count": 27,
   "id": "d186418d",
   "metadata": {},
   "outputs": [
    {
     "data": {
      "text/plain": [
       "10"
      ]
     },
     "execution_count": 27,
     "metadata": {},
     "output_type": "execute_result"
    }
   ],
   "source": [
    "obj = cal()\n",
    "obj.add(2,4,4)"
   ]
  },
  {
   "cell_type": "code",
   "execution_count": 28,
   "id": "d1065864",
   "metadata": {},
   "outputs": [
    {
     "data": {
      "text/plain": [
       "-3"
      ]
     },
     "execution_count": 28,
     "metadata": {},
     "output_type": "execute_result"
    }
   ],
   "source": [
    "obj.sub(7,6,4)"
   ]
  },
  {
   "cell_type": "code",
   "execution_count": 30,
   "id": "12f5bb9e",
   "metadata": {},
   "outputs": [
    {
     "data": {
      "text/plain": [
       "36"
      ]
     },
     "execution_count": 30,
     "metadata": {},
     "output_type": "execute_result"
    }
   ],
   "source": [
    "obj.mul(6,6)"
   ]
  },
  {
   "cell_type": "code",
   "execution_count": 31,
   "id": "bddbb5d8",
   "metadata": {},
   "outputs": [
    {
     "data": {
      "text/plain": [
       "2.0"
      ]
     },
     "execution_count": 31,
     "metadata": {},
     "output_type": "execute_result"
    }
   ],
   "source": [
    "obj.div(8,4)"
   ]
  },
  {
   "cell_type": "code",
   "execution_count": null,
   "id": "d92f9374",
   "metadata": {},
   "outputs": [],
   "source": []
  }
 ],
 "metadata": {
  "kernelspec": {
   "display_name": "Python 3 (ipykernel)",
   "language": "python",
   "name": "python3"
  },
  "language_info": {
   "codemirror_mode": {
    "name": "ipython",
    "version": 3
   },
   "file_extension": ".py",
   "mimetype": "text/x-python",
   "name": "python",
   "nbconvert_exporter": "python",
   "pygments_lexer": "ipython3",
   "version": "3.11.5"
  }
 },
 "nbformat": 4,
 "nbformat_minor": 5
}
