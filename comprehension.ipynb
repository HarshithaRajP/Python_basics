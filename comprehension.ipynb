{
 "cells": [
  {
   "cell_type": "code",
   "execution_count": 1,
   "id": "72251326",
   "metadata": {},
   "outputs": [
    {
     "name": "stdout",
     "output_type": "stream",
     "text": [
      "[0, 1, 2, 3, 4, 5, 6, 7, 8, 9]\n"
     ]
    }
   ],
   "source": [
    "li =[]\n",
    "for x in range(10):\n",
    "    li.append(x)\n",
    "print(li)    \n",
    "    "
   ]
  },
  {
   "cell_type": "code",
   "execution_count": 2,
   "id": "4cde1ce9",
   "metadata": {},
   "outputs": [],
   "source": [
    "li = [x for x in range(10)]"
   ]
  },
  {
   "cell_type": "code",
   "execution_count": 3,
   "id": "a46cc65b",
   "metadata": {},
   "outputs": [
    {
     "name": "stdout",
     "output_type": "stream",
     "text": [
      "[0, 1, 2, 3, 4, 5, 6, 7, 8, 9]\n"
     ]
    }
   ],
   "source": [
    "print(li)"
   ]
  },
  {
   "cell_type": "code",
   "execution_count": 4,
   "id": "729d0a32",
   "metadata": {},
   "outputs": [
    {
     "name": "stdout",
     "output_type": "stream",
     "text": [
      "[0, 1, 4, 9, 16, 25, 36, 49, 64, 81]\n"
     ]
    }
   ],
   "source": [
    "li = []\n",
    "for x in range(10):\n",
    "    li.append(x ** 2)\n",
    "print(li)    "
   ]
  },
  {
   "cell_type": "code",
   "execution_count": 5,
   "id": "0823a5e2",
   "metadata": {},
   "outputs": [
    {
     "name": "stdout",
     "output_type": "stream",
     "text": [
      "[0, 1, 4, 9, 16, 25, 36, 49, 64, 81]\n"
     ]
    }
   ],
   "source": [
    "li = [x ** 2 for x in range(10)]\n",
    "print(li)"
   ]
  },
  {
   "cell_type": "code",
   "execution_count": 6,
   "id": "f7c64a64",
   "metadata": {},
   "outputs": [
    {
     "name": "stdout",
     "output_type": "stream",
     "text": [
      "[1, 1, 4, 27, 256, 3125, 46656, 823543, 16777216, 387420489]\n"
     ]
    }
   ],
   "source": [
    "li =[]\n",
    "for x in range(10):\n",
    "    li.append(x ** x)\n",
    "print(li)    "
   ]
  },
  {
   "cell_type": "code",
   "execution_count": 7,
   "id": "0ab74ae7",
   "metadata": {},
   "outputs": [
    {
     "name": "stdout",
     "output_type": "stream",
     "text": [
      "[1, 1, 4, 27, 256, 3125, 46656, 823543, 16777216, 387420489]\n"
     ]
    }
   ],
   "source": [
    "print([x ** x for x in range(10)])"
   ]
  },
  {
   "cell_type": "code",
   "execution_count": 8,
   "id": "9db2e2ba",
   "metadata": {},
   "outputs": [
    {
     "name": "stdout",
     "output_type": "stream",
     "text": [
      "[11, 12, 13, 14, 15, 16, 17, 18, 19]\n"
     ]
    }
   ],
   "source": [
    "li =[]\n",
    "for x in range(1,10):\n",
    "    li.append(x+10)\n",
    "print(li)   "
   ]
  },
  {
   "cell_type": "code",
   "execution_count": 9,
   "id": "d975d6a2",
   "metadata": {},
   "outputs": [
    {
     "name": "stdout",
     "output_type": "stream",
     "text": [
      "[11, 12, 13, 14, 15, 16, 17, 18, 19]\n"
     ]
    }
   ],
   "source": [
    "print([x + 10 for x in range(1,10)])"
   ]
  },
  {
   "cell_type": "code",
   "execution_count": 10,
   "id": "a22f3bc6",
   "metadata": {},
   "outputs": [
    {
     "name": "stdout",
     "output_type": "stream",
     "text": [
      "---using LIST COMPREHENSION------ ['P', 'Y', 'T', 'H', 'O', 'N']\n"
     ]
    }
   ],
   "source": [
    "h_letters = [letter for letter in 'PYTHON']\n",
    "print(\"---using LIST COMPREHENSION------\",h_letters)"
   ]
  },
  {
   "cell_type": "code",
   "execution_count": 11,
   "id": "32173e29",
   "metadata": {},
   "outputs": [
    {
     "name": "stdout",
     "output_type": "stream",
     "text": [
      "p\n",
      "y\n",
      "t\n",
      "h\n",
      "o\n",
      "n\n"
     ]
    }
   ],
   "source": [
    "for i in 'python':\n",
    "    print(i)"
   ]
  },
  {
   "cell_type": "code",
   "execution_count": 12,
   "id": "1dbb5a2f",
   "metadata": {},
   "outputs": [
    {
     "name": "stdout",
     "output_type": "stream",
     "text": [
      "Normal for loop :  {1: 1, 2: 4, 3: 9, 4: 16, 5: 25}\n"
     ]
    }
   ],
   "source": [
    "vals =[1,2,3,4,5]\n",
    "\n",
    "di ={}\n",
    "for each in vals:\n",
    "    di[each] = each*each\n",
    "print(\"Normal for loop : \",di)    "
   ]
  },
  {
   "cell_type": "code",
   "execution_count": 13,
   "id": "b1117dad",
   "metadata": {},
   "outputs": [
    {
     "name": "stdout",
     "output_type": "stream",
     "text": [
      "list comprehension: {1: 1, 2: 4, 3: 9, 4: 16, 5: 25}\n"
     ]
    }
   ],
   "source": [
    "di = {each : each*each for each in vals}\n",
    "\n",
    "print(\"list comprehension:\",di)"
   ]
  },
  {
   "cell_type": "code",
   "execution_count": 16,
   "id": "7dbb3262",
   "metadata": {},
   "outputs": [
    {
     "name": "stdout",
     "output_type": "stream",
     "text": [
      "Using normal for loop :   {1, 4, 36, 9, 16, 25}\n",
      "Using set comprehension : {16, 1, 4, 36, 9, 25}\n"
     ]
    }
   ],
   "source": [
    "#SET\n",
    "\n",
    "set1 = set({})\n",
    "for each in range(1,7):\n",
    "    set1.add(each*each)\n",
    "    \n",
    "print(\"Using normal for loop :  \", set1)\n",
    "set1 = set({ each*each for each in range(1,7)})\n",
    "\n",
    "print(\"Using set comprehension :\",set1)"
   ]
  },
  {
   "cell_type": "code",
   "execution_count": 20,
   "id": "dd8fe811",
   "metadata": {},
   "outputs": [
    {
     "name": "stdout",
     "output_type": "stream",
     "text": [
      "ITERATOR objecct : <list_iterator object at 0x00000275ADD862C0>\n",
      "connective elements\n",
      "4\n"
     ]
    }
   ],
   "source": [
    "#Iterators\n",
    "\n",
    "my_list = [4,7,0,3]\n",
    "my_iter = my_list.__iter__()\n",
    "print(\"ITERATOR objecct :\",my_iter)\n",
    "print(\"connective elements\")\n",
    "print(my_iter.__next__())\n",
    "\n"
   ]
  },
  {
   "cell_type": "code",
   "execution_count": 21,
   "id": "32f7f56d",
   "metadata": {},
   "outputs": [
    {
     "name": "stdout",
     "output_type": "stream",
     "text": [
      "7\n"
     ]
    }
   ],
   "source": [
    "print(my_iter.__next__())\n"
   ]
  },
  {
   "cell_type": "code",
   "execution_count": 22,
   "id": "02208f00",
   "metadata": {},
   "outputs": [
    {
     "name": "stdout",
     "output_type": "stream",
     "text": [
      "0\n"
     ]
    }
   ],
   "source": [
    "print(my_iter.__next__())"
   ]
  },
  {
   "cell_type": "code",
   "execution_count": 24,
   "id": "b4e106d6",
   "metadata": {},
   "outputs": [
    {
     "name": "stdout",
     "output_type": "stream",
     "text": [
      "3\n"
     ]
    }
   ],
   "source": [
    "print(my_iter.__next__())"
   ]
  },
  {
   "cell_type": "code",
   "execution_count": 25,
   "id": "565487dc",
   "metadata": {},
   "outputs": [
    {
     "name": "stdout",
     "output_type": "stream",
     "text": [
      "4\n",
      "7\n",
      "0\n",
      "3\n"
     ]
    }
   ],
   "source": [
    "my_list = [4,7,0,3]\n",
    "\n",
    "for i in my_list:\n",
    "    print(i)"
   ]
  },
  {
   "cell_type": "code",
   "execution_count": 30,
   "id": "44f07a40",
   "metadata": {},
   "outputs": [
    {
     "name": "stdout",
     "output_type": "stream",
     "text": [
      "4\n",
      "7\n",
      "0\n",
      "3\n",
      "stopIteartion: Stopping iteartions\n"
     ]
    }
   ],
   "source": [
    "my_list = [4,7,0,3]\n",
    "my_iter = my_list.__iter__()\n",
    "try:\n",
    "    print(my_iter.__next__())\n",
    "    print(my_iter.__next__())\n",
    "    print(my_iter.__next__())\n",
    "    print(my_iter.__next__())\n",
    "    print(my_iter.__next__())\n",
    "except StopIteration as si:\n",
    "    print(\"stopIteartion: Stopping iteartions\")\n",
    "    \n",
    "    "
   ]
  },
  {
   "cell_type": "code",
   "execution_count": 31,
   "id": "f8b226bb",
   "metadata": {},
   "outputs": [],
   "source": [
    "class PowTwo:\n",
    "    \n",
    "    def __init__(self,max=0):\n",
    "        self.max = max\n",
    "    def __iter__(self):\n",
    "        self.n=0\n",
    "        return self\n",
    "    def __next__(self):\n",
    "        if self.n <= self.max:\n",
    "            result = 2 ** self.n\n",
    "            self.n +=1\n",
    "            return result\n",
    "        else:\n",
    "            print(\"Stopping iterations\")"
   ]
  },
  {
   "cell_type": "code",
   "execution_count": 34,
   "id": "09e9ebdd",
   "metadata": {},
   "outputs": [
    {
     "name": "stdout",
     "output_type": "stream",
     "text": [
      "1\n",
      "2\n",
      "4\n",
      "8\n",
      "16\n",
      "32\n",
      "64\n",
      "128\n",
      "Stopping iterations\n",
      "None\n"
     ]
    }
   ],
   "source": [
    "myObj = PowTwo(7)\n",
    "myIter =iter(myObj)\n",
    "print(next(myIter))\n",
    "print(next(myIter))\n",
    "print(next(myIter))\n",
    "print(next(myIter))\n",
    "print(next(myIter))\n",
    "print(next(myIter))\n",
    "print(next(myIter))\n",
    "print(next(myIter))\n",
    "print(next(myIter))\n",
    "\n",
    "\n",
    "\n",
    "\n",
    "\n",
    "\n",
    "\n",
    "\n"
   ]
  },
  {
   "cell_type": "code",
   "execution_count": null,
   "id": "9dd89a0f",
   "metadata": {},
   "outputs": [],
   "source": []
  }
 ],
 "metadata": {
  "kernelspec": {
   "display_name": "Python 3 (ipykernel)",
   "language": "python",
   "name": "python3"
  },
  "language_info": {
   "codemirror_mode": {
    "name": "ipython",
    "version": 3
   },
   "file_extension": ".py",
   "mimetype": "text/x-python",
   "name": "python",
   "nbconvert_exporter": "python",
   "pygments_lexer": "ipython3",
   "version": "3.11.5"
  }
 },
 "nbformat": 4,
 "nbformat_minor": 5
}
